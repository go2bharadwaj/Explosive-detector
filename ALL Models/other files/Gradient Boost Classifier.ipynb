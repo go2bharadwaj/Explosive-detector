{
 "cells": [
  {
   "cell_type": "markdown",
   "metadata": {},
   "source": [
    "# Gradient Boost Classifier\n",
    "\n",
    " - Goal: To Apply Gradient Boost Classifier to several models to test Recall, Accuracy, F1 score and ROC AUC Score, using diffrent features inputs "
   ]
  },
  {
   "cell_type": "markdown",
   "metadata": {
    "ExecuteTime": {
     "end_time": "2020-06-08T05:16:25.710628Z",
     "start_time": "2020-06-08T05:16:25.706606Z"
    },
    "heading_collapsed": true
   },
   "source": [
    "## Import Statemenets"
   ]
  },
  {
   "cell_type": "code",
   "execution_count": 48,
   "metadata": {
    "ExecuteTime": {
     "end_time": "2020-06-08T20:04:01.482182Z",
     "start_time": "2020-06-08T20:04:01.457728Z"
    },
    "hidden": true
   },
   "outputs": [],
   "source": [
    "import pandas as pd\n",
    "import numpy as np\n",
    "\n",
    "#import matplotlib as plt\n",
    "import matplotlib.pyplot as plt\n",
    "from mpl_toolkits.mplot3d import axes3d\n",
    "from rdkit import Chem\n",
    "\n",
    "# FEATURES\n",
    "from rdkit.Chem import Descriptors\n",
    "from rdkit.Chem import AllChem # For Morgan Fingerprint (Circular Fingerprints)\n",
    "from rdkit.Chem import MACCSkeys # For MACCS keys\n",
    "\n",
    "# SCALING DATA\n",
    "from sklearn.preprocessing import scale\n",
    "\n",
    "# For splitting data into training and test sets.\n",
    "from sklearn.model_selection import train_test_split\n",
    "\n",
    "# For processing how well our methods have classified our data\n",
    "from sklearn.metrics import accuracy_score, confusion_matrix, recall_score, precision_score, f1_score,roc_auc_score\n",
    "\n",
    "# Principal Component Analysis (PCA)\n",
    "from sklearn.decomposition import PCA\n",
    "\n",
    "# Logistic Regression ML Model\n",
    "from sklearn.linear_model import LogisticRegression\n",
    "\n",
    "from sklearn.ensemble import GradientBoostingClassifier"
   ]
  },
  {
   "cell_type": "markdown",
   "metadata": {
    "heading_collapsed": true
   },
   "source": [
    "## User Defined Helper Functions"
   ]
  },
  {
   "cell_type": "code",
   "execution_count": 49,
   "metadata": {
    "ExecuteTime": {
     "end_time": "2020-06-08T20:04:01.822854Z",
     "start_time": "2020-06-08T20:04:01.802872Z"
    },
    "hidden": true
   },
   "outputs": [],
   "source": [
    "####################################################################\n",
    "###\n",
    "###    User Defined Helper Functions\n",
    "###\n",
    "####################################################################\n",
    "\n",
    "# FUNCTION LOAD_DATA\n",
    "# Load the data from the csv file in the [data] folder. We separate \n",
    "# the molecule data from the \"explosive\" labes and return the labels\n",
    "# an a molecules from SMILES representation for each molecule in the \n",
    "# dataset\n",
    "def load_data(data_file):\n",
    "    mol_df = pd.read_csv(data_file)\n",
    "\n",
    "    smiles = np.array(mol_df['smiles'])\n",
    "    labels = np.array(mol_df['labels']) \n",
    "    \n",
    "    mols = np.array([Chem.MolFromSmiles(smile) for smile in smiles])\n",
    "    \n",
    "    return mols, labels\n",
    "\n",
    "# FUNCTION GEN_FPRINTS\n",
    "# Generate molecule fingerprints for each molecule in an input list\n",
    "def gen_fprints(mols):\n",
    "    f_prints = np.array([Chem.RDKFingerprint(mol) for mol in mols])  \n",
    "    return f_prints\n",
    "\n",
    "# FUNCTION gen_MACCS \n",
    "# Generate the MACCS keys for each molecule in an input list of molecules\n",
    "def gen_MACCS(mols):\n",
    "    MACCS_keys = np.array([MACCSkeys.GenMACCSKeys(mol) for mol in mols])\n",
    "    return MACCS_keys\n",
    "\n",
    "# FUNCTION gen_morgan_prints\n",
    "# Generates Morgan finger prints for each molecule in an input list of molecules\n",
    "def gen_morgan_prints(mols,radius):\n",
    "    morgan_prints = np.array([AllChem.GetMorganFingerprintAsBitVect(mol,radius,nBits=1024) for mol in mols])\n",
    "    return morgan_prints"
   ]
  },
  {
   "cell_type": "markdown",
   "metadata": {
    "heading_collapsed": true
   },
   "source": [
    "## Loading Data"
   ]
  },
  {
   "cell_type": "code",
   "execution_count": 50,
   "metadata": {
    "ExecuteTime": {
     "end_time": "2020-06-08T20:04:04.595697Z",
     "start_time": "2020-06-08T20:04:02.073181Z"
    },
    "hidden": true
   },
   "outputs": [],
   "source": [
    "data_file = 'molecule_data.csv'\n",
    "mols, labels = load_data(data_file)"
   ]
  },
  {
   "cell_type": "markdown",
   "metadata": {
    "ExecuteTime": {
     "end_time": "2020-06-08T05:17:35.511955Z",
     "start_time": "2020-06-08T05:17:35.508960Z"
    },
    "heading_collapsed": true
   },
   "source": [
    "## Using Morgan Features"
   ]
  },
  {
   "cell_type": "code",
   "execution_count": 51,
   "metadata": {
    "ExecuteTime": {
     "end_time": "2020-06-08T20:04:18.520170Z",
     "start_time": "2020-06-08T20:04:04.599657Z"
    },
    "hidden": true
   },
   "outputs": [],
   "source": [
    "# load different molecular features separately\n",
    "##############################################\n",
    "#rdk_features    = gen_fprints(mols)\n",
    "#maccs_features  = gen_MACCS(mols)\n",
    "morgan_features = gen_morgan_prints(mols,radius=18)"
   ]
  },
  {
   "cell_type": "code",
   "execution_count": 52,
   "metadata": {
    "ExecuteTime": {
     "end_time": "2020-06-08T20:04:18.560344Z",
     "start_time": "2020-06-08T20:04:18.524155Z"
    },
    "hidden": true
   },
   "outputs": [],
   "source": [
    "# Split data for [training] and [testing]\n",
    "morgan_train, morgan_test, label_train, label_test = train_test_split(morgan_features, labels, \\\n",
    "                                                                test_size=0.3, shuffle=True)"
   ]
  },
  {
   "cell_type": "code",
   "execution_count": 53,
   "metadata": {
    "ExecuteTime": {
     "end_time": "2020-06-08T20:04:18.785739Z",
     "start_time": "2020-06-08T20:04:18.566328Z"
    },
    "hidden": true
   },
   "outputs": [],
   "source": [
    "######################\n",
    "# Principal Components\n",
    "######################\n",
    "\n",
    "# Determine principal components using [training data] and apply the transformation to the [test data]\n",
    "PC_morgan_proj = PCA(n_components=4)\n",
    "morgan_proj_train = PC_morgan_proj.fit_transform(morgan_train)\n",
    "morgan_proj_test = PC_morgan_proj.transform(morgan_test)"
   ]
  },
  {
   "cell_type": "markdown",
   "metadata": {
    "heading_collapsed": true,
    "hidden": true
   },
   "source": [
    "### Gradient Boosting with PCA"
   ]
  },
  {
   "cell_type": "code",
   "execution_count": 54,
   "metadata": {
    "ExecuteTime": {
     "end_time": "2020-06-08T20:04:19.754159Z",
     "start_time": "2020-06-08T20:04:18.789730Z"
    },
    "hidden": true
   },
   "outputs": [],
   "source": [
    "#########################################################################\n",
    "#\n",
    "# Model with PCA\n",
    "#\n",
    "#########################################################################\n",
    "# Train Logistic Regression model using PC transformed Morgan features\n",
    "GR = GradientBoostingClassifier(n_estimators = 100)\n",
    "model = GR.fit(morgan_proj_train,label_train)\n",
    "pred = model.predict(morgan_proj_test)\n"
   ]
  },
  {
   "cell_type": "code",
   "execution_count": 55,
   "metadata": {
    "ExecuteTime": {
     "end_time": "2020-06-08T20:04:19.787092Z",
     "start_time": "2020-06-08T20:04:19.757150Z"
    },
    "hidden": true
   },
   "outputs": [
    {
     "name": "stdout",
     "output_type": "stream",
     "text": [
      "Confusion Matrix\n",
      "[[1170    7]\n",
      " [   9   71]]\n",
      "\n",
      "Recall\n",
      "0.8875\n",
      "\n",
      "Accuracy\n",
      "0.9872712808273667\n",
      "\n",
      "F1 Score\n",
      "0.8987341772151898\n",
      "\n",
      "ROC AUC Score\n",
      "0.9407763381478335\n"
     ]
    }
   ],
   "source": [
    "# Model Generalizability Analysis\n",
    "accuracy = accuracy_score(label_test, pred)\n",
    "conf_matrix = confusion_matrix(label_test, pred)\n",
    "F1Score = f1_score(label_test,pred)\n",
    "roc_auc = roc_auc_score(label_test,pred)\n",
    "recall = recall_score(label_test,pred)\n",
    "\n",
    "print('Confusion Matrix')\n",
    "print(conf_matrix)\n",
    "\n",
    "print('\\nRecall')\n",
    "print(recall)  \n",
    "\n",
    "print('\\nAccuracy')\n",
    "print(accuracy)  \n",
    "\n",
    "print('\\nF1 Score')\n",
    "print(F1Score)\n",
    "\n",
    "print('\\nROC AUC Score')\n",
    "print(roc_auc)"
   ]
  },
  {
   "cell_type": "markdown",
   "metadata": {
    "heading_collapsed": true,
    "hidden": true
   },
   "source": [
    "### Gradient Boosting [WITHOUT] PCA"
   ]
  },
  {
   "cell_type": "code",
   "execution_count": 56,
   "metadata": {
    "ExecuteTime": {
     "end_time": "2020-06-08T20:04:44.667738Z",
     "start_time": "2020-06-08T20:04:19.789064Z"
    },
    "hidden": true
   },
   "outputs": [],
   "source": [
    "#########################################################################\n",
    "#\n",
    "# Gradient Boost [WITHOUT] PCA\n",
    "#\n",
    "#########################################################################\n",
    "# Train Logistic Regression model using PC transformed Morgan features\n",
    "\n",
    "GR = GradientBoostingClassifier(n_estimators = 100)\n",
    "model = GR.fit(morgan_train,label_train)\n",
    "pred = model.predict(morgan_test)\n"
   ]
  },
  {
   "cell_type": "code",
   "execution_count": 57,
   "metadata": {
    "ExecuteTime": {
     "end_time": "2020-06-08T20:04:44.716602Z",
     "start_time": "2020-06-08T20:04:44.671721Z"
    },
    "hidden": true
   },
   "outputs": [
    {
     "name": "stdout",
     "output_type": "stream",
     "text": [
      "Confusion Matrix\n",
      "[[1169    8]\n",
      " [   6   74]]\n",
      "\n",
      "Recall\n",
      "0.925\n",
      "\n",
      "Accuracy\n",
      "0.9888623707239459\n",
      "\n",
      "F1 Score\n",
      "0.9135802469135802\n",
      "\n",
      "ROC AUC Score\n",
      "0.9591015293118097\n"
     ]
    }
   ],
   "source": [
    "# Model Generalizability Analysis\n",
    "accuracy = accuracy_score(label_test, pred)\n",
    "conf_matrix = confusion_matrix(label_test, pred)\n",
    "F1Score = f1_score(label_test,pred)\n",
    "roc_auc = roc_auc_score(label_test,pred)\n",
    "recall = recall_score(label_test,pred)\n",
    "\n",
    "print('Confusion Matrix')\n",
    "print(conf_matrix)\n",
    "\n",
    "print('\\nRecall')\n",
    "print(recall)  \n",
    "\n",
    "print('\\nAccuracy')\n",
    "print(accuracy)  \n",
    "\n",
    "print('\\nF1 Score')\n",
    "print(F1Score)\n",
    "\n",
    "print('\\nROC AUC Score')\n",
    "print(roc_auc)"
   ]
  },
  {
   "cell_type": "markdown",
   "metadata": {
    "heading_collapsed": true
   },
   "source": [
    "## Using MACCS Features"
   ]
  },
  {
   "cell_type": "code",
   "execution_count": 58,
   "metadata": {
    "ExecuteTime": {
     "end_time": "2020-06-08T20:05:00.694908Z",
     "start_time": "2020-06-08T20:04:44.720591Z"
    },
    "hidden": true
   },
   "outputs": [],
   "source": [
    "# load different molecular features separately\n",
    "##############################################\n",
    "#rdk_features    = gen_fprints(mols)\n",
    "maccs_features  = gen_MACCS(mols)\n",
    "#morgan_features = gen_morgan_prints(mols,radius=18)\n"
   ]
  },
  {
   "cell_type": "code",
   "execution_count": 59,
   "metadata": {
    "ExecuteTime": {
     "end_time": "2020-06-08T20:05:00.724744Z",
     "start_time": "2020-06-08T20:05:00.697811Z"
    },
    "hidden": true
   },
   "outputs": [],
   "source": [
    "# Split data for [training] and [testing]\n",
    "morgan_train, morgan_test, label_train, label_test = train_test_split(morgan_features, labels, \\\n",
    "                                                                test_size=0.3, shuffle=True)"
   ]
  },
  {
   "cell_type": "code",
   "execution_count": 60,
   "metadata": {
    "ExecuteTime": {
     "end_time": "2020-06-08T20:05:00.788568Z",
     "start_time": "2020-06-08T20:05:00.731721Z"
    },
    "hidden": true
   },
   "outputs": [],
   "source": [
    "######################\n",
    "# Principal Components\n",
    "######################\n",
    "\n",
    "# Determine principal components using [training data] and apply the transformation to the [test data]\n",
    "PC_maccs_proj = PCA(n_components=4)\n",
    "maccs_proj_train = PC_maccs_proj.fit_transform(maccs_train)\n",
    "maccs_proj_test = PC_maccs_proj.transform(maccs_test)"
   ]
  },
  {
   "cell_type": "markdown",
   "metadata": {
    "hidden": true
   },
   "source": [
    "### Gradient Boosting with PCA"
   ]
  },
  {
   "cell_type": "code",
   "execution_count": 61,
   "metadata": {
    "ExecuteTime": {
     "end_time": "2020-06-08T20:05:01.577524Z",
     "start_time": "2020-06-08T20:05:00.791562Z"
    },
    "hidden": true
   },
   "outputs": [],
   "source": [
    "#########################################################################\n",
    "#\n",
    "# Gradient Boosting with PCA\n",
    "#\n",
    "#########################################################################\n",
    "# Train Logistic Regression model using PC transformed Morgan features\n",
    "GR = GradientBoostingClassifier(n_estimators = 100)\n",
    "model = GR.fit(maccs_proj_train,label_train)\n",
    "pred = model.predict(maccs_proj_test)"
   ]
  },
  {
   "cell_type": "code",
   "execution_count": 62,
   "metadata": {
    "ExecuteTime": {
     "end_time": "2020-06-08T20:05:01.601424Z",
     "start_time": "2020-06-08T20:05:01.579452Z"
    },
    "hidden": true,
    "run_control": {
     "marked": false
    }
   },
   "outputs": [
    {
     "name": "stdout",
     "output_type": "stream",
     "text": [
      "Confusion Matrix\n",
      "[[1160    7]\n",
      " [  89    1]]\n",
      "\n",
      "Recall\n",
      "0.011111111111111112\n",
      "\n",
      "Accuracy\n",
      "0.9236276849642004\n",
      "\n",
      "F1 Score\n",
      "0.020408163265306124\n",
      "\n",
      "ROC AUC Score\n",
      "0.5025564124535846\n"
     ]
    }
   ],
   "source": [
    "# Model Generalizability Analysis\n",
    "accuracy = accuracy_score(label_test, pred)\n",
    "conf_matrix = confusion_matrix(label_test, pred)\n",
    "F1Score = f1_score(label_test,pred)\n",
    "roc_auc = roc_auc_score(label_test,pred)\n",
    "recall = recall_score(label_test,pred)\n",
    "\n",
    "print('Confusion Matrix')\n",
    "print(conf_matrix)\n",
    "\n",
    "print('\\nRecall')\n",
    "print(recall)  \n",
    "\n",
    "print('\\nAccuracy')\n",
    "print(accuracy)  \n",
    "\n",
    "print('\\nF1 Score')\n",
    "print(F1Score)\n",
    "\n",
    "print('\\nROC AUC Score')\n",
    "print(roc_auc)"
   ]
  },
  {
   "cell_type": "markdown",
   "metadata": {
    "hidden": true
   },
   "source": [
    "### Gradient Boost [WITHOUT] PCA"
   ]
  },
  {
   "cell_type": "code",
   "execution_count": 63,
   "metadata": {
    "ExecuteTime": {
     "end_time": "2020-06-08T20:05:04.236377Z",
     "start_time": "2020-06-08T20:05:01.604417Z"
    },
    "hidden": true
   },
   "outputs": [],
   "source": [
    "#########################################################################\n",
    "#\n",
    "# Gradient Boost [WITHOUT] PCA\n",
    "#\n",
    "#########################################################################\n",
    "# Train Logistic Regression model using PC transformed Morgan features\n",
    "\n",
    "GR = GradientBoostingClassifier(n_estimators = 100)\n",
    "model = GR.fit(maccs_train,label_train)\n",
    "pred = model.predict(maccs_test)"
   ]
  },
  {
   "cell_type": "code",
   "execution_count": 64,
   "metadata": {
    "ExecuteTime": {
     "end_time": "2020-06-08T20:05:04.281226Z",
     "start_time": "2020-06-08T20:05:04.239338Z"
    },
    "hidden": true
   },
   "outputs": [
    {
     "name": "stdout",
     "output_type": "stream",
     "text": [
      "Confusion Matrix\n",
      "[[1164    3]\n",
      " [  90    0]]\n",
      "\n",
      "Recall\n",
      "0.0\n",
      "\n",
      "Accuracy\n",
      "0.9260143198090692\n",
      "\n",
      "F1 Score\n",
      "0.0\n",
      "\n",
      "ROC AUC Score\n",
      "0.4987146529562982\n"
     ]
    }
   ],
   "source": [
    "# Model Generalizability Analysis\n",
    "accuracy = accuracy_score(label_test, pred)\n",
    "conf_matrix = confusion_matrix(label_test, pred)\n",
    "F1Score = f1_score(label_test,pred)\n",
    "roc_auc = roc_auc_score(label_test,pred)\n",
    "recall = recall_score(label_test,pred)\n",
    "\n",
    "print('Confusion Matrix')\n",
    "print(conf_matrix)\n",
    "\n",
    "print('\\nRecall')\n",
    "print(recall)  \n",
    "\n",
    "print('\\nAccuracy')\n",
    "print(accuracy)  \n",
    "\n",
    "print('\\nF1 Score')\n",
    "print(F1Score)\n",
    "\n",
    "print('\\nROC AUC Score')\n",
    "print(roc_auc)"
   ]
  },
  {
   "cell_type": "code",
   "execution_count": null,
   "metadata": {
    "hidden": true
   },
   "outputs": [],
   "source": []
  },
  {
   "cell_type": "code",
   "execution_count": null,
   "metadata": {
    "hidden": true
   },
   "outputs": [],
   "source": []
  },
  {
   "cell_type": "code",
   "execution_count": null,
   "metadata": {
    "hidden": true
   },
   "outputs": [],
   "source": []
  },
  {
   "cell_type": "code",
   "execution_count": null,
   "metadata": {
    "hidden": true
   },
   "outputs": [],
   "source": []
  }
 ],
 "metadata": {
  "hide_input": false,
  "kernelspec": {
   "display_name": "Python 3",
   "language": "python",
   "name": "python3"
  },
  "language_info": {
   "codemirror_mode": {
    "name": "ipython",
    "version": 3
   },
   "file_extension": ".py",
   "mimetype": "text/x-python",
   "name": "python",
   "nbconvert_exporter": "python",
   "pygments_lexer": "ipython3",
   "version": "3.7.7"
  }
 },
 "nbformat": 4,
 "nbformat_minor": 4
}
