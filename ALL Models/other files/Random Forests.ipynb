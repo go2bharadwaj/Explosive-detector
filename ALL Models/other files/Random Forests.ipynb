{
 "cells": [
  {
   "cell_type": "markdown",
   "metadata": {},
   "source": [
    "# Random Forests"
   ]
  },
  {
   "cell_type": "markdown",
   "metadata": {
    "ExecuteTime": {
     "end_time": "2020-06-08T06:47:11.811921Z",
     "start_time": "2020-06-08T06:47:11.800950Z"
    },
    "heading_collapsed": true
   },
   "source": [
    "## Import Statements"
   ]
  },
  {
   "cell_type": "code",
   "execution_count": 58,
   "metadata": {
    "ExecuteTime": {
     "end_time": "2020-06-10T06:53:14.733188Z",
     "start_time": "2020-06-10T06:53:14.721475Z"
    },
    "hidden": true
   },
   "outputs": [],
   "source": [
    "import pandas as pd\n",
    "import numpy as np\n",
    "\n",
    "#import matplotlib as plt\n",
    "import matplotlib.pyplot as plt\n",
    "from mpl_toolkits.mplot3d import axes3d\n",
    "from rdkit import Chem\n",
    "\n",
    "# FEATURES\n",
    "from rdkit.Chem import Descriptors\n",
    "from rdkit.Chem import AllChem # For Morgan Fingerprint (Circular Fingerprints)\n",
    "from rdkit.Chem import MACCSkeys # For MACCS keys\n",
    "\n",
    "# SCALING DATA\n",
    "from sklearn.preprocessing import scale\n",
    "\n",
    "# For splitting data into training and test sets.\n",
    "from sklearn.model_selection import train_test_split\n",
    "\n",
    "# For processing how well our methods have classified our data\n",
    "from sklearn.metrics import accuracy_score, confusion_matrix, recall_score, precision_score, f1_score,roc_auc_score\n",
    "\n",
    "# Principal Component Analysis (PCA)\n",
    "from sklearn.decomposition import PCA\n",
    "\n",
    "# Logistic Regression ML Model\n",
    "from sklearn.linear_model import LogisticRegression\n",
    "\n",
    "#\n",
    "from sklearn.ensemble import RandomForestClassifier\n",
    "\n",
    "# Cross Validation\n",
    "from sklearn.model_selection import cross_val_score\n",
    "\n",
    "#CV\n",
    "from sklearn.model_selection import cross_validate"
   ]
  },
  {
   "cell_type": "markdown",
   "metadata": {
    "heading_collapsed": true
   },
   "source": [
    "## User Defined Helper Functions"
   ]
  },
  {
   "cell_type": "code",
   "execution_count": 73,
   "metadata": {
    "ExecuteTime": {
     "end_time": "2020-06-10T18:01:03.317812Z",
     "start_time": "2020-06-10T18:01:03.248216Z"
    },
    "hidden": true
   },
   "outputs": [],
   "source": [
    "####################################################################\n",
    "###\n",
    "###    User Defined Helper Functions\n",
    "###\n",
    "####################################################################\n",
    "\n",
    "# FUNCTION LOAD_DATA\n",
    "# Load the data from the csv file in the [data] folder. We separate \n",
    "# the molecule data from the \"explosive\" labes and return the labels\n",
    "# an a molecules from SMILES representation for each molecule in the \n",
    "# dataset\n",
    "def load_data(data_file):\n",
    "    mol_df = pd.read_csv(data_file)\n",
    "\n",
    "    smiles = np.array(mol_df['smiles'])\n",
    "    labels = np.array(mol_df['labels']) \n",
    "    \n",
    "    mols = np.array([Chem.MolFromSmiles(smile) for smile in smiles])\n",
    "    \n",
    "    return mols, labels\n",
    "\n",
    "# FUNCTION GEN_FPRINTS\n",
    "# Generate molecule fingerprints for each molecule in an input list\n",
    "def gen_fprints(mols):\n",
    "    f_prints = np.array([Chem.RDKFingerprint(mol) for mol in mols])  \n",
    "    return f_prints\n",
    "\n",
    "# FUNCTION gen_MACCS \n",
    "# Generate the MACCS keys for each molecule in an input list of molecules\n",
    "def gen_MACCS(mols):\n",
    "    MACCS_keys = np.array([MACCSkeys.GenMACCSKeys(mol) for mol in mols])\n",
    "    return MACCS_keys\n",
    "\n",
    "# FUNCTION gen_morgan_prints\n",
    "# Generates Morgan finger prints for each molecule in an input list of molecules\n",
    "def gen_morgan_prints(mols,radius):\n",
    "    morgan_prints = np.array([AllChem.GetMorganFingerprintAsBitVect(mol,radius,nBits=1024) for mol in mols])\n",
    "    return morgan_prints\n",
    "\n",
    "# FUNCTION CrossValidation\n",
    "# Runs Cross Validation and outputs the results in a dataframe\n",
    "def CrossValidation(ML_model,X,Y):\n",
    "    model_scores = []\n",
    "    model_scores.append(cross_validate(ML_model, X , Y , cv=5, scoring=('recall','accuracy', 'f1', 'roc_auc','precision'), return_train_score=True))\n",
    "    models_df = pd.DataFrame(model_scores, columns = ['fit_time','score_time','test_recall','train_recall','test_accuracy','train_accuracy','test_f1','train_f1','test_roc_auc','train_roc_auc','test_precision','train_precision'])\n",
    "    av_column = models_df.mean(axis = 0)\n",
    "    return pd.DataFrame(av_column)\n",
    "\n",
    "# FUNCTION Output\n",
    "# Prints out the Scores of the model\n",
    "def Output(pred,label_test):\n",
    "    # Model Generalizability Analysis\n",
    "    accuracy = accuracy_score(label_test, pred)\n",
    "    conf_matrix = confusion_matrix(label_test, pred)\n",
    "    F1Score = f1_score(label_test,pred)\n",
    "    roc_auc = roc_auc_score(label_test,pred)\n",
    "    recall = recall_score(label_test,pred)\n",
    "\n",
    "    print('\\033[1m' + 'Confusion Matrix' + '\\033[0m') # printing in bold\n",
    "    print(conf_matrix)\n",
    "    \n",
    "    print('\\033[1m' + '\\nRecall' + '\\033[0m')\n",
    "    print(recall)  \n",
    "\n",
    "    print('\\033[1m' + '\\nAccuracy' + '\\033[0m')\n",
    "    print(accuracy)  \n",
    "    \n",
    "    print('\\033[1m' + '\\nF1 Score' + '\\033[0m')\n",
    "    print(F1Score)\n",
    "\n",
    "    print('\\033[1m' + '\\nROC AUC Score' + '\\033[0m')\n",
    "    print(roc_auc)\n",
    "\n",
    "    \n",
    "def getKeyFromBond(bond):\n",
    "    atom1 = int(bond.GetBeginAtom().GetAtomicNum())\n",
    "    atom2 = int(bond.GetEndAtom().GetAtomicNum())\n",
    "\n",
    "    if atom1 > atom2:\n",
    "        atom1, atom2 = atom2, atom1\n",
    "\n",
    "    bondType = int(bond.GetBondTypeAsDouble() * 2 - 2)\n",
    "    key = atom1 | (atom2 << 8) | (bondType << 16)\n",
    "\n",
    "    return key\n",
    "\n",
    "def formatMolecule(ID):\n",
    "    pt = Chem.GetPeriodicTable()\n",
    "    atom1 = pt.GetElementSymbol(int(ID & 255))\n",
    "    atom2 = pt.GetElementSymbol(int((ID >> 8) & 255))\n",
    "    bondType = ['-', ':', '=', 'err', '#'][(ID >> 16) & 255]\n",
    "    return '%s%s%s' % (atom1,bondType,atom2)\n",
    "\n",
    "def gen_nathan_prints(mols):\n",
    "    # this dictionary is responsible for assigning a unique ID (index) to\n",
    "    # every unique bond.  The bonds are assigned incrementing IDs as discovered\n",
    "    bondIDs = dict()\n",
    "    numUniqueBonds = 0\n",
    "    \n",
    "    for molecule in mols:\n",
    "        for bond in molecule.GetBonds():\n",
    "            key = getKeyFromBond(bond)\n",
    "            if key not in bondIDs:\n",
    "                bondIDs[key] = numUniqueBonds\n",
    "                numUniqueBonds += 1\n",
    "    \n",
    "    # list of numpy byte arrays representing the feature vector of each molecule\n",
    "    fingerprints = []\n",
    "\n",
    "    for molecule in mols:\n",
    "        # One molecule has 105 carbon-carbon single bonds, so the fingerprint\n",
    "        # format is set to preserve up to that many occurances of any unique bond\n",
    "            \n",
    "        # each fingerprint requires 1 byte to store the count of each unique bond type\n",
    "        # plus the extra 2 bytes store the molecule's molar mass\n",
    "        fingerprint = np.zeros(numUniqueBonds + 2, np.uint8)\n",
    "        \n",
    "        for bond in molecule.GetBonds():\n",
    "            key = getKeyFromBond(bond)\n",
    "            index = bondIDs[key]\n",
    "            fingerprint[index] += 1\n",
    "        \n",
    "        # the heaviest molecule in our dataset weights 3431.9089999999887 g/mol\n",
    "        # encode the weight with 1/5 increments of fractional value\n",
    "        # in the last 2 bytes of the finger print / feature vector\n",
    "        weight = Descriptors.MolWt(molecule)\n",
    "        intWeight = round(weight * 5)\n",
    "        fingerprint[numUniqueBonds] = intWeight & 255\n",
    "        fingerprint[numUniqueBonds + 1] = (intWeight >> 8) & 255\n",
    "        \n",
    "        fingerprints.append(fingerprint)\n",
    "    \n",
    "    # create a mapping from bond ID to bond key to aid feature importance\n",
    "    sourceMap = np.zeros(numUniqueBonds, np.uint32)\n",
    "    for k, v in bondIDs.items():\n",
    "        sourceMap[v] = k\n",
    "    \n",
    "    return fingerprints, sourceMap"
   ]
  },
  {
   "cell_type": "markdown",
   "metadata": {
    "ExecuteTime": {
     "end_time": "2020-06-08T06:47:49.577429Z",
     "start_time": "2020-06-08T06:47:49.573435Z"
    },
    "heading_collapsed": true
   },
   "source": [
    "## Loading Data "
   ]
  },
  {
   "cell_type": "code",
   "execution_count": 50,
   "metadata": {
    "ExecuteTime": {
     "end_time": "2020-06-10T06:49:39.811579Z",
     "start_time": "2020-06-10T06:49:35.885262Z"
    },
    "hidden": true
   },
   "outputs": [],
   "source": [
    "data_file = 'molecule_data.csv'\n",
    "mols, labels = load_data(data_file)"
   ]
  },
  {
   "cell_type": "markdown",
   "metadata": {
    "ExecuteTime": {
     "end_time": "2020-06-08T06:48:26.082540Z",
     "start_time": "2020-06-08T06:48:26.077558Z"
    },
    "heading_collapsed": true
   },
   "source": [
    "## Using Morgan Features"
   ]
  },
  {
   "cell_type": "code",
   "execution_count": 51,
   "metadata": {
    "ExecuteTime": {
     "end_time": "2020-06-10T06:49:59.959372Z",
     "start_time": "2020-06-10T06:49:39.818550Z"
    },
    "hidden": true
   },
   "outputs": [],
   "source": [
    "# load different molecular features separately\n",
    "##############################################\n",
    "#rdk_features    = gen_fprints(mols)\n",
    "#maccs_features  = gen_MACCS(mols)\n",
    "morgan_features = gen_morgan_prints(mols,radius=16)"
   ]
  },
  {
   "cell_type": "code",
   "execution_count": 52,
   "metadata": {
    "ExecuteTime": {
     "end_time": "2020-06-10T06:49:59.999775Z",
     "start_time": "2020-06-10T06:49:59.964291Z"
    },
    "hidden": true
   },
   "outputs": [],
   "source": [
    "# Split data for [training] and [testing]\n",
    "morgan_train, morgan_test, label_train, label_test = train_test_split(morgan_features, labels, \\\n",
    "                                                                test_size=0.3, shuffle=True)"
   ]
  },
  {
   "cell_type": "code",
   "execution_count": 53,
   "metadata": {
    "ExecuteTime": {
     "end_time": "2020-06-10T06:50:03.395177Z",
     "start_time": "2020-06-10T06:50:00.006717Z"
    },
    "hidden": true
   },
   "outputs": [],
   "source": [
    "######################\n",
    "# Principal Components\n",
    "######################\n",
    "\n",
    "# Determine principal components using [training data] and apply the transformation to the [test data]\n",
    "PC_morgan_proj = PCA(n_components=961)\n",
    "morgan_proj_train = PC_morgan_proj.fit_transform(morgan_train)\n",
    "morgan_proj_test = PC_morgan_proj.transform(morgan_test)\n",
    "morgan_proj_features = PC_morgan_proj.fit_transform(morgan_features)"
   ]
  },
  {
   "cell_type": "markdown",
   "metadata": {
    "heading_collapsed": true,
    "hidden": true
   },
   "source": [
    "### Random Forests with PCA"
   ]
  },
  {
   "cell_type": "code",
   "execution_count": 55,
   "metadata": {
    "ExecuteTime": {
     "end_time": "2020-06-10T06:50:55.243363Z",
     "start_time": "2020-06-10T06:50:36.831223Z"
    },
    "hidden": true
   },
   "outputs": [],
   "source": [
    "#########################################################################\n",
    "#\n",
    "# Random Forests with PCA\n",
    "#\n",
    "#########################################################################\n",
    "# Train Random Forests Classifier using PC transformed Morgan features\n",
    "RF_PCA = RandomForestClassifier(n_estimators = 1000,criterion='gini',bootstrap = True, warm_start = False)\n",
    "RF = RF_PCA.fit(morgan_train,label_train)\n",
    "pred1 = RF.predict(morgan_test)"
   ]
  },
  {
   "cell_type": "markdown",
   "metadata": {
    "heading_collapsed": true,
    "hidden": true
   },
   "source": [
    "#### Scores"
   ]
  },
  {
   "cell_type": "code",
   "execution_count": 63,
   "metadata": {
    "ExecuteTime": {
     "end_time": "2020-06-10T07:38:59.540346Z",
     "start_time": "2020-06-10T07:38:59.512280Z"
    },
    "hidden": true
   },
   "outputs": [
    {
     "name": "stdout",
     "output_type": "stream",
     "text": [
      "\u001b[1mConfusion Matrix\u001b[0m\n",
      "[[1179    1]\n",
      " [   8   69]]\n",
      "\u001b[1m\n",
      "Recall\u001b[0m\n",
      "0.8961038961038961\n",
      "\u001b[1m\n",
      "Accuracy\u001b[0m\n",
      "0.9928400954653938\n",
      "\u001b[1m\n",
      "F1 Score\u001b[0m\n",
      "0.9387755102040817\n",
      "\u001b[1m\n",
      "ROC AUC Score\u001b[0m\n",
      "0.9476282192383887\n"
     ]
    }
   ],
   "source": [
    "Scores1 = Output(pred1,label_test)\n",
    "Scores1"
   ]
  },
  {
   "cell_type": "markdown",
   "metadata": {
    "heading_collapsed": true,
    "hidden": true
   },
   "source": [
    "#### Cross Validation"
   ]
  },
  {
   "cell_type": "code",
   "execution_count": 64,
   "metadata": {
    "ExecuteTime": {
     "end_time": "2020-06-10T07:49:39.771096Z",
     "start_time": "2020-06-10T07:39:06.369182Z"
    },
    "hidden": true
   },
   "outputs": [
    {
     "data": {
      "text/html": [
       "<div>\n",
       "<style scoped>\n",
       "    .dataframe tbody tr th:only-of-type {\n",
       "        vertical-align: middle;\n",
       "    }\n",
       "\n",
       "    .dataframe tbody tr th {\n",
       "        vertical-align: top;\n",
       "    }\n",
       "\n",
       "    .dataframe thead th {\n",
       "        text-align: right;\n",
       "    }\n",
       "</style>\n",
       "<table border=\"1\" class=\"dataframe\">\n",
       "  <thead>\n",
       "    <tr style=\"text-align: right;\">\n",
       "      <th></th>\n",
       "      <th>0</th>\n",
       "      <th>ID</th>\n",
       "    </tr>\n",
       "  </thead>\n",
       "  <tbody>\n",
       "    <tr>\n",
       "      <th>fit_time</th>\n",
       "      <td>120.379936</td>\n",
       "      <td>1</td>\n",
       "    </tr>\n",
       "    <tr>\n",
       "      <th>score_time</th>\n",
       "      <td>1.185863</td>\n",
       "      <td>2</td>\n",
       "    </tr>\n",
       "    <tr>\n",
       "      <th>test_recall</th>\n",
       "      <td>0.358491</td>\n",
       "      <td>3</td>\n",
       "    </tr>\n",
       "    <tr>\n",
       "      <th>train_recall</th>\n",
       "      <td>1.000000</td>\n",
       "      <td>4</td>\n",
       "    </tr>\n",
       "    <tr>\n",
       "      <th>test_accuracy</th>\n",
       "      <td>0.959427</td>\n",
       "      <td>5</td>\n",
       "    </tr>\n",
       "    <tr>\n",
       "      <th>train_accuracy</th>\n",
       "      <td>1.000000</td>\n",
       "      <td>6</td>\n",
       "    </tr>\n",
       "    <tr>\n",
       "      <th>test_f1</th>\n",
       "      <td>0.527778</td>\n",
       "      <td>7</td>\n",
       "    </tr>\n",
       "    <tr>\n",
       "      <th>train_f1</th>\n",
       "      <td>1.000000</td>\n",
       "      <td>8</td>\n",
       "    </tr>\n",
       "    <tr>\n",
       "      <th>test_roc_auc</th>\n",
       "      <td>0.975075</td>\n",
       "      <td>9</td>\n",
       "    </tr>\n",
       "    <tr>\n",
       "      <th>train_roc_auc</th>\n",
       "      <td>1.000000</td>\n",
       "      <td>10</td>\n",
       "    </tr>\n",
       "  </tbody>\n",
       "</table>\n",
       "</div>"
      ],
      "text/plain": [
       "                         0  ID\n",
       "fit_time        120.379936   1\n",
       "score_time        1.185863   2\n",
       "test_recall       0.358491   3\n",
       "train_recall      1.000000   4\n",
       "test_accuracy     0.959427   5\n",
       "train_accuracy    1.000000   6\n",
       "test_f1           0.527778   7\n",
       "train_f1          1.000000   8\n",
       "test_roc_auc      0.975075   9\n",
       "train_roc_auc     1.000000  10"
      ]
     },
     "execution_count": 64,
     "metadata": {},
     "output_type": "execute_result"
    }
   ],
   "source": [
    "M_Model1_df = CrossValidation(RF_PCA,morgan_proj_features,labels)\n",
    "M_Model1_df"
   ]
  },
  {
   "cell_type": "markdown",
   "metadata": {
    "heading_collapsed": true,
    "hidden": true
   },
   "source": [
    "### Random Forests [WITHOUT] PCA"
   ]
  },
  {
   "cell_type": "code",
   "execution_count": 67,
   "metadata": {
    "ExecuteTime": {
     "end_time": "2020-06-10T17:51:42.582485Z",
     "start_time": "2020-06-10T17:51:25.626203Z"
    },
    "hidden": true
   },
   "outputs": [],
   "source": [
    "#########################################################################\n",
    "#\n",
    "# Random Forests [WITHOUT] PCA\n",
    "#\n",
    "#########################################################################\n",
    "# Train Random Forests model using PC transformed Morgan features\n",
    "\n",
    "RF_ = RandomForestClassifier(n_estimators = 1000,bootstrap = True, warm_start = False)\n",
    "rf = RF_.fit(morgan_train,label_train)\n",
    "pred2 = rf.predict(morgan_test)"
   ]
  },
  {
   "cell_type": "markdown",
   "metadata": {
    "heading_collapsed": true,
    "hidden": true
   },
   "source": [
    "#### Scores"
   ]
  },
  {
   "cell_type": "code",
   "execution_count": 25,
   "metadata": {
    "ExecuteTime": {
     "end_time": "2020-06-07T17:13:49.710174Z",
     "start_time": "2020-06-07T17:13:49.637372Z"
    },
    "hidden": true
   },
   "outputs": [
    {
     "name": "stdout",
     "output_type": "stream",
     "text": [
      "Confusion Matrix\n",
      "[[1180    3]\n",
      " [  10   64]]\n",
      "\n",
      "Recall\n",
      "0.8648648648648649\n",
      "\n",
      "Accuracy\n",
      "0.9896579156722355\n",
      "\n",
      "F1 Score\n",
      "0.9078014184397162\n",
      "\n",
      "ROC AUC Score\n",
      "0.9311644696260081\n"
     ]
    }
   ],
   "source": [
    "Scores2 = Output(pred2,label_test)\n",
    "Scores2"
   ]
  },
  {
   "cell_type": "markdown",
   "metadata": {
    "heading_collapsed": true,
    "hidden": true
   },
   "source": [
    "#### Cross Validation"
   ]
  },
  {
   "cell_type": "code",
   "execution_count": 68,
   "metadata": {
    "ExecuteTime": {
     "end_time": "2020-06-10T17:53:36.631445Z",
     "start_time": "2020-06-10T17:51:42.587472Z"
    },
    "hidden": true
   },
   "outputs": [
    {
     "data": {
      "text/html": [
       "<div>\n",
       "<style scoped>\n",
       "    .dataframe tbody tr th:only-of-type {\n",
       "        vertical-align: middle;\n",
       "    }\n",
       "\n",
       "    .dataframe tbody tr th {\n",
       "        vertical-align: top;\n",
       "    }\n",
       "\n",
       "    .dataframe thead th {\n",
       "        text-align: right;\n",
       "    }\n",
       "</style>\n",
       "<table border=\"1\" class=\"dataframe\">\n",
       "  <thead>\n",
       "    <tr style=\"text-align: right;\">\n",
       "      <th></th>\n",
       "      <th>0</th>\n",
       "      <th>ID</th>\n",
       "    </tr>\n",
       "  </thead>\n",
       "  <tbody>\n",
       "    <tr>\n",
       "      <th>fit_time</th>\n",
       "      <td>18.157396</td>\n",
       "      <td>1</td>\n",
       "    </tr>\n",
       "    <tr>\n",
       "      <th>score_time</th>\n",
       "      <td>0.934957</td>\n",
       "      <td>2</td>\n",
       "    </tr>\n",
       "    <tr>\n",
       "      <th>test_recall</th>\n",
       "      <td>0.830189</td>\n",
       "      <td>3</td>\n",
       "    </tr>\n",
       "    <tr>\n",
       "      <th>train_recall</th>\n",
       "      <td>1.000000</td>\n",
       "      <td>4</td>\n",
       "    </tr>\n",
       "    <tr>\n",
       "      <th>test_accuracy</th>\n",
       "      <td>0.986874</td>\n",
       "      <td>5</td>\n",
       "    </tr>\n",
       "    <tr>\n",
       "      <th>train_accuracy</th>\n",
       "      <td>1.000000</td>\n",
       "      <td>6</td>\n",
       "    </tr>\n",
       "    <tr>\n",
       "      <th>test_f1</th>\n",
       "      <td>0.888889</td>\n",
       "      <td>7</td>\n",
       "    </tr>\n",
       "    <tr>\n",
       "      <th>train_f1</th>\n",
       "      <td>1.000000</td>\n",
       "      <td>8</td>\n",
       "    </tr>\n",
       "    <tr>\n",
       "      <th>test_roc_auc</th>\n",
       "      <td>0.980675</td>\n",
       "      <td>9</td>\n",
       "    </tr>\n",
       "    <tr>\n",
       "      <th>train_roc_auc</th>\n",
       "      <td>1.000000</td>\n",
       "      <td>10</td>\n",
       "    </tr>\n",
       "    <tr>\n",
       "      <th>test_precision</th>\n",
       "      <td>0.956522</td>\n",
       "      <td>11</td>\n",
       "    </tr>\n",
       "    <tr>\n",
       "      <th>train_precision</th>\n",
       "      <td>1.000000</td>\n",
       "      <td>12</td>\n",
       "    </tr>\n",
       "  </tbody>\n",
       "</table>\n",
       "</div>"
      ],
      "text/plain": [
       "                         0  ID\n",
       "fit_time         18.157396   1\n",
       "score_time        0.934957   2\n",
       "test_recall       0.830189   3\n",
       "train_recall      1.000000   4\n",
       "test_accuracy     0.986874   5\n",
       "train_accuracy    1.000000   6\n",
       "test_f1           0.888889   7\n",
       "train_f1          1.000000   8\n",
       "test_roc_auc      0.980675   9\n",
       "train_roc_auc     1.000000  10\n",
       "test_precision    0.956522  11\n",
       "train_precision   1.000000  12"
      ]
     },
     "execution_count": 68,
     "metadata": {},
     "output_type": "execute_result"
    }
   ],
   "source": [
    "M_Model2_df = CrossValidation(RF_,morgan_features,labels)\n",
    "M_Model2_df"
   ]
  },
  {
   "cell_type": "markdown",
   "metadata": {
    "heading_collapsed": true
   },
   "source": [
    "## Using MACCS Features"
   ]
  },
  {
   "cell_type": "code",
   "execution_count": 31,
   "metadata": {
    "ExecuteTime": {
     "end_time": "2020-06-08T16:21:38.998483Z",
     "start_time": "2020-06-08T16:21:17.680517Z"
    },
    "hidden": true
   },
   "outputs": [],
   "source": [
    "# load different molecular features separately\n",
    "##############################################\n",
    "#rdk_features    = gen_fprints(mols)\n",
    "maccs_features  = gen_MACCS(mols)\n",
    "#morgan_features = gen_morgan_prints(mols,radius=18)"
   ]
  },
  {
   "cell_type": "code",
   "execution_count": 32,
   "metadata": {
    "ExecuteTime": {
     "end_time": "2020-06-08T16:21:39.050521Z",
     "start_time": "2020-06-08T16:21:39.010548Z"
    },
    "hidden": true
   },
   "outputs": [],
   "source": [
    "# Split data for [training] and [testing]\n",
    "maccs_train, maccs_test, label_train, label_test = train_test_split(maccs_features, labels, \\\n",
    "                                                                test_size=0.3, shuffle=True)"
   ]
  },
  {
   "cell_type": "code",
   "execution_count": 33,
   "metadata": {
    "ExecuteTime": {
     "end_time": "2020-06-08T16:21:39.173215Z",
     "start_time": "2020-06-08T16:21:39.057423Z"
    },
    "hidden": true
   },
   "outputs": [],
   "source": [
    "######################\n",
    "# Principal Components\n",
    "######################\n",
    "\n",
    "# Determine principal components using [training data] and apply the transformation to the [test data]\n",
    "PC_maccs_proj = PCA(n_components=144)\n",
    "maccs_proj_train = PC_maccs_proj.fit_transform(maccs_train)\n",
    "maccs_proj_test = PC_maccs_proj.transform(maccs_test)\n",
    "maccs_proj_features = PC_maccs_proj.fit_transform(maccs_features)"
   ]
  },
  {
   "cell_type": "markdown",
   "metadata": {
    "heading_collapsed": true,
    "hidden": true
   },
   "source": [
    "### Random Forests with PCA"
   ]
  },
  {
   "cell_type": "code",
   "execution_count": 34,
   "metadata": {
    "ExecuteTime": {
     "end_time": "2020-06-08T16:21:39.922314Z",
     "start_time": "2020-06-08T16:21:39.177204Z"
    },
    "hidden": true
   },
   "outputs": [],
   "source": [
    "#########################################################################\n",
    "#\n",
    "# Random Forests with PCA\n",
    "#\n",
    "#########################################################################\n",
    "# Train Random Forests Classifier using PC transformed Morgan features\n",
    "\n",
    "RF_PCA = RandomForestClassifier(n_estimators = 100,criterion='gini',bootstrap = True, warm_start = False)\n",
    "rf = RF_PCA.fit(maccs_train,label_train)\n",
    "pred1 = rf.predict(maccs_test)"
   ]
  },
  {
   "cell_type": "markdown",
   "metadata": {
    "heading_collapsed": true,
    "hidden": true
   },
   "source": [
    "#### Scores"
   ]
  },
  {
   "cell_type": "code",
   "execution_count": 35,
   "metadata": {
    "ExecuteTime": {
     "end_time": "2020-06-08T16:21:39.956270Z",
     "start_time": "2020-06-08T16:21:39.925305Z"
    },
    "hidden": true
   },
   "outputs": [
    {
     "name": "stdout",
     "output_type": "stream",
     "text": [
      "Confusion Matrix\n",
      "[[1185    1]\n",
      " [   8   63]]\n",
      "\n",
      "Recall\n",
      "0.8873239436619719\n",
      "\n",
      "Accuracy\n",
      "0.9928400954653938\n",
      "\n",
      "F1 Score\n",
      "0.9333333333333333\n",
      "\n",
      "ROC AUC Score\n",
      "0.9432403866707837\n"
     ]
    }
   ],
   "source": [
    "Scores1 = Output(pred1,label_test)\n",
    "Scores1"
   ]
  },
  {
   "cell_type": "markdown",
   "metadata": {
    "heading_collapsed": true,
    "hidden": true
   },
   "source": [
    "#### Cross Validation"
   ]
  },
  {
   "cell_type": "code",
   "execution_count": null,
   "metadata": {
    "hidden": true
   },
   "outputs": [],
   "source": [
    "MAC_Model1_df = CrossValidation(RF_PCA,maccs_proj_features,labels)\n",
    "MAC_Model1_df"
   ]
  },
  {
   "cell_type": "markdown",
   "metadata": {
    "heading_collapsed": true,
    "hidden": true
   },
   "source": [
    "### Random Forests [WITHOUT] PCA"
   ]
  },
  {
   "cell_type": "code",
   "execution_count": 36,
   "metadata": {
    "ExecuteTime": {
     "end_time": "2020-06-08T16:21:40.646248Z",
     "start_time": "2020-06-08T16:21:39.960289Z"
    },
    "hidden": true
   },
   "outputs": [],
   "source": [
    "#########################################################################\n",
    "#\n",
    "# Random Forests [WITHOUT] PCA\n",
    "#\n",
    "#########################################################################\n",
    "# Train Random Forests model using PC transformed Morgan features\n",
    "\n",
    "RF_ = RandomForestClassifier(n_estimators = 100,criterion='gini',bootstrap = True, warm_start = False)\n",
    "rf = RF_.fit(maccs_train,label_train)\n",
    "pred2 = rf.predict(maccs_test)"
   ]
  },
  {
   "cell_type": "markdown",
   "metadata": {
    "heading_collapsed": true,
    "hidden": true
   },
   "source": [
    "#### Scores"
   ]
  },
  {
   "cell_type": "code",
   "execution_count": 37,
   "metadata": {
    "ExecuteTime": {
     "end_time": "2020-06-08T16:21:40.683570Z",
     "start_time": "2020-06-08T16:21:40.649464Z"
    },
    "hidden": true
   },
   "outputs": [
    {
     "name": "stdout",
     "output_type": "stream",
     "text": [
      "Confusion Matrix\n",
      "[[1185    1]\n",
      " [   8   63]]\n",
      "\n",
      "Recall\n",
      "0.8873239436619719\n",
      "\n",
      "Accuracy\n",
      "0.9928400954653938\n",
      "\n",
      "F1 Score\n",
      "0.9333333333333333\n",
      "\n",
      "ROC AUC Score\n",
      "0.9432403866707837\n"
     ]
    }
   ],
   "source": [
    "Scores2 = Output(pred2,label_test)\n",
    "Scores2"
   ]
  },
  {
   "cell_type": "markdown",
   "metadata": {
    "heading_collapsed": true,
    "hidden": true
   },
   "source": [
    "#### Cross Validation"
   ]
  },
  {
   "cell_type": "code",
   "execution_count": null,
   "metadata": {
    "hidden": true
   },
   "outputs": [],
   "source": [
    "MAC_Model2_df = CrossValidation(RF_,maccs_features,labels)\n",
    "MAC_Model2_df"
   ]
  },
  {
   "cell_type": "markdown",
   "metadata": {
    "heading_collapsed": true
   },
   "source": [
    "## Using RDKit Features"
   ]
  },
  {
   "cell_type": "code",
   "execution_count": 39,
   "metadata": {
    "ExecuteTime": {
     "end_time": "2020-06-08T16:33:54.157304Z",
     "start_time": "2020-06-08T16:33:11.421406Z"
    },
    "hidden": true
   },
   "outputs": [],
   "source": [
    "# load different molecular features separately\n",
    "##############################################\n",
    "rdk_features    = gen_fprints(mols)\n",
    "#maccs_features  = gen_MACCS(mols)\n",
    "#morgan_features = gen_morgan_prints(mols,radius=18)"
   ]
  },
  {
   "cell_type": "code",
   "execution_count": 40,
   "metadata": {
    "ExecuteTime": {
     "end_time": "2020-06-08T16:33:54.202308Z",
     "start_time": "2020-06-08T16:33:54.163282Z"
    },
    "hidden": true
   },
   "outputs": [],
   "source": [
    "# Split data for [training] and [testing]\n",
    "rdk_train, rdk_test, label_train, label_test = train_test_split(rdk_features, labels, \\\n",
    "                                                                test_size=0.3, shuffle=True)"
   ]
  },
  {
   "cell_type": "code",
   "execution_count": 41,
   "metadata": {
    "ExecuteTime": {
     "end_time": "2020-06-08T16:33:54.561547Z",
     "start_time": "2020-06-08T16:33:54.208310Z"
    },
    "hidden": true
   },
   "outputs": [],
   "source": [
    "######################\n",
    "# Principal Components\n",
    "######################\n",
    "\n",
    "# Determine principal components using [training data] and apply the transformation to the [test data]\n",
    "\n",
    "PC_rdk_proj = PCA(n_components=1570)\n",
    "rdk_proj_train = PC_rdk_proj.fit_transform(rdk_train)\n",
    "rdk_proj_test = PC_rdk_proj.transform(rdk_test)\n",
    "rdk_proj_features = PC_rdk_proj.fit_transform(rdk_features)"
   ]
  },
  {
   "cell_type": "markdown",
   "metadata": {
    "ExecuteTime": {
     "end_time": "2020-06-08T16:31:48.799024Z",
     "start_time": "2020-06-08T16:31:48.793548Z"
    },
    "heading_collapsed": true,
    "hidden": true
   },
   "source": [
    "### Random Forests with PCA"
   ]
  },
  {
   "cell_type": "code",
   "execution_count": 42,
   "metadata": {
    "ExecuteTime": {
     "end_time": "2020-06-08T16:33:56.804227Z",
     "start_time": "2020-06-08T16:33:54.565451Z"
    },
    "hidden": true
   },
   "outputs": [],
   "source": [
    "#########################################################################\n",
    "#\n",
    "# Random Forests with PCA\n",
    "#\n",
    "#########################################################################\n",
    "# Train Random Forests Classifier using PC transformed Morgan features\n",
    "\n",
    "RF_PCA = RandomForestClassifier(n_estimators = 100,criterion='gini',bootstrap = True, warm_start = False)\n",
    "rf = RF_PCA.fit(rdk_train,label_train)\n",
    "pred1 = rf.predict(rdk_test)"
   ]
  },
  {
   "cell_type": "markdown",
   "metadata": {
    "heading_collapsed": true,
    "hidden": true
   },
   "source": [
    "#### Scores"
   ]
  },
  {
   "cell_type": "code",
   "execution_count": 43,
   "metadata": {
    "ExecuteTime": {
     "end_time": "2020-06-08T16:33:56.846115Z",
     "start_time": "2020-06-08T16:33:56.810230Z"
    },
    "hidden": true
   },
   "outputs": [
    {
     "name": "stdout",
     "output_type": "stream",
     "text": [
      "Confusion Matrix\n",
      "[[1177    4]\n",
      " [  15   61]]\n",
      "\n",
      "Recall\n",
      "0.8026315789473685\n",
      "\n",
      "Accuracy\n",
      "0.984884645982498\n",
      "\n",
      "F1 Score\n",
      "0.8652482269503547\n",
      "\n",
      "ROC AUC Score\n",
      "0.8996223093720754\n"
     ]
    }
   ],
   "source": [
    "Scores1 = Output(pred1,label_test)\n",
    "Scores1"
   ]
  },
  {
   "cell_type": "markdown",
   "metadata": {
    "heading_collapsed": true,
    "hidden": true
   },
   "source": [
    "#### Cross Validation"
   ]
  },
  {
   "cell_type": "code",
   "execution_count": null,
   "metadata": {
    "hidden": true
   },
   "outputs": [],
   "source": [
    "RDK_Model1_df = CrossValidation(RF_PCA,rdk_proj_features,labels)\n",
    "RDK_Model1_df"
   ]
  },
  {
   "cell_type": "markdown",
   "metadata": {
    "hidden": true
   },
   "source": [
    "### Random Forests [WITHOUT] PCA"
   ]
  },
  {
   "cell_type": "code",
   "execution_count": 44,
   "metadata": {
    "ExecuteTime": {
     "end_time": "2020-06-08T16:33:58.986774Z",
     "start_time": "2020-06-08T16:33:56.852098Z"
    },
    "hidden": true
   },
   "outputs": [],
   "source": [
    "#########################################################################\n",
    "#\n",
    "# Random Forests [WITHOUT] PCA\n",
    "#\n",
    "#########################################################################\n",
    "# Train Random Forests model using PC transformed Morgan features\n",
    "\n",
    "RF_ = RandomForestClassifier(n_estimators = 100,criterion='gini',bootstrap = True, warm_start = False)\n",
    "rf = RF_.fit(rdk_train,label_train)\n",
    "pred2 = rf.predict(rdk_test)"
   ]
  },
  {
   "cell_type": "markdown",
   "metadata": {
    "heading_collapsed": true,
    "hidden": true
   },
   "source": [
    "#### Scores"
   ]
  },
  {
   "cell_type": "code",
   "execution_count": 45,
   "metadata": {
    "ExecuteTime": {
     "end_time": "2020-06-08T16:33:59.014523Z",
     "start_time": "2020-06-08T16:33:58.990161Z"
    },
    "hidden": true
   },
   "outputs": [
    {
     "name": "stdout",
     "output_type": "stream",
     "text": [
      "Confusion Matrix\n",
      "[[1179    2]\n",
      " [  16   60]]\n",
      "\n",
      "Recall\n",
      "0.7894736842105263\n",
      "\n",
      "Accuracy\n",
      "0.9856801909307876\n",
      "\n",
      "F1 Score\n",
      "0.8695652173913043\n",
      "\n",
      "ROC AUC Score\n",
      "0.8938901020544587\n"
     ]
    }
   ],
   "source": [
    "Scores2 = Output(pred2,label_test)\n",
    "Scores2"
   ]
  },
  {
   "cell_type": "markdown",
   "metadata": {
    "heading_collapsed": true,
    "hidden": true
   },
   "source": [
    "#### Cross Validation"
   ]
  },
  {
   "cell_type": "code",
   "execution_count": null,
   "metadata": {
    "hidden": true
   },
   "outputs": [],
   "source": [
    "RDK_Model2_df = CrossValidation(RF_,rdk_features,labels)\n",
    "RDK_Model2_df"
   ]
  },
  {
   "cell_type": "markdown",
   "metadata": {
    "heading_collapsed": true
   },
   "source": [
    "## Using Nathan Features"
   ]
  },
  {
   "cell_type": "code",
   "execution_count": null,
   "metadata": {
    "hidden": true
   },
   "outputs": [],
   "source": [
    "# load different molecular features separately\n",
    "##############################################\n",
    "#rdk_features    = gen_fprints(mols)\n",
    "#maccs_features  = gen_MACCS(mols)\n",
    "#morgan_features = gen_morgan_prints(mols,radius=18)\n",
    "nathan_features, bondIDSourceMap = gen_nathan_prints(mols)"
   ]
  },
  {
   "cell_type": "code",
   "execution_count": null,
   "metadata": {
    "hidden": true
   },
   "outputs": [],
   "source": [
    "# Split data for [training] and [testing]\n",
    "nathan_train, nathan_test, label_train, label_test = train_test_split(nathan_features, labels, \\\n",
    "                                                                test_size=0.3, shuffle=True)"
   ]
  },
  {
   "cell_type": "code",
   "execution_count": null,
   "metadata": {
    "hidden": true
   },
   "outputs": [],
   "source": [
    "######################\n",
    "# Principal Components\n",
    "######################\n",
    "\n",
    "# Determine principal components using [training data] and apply the transformation to the [test data]\n",
    "PC_nathan_proj = PCA(n_components = 3)\n",
    "nathan_proj_train = PC_nathan_proj.fit_transform(nathan_train)\n",
    "nathan_proj_test = PC_nathan_proj.transform(nathan_test)\n",
    "nathan_proj_features = PC_nathan_proj.fit_transform(nathan_features)"
   ]
  },
  {
   "cell_type": "markdown",
   "metadata": {
    "heading_collapsed": true,
    "hidden": true
   },
   "source": [
    "### Random Forests with PCA"
   ]
  },
  {
   "cell_type": "code",
   "execution_count": null,
   "metadata": {
    "hidden": true
   },
   "outputs": [],
   "source": [
    "#########################################################################\n",
    "#\n",
    "# Random Forests with PCA\n",
    "#\n",
    "#########################################################################\n",
    "# Train Random Forests Classifier using PC transformed Morgan features\n",
    "\n",
    "RF_PCA = RandomForestClassifier(n_estimators = 100,criterion='gini',bootstrap = True, warm_start = False)\n",
    "rf = RF_PCA.fit(nathan_train,label_train)\n",
    "pred1 = rf.predict(nathan_test)"
   ]
  },
  {
   "cell_type": "markdown",
   "metadata": {
    "heading_collapsed": true,
    "hidden": true
   },
   "source": [
    "#### Scores"
   ]
  },
  {
   "cell_type": "code",
   "execution_count": null,
   "metadata": {
    "hidden": true
   },
   "outputs": [],
   "source": [
    "Scores1 = Output(pred1,label_test)\n",
    "Scores1"
   ]
  },
  {
   "cell_type": "markdown",
   "metadata": {
    "heading_collapsed": true,
    "hidden": true
   },
   "source": [
    "#### Cross Validation"
   ]
  },
  {
   "cell_type": "code",
   "execution_count": 47,
   "metadata": {
    "ExecuteTime": {
     "end_time": "2020-06-10T02:53:51.432297Z",
     "start_time": "2020-06-10T02:53:51.318364Z"
    },
    "hidden": true
   },
   "outputs": [
    {
     "ename": "NameError",
     "evalue": "name 'AdaModel_PCA' is not defined",
     "output_type": "error",
     "traceback": [
      "\u001b[1;31m---------------------------------------------------------------------------\u001b[0m",
      "\u001b[1;31mNameError\u001b[0m                                 Traceback (most recent call last)",
      "\u001b[1;32m<ipython-input-47-880ffdaf52ef>\u001b[0m in \u001b[0;36m<module>\u001b[1;34m\u001b[0m\n\u001b[1;32m----> 1\u001b[1;33m \u001b[0mav_df1\u001b[0m \u001b[1;33m=\u001b[0m \u001b[0mCrossValidation\u001b[0m\u001b[1;33m(\u001b[0m\u001b[0mAdaModel_PCA\u001b[0m\u001b[1;33m,\u001b[0m\u001b[0mnathan_proj_features\u001b[0m\u001b[1;33m,\u001b[0m\u001b[0mlabels\u001b[0m\u001b[1;33m)\u001b[0m\u001b[1;33m\u001b[0m\u001b[1;33m\u001b[0m\u001b[0m\n\u001b[0m\u001b[0;32m      2\u001b[0m \u001b[0mav_df1\u001b[0m\u001b[1;33m\u001b[0m\u001b[1;33m\u001b[0m\u001b[0m\n",
      "\u001b[1;31mNameError\u001b[0m: name 'AdaModel_PCA' is not defined"
     ]
    }
   ],
   "source": [
    "N_Model1_df = CrossValidation(RF_PCA,nathan_proj_features,labels)\n",
    "N_Model1_df"
   ]
  },
  {
   "cell_type": "markdown",
   "metadata": {
    "heading_collapsed": true,
    "hidden": true
   },
   "source": [
    "### Random Forests [WITHOUT] PCA"
   ]
  },
  {
   "cell_type": "code",
   "execution_count": null,
   "metadata": {
    "hidden": true
   },
   "outputs": [],
   "source": [
    "#########################################################################\n",
    "#\n",
    "# Random Forests [WITHOUT] PCA\n",
    "#\n",
    "#########################################################################\n",
    "# Train Random Forests model using PC transformed Morgan features\n",
    "\n",
    "RF_ = RandomForestClassifier(n_estimators = 100,criterion='gini',bootstrap = True, warm_start = False)\n",
    "rf = RF_.fit(nathan_train,label_train)\n",
    "pred2 = rf.predict(nathan_test)"
   ]
  },
  {
   "cell_type": "markdown",
   "metadata": {
    "heading_collapsed": true,
    "hidden": true
   },
   "source": [
    "#### Scores"
   ]
  },
  {
   "cell_type": "code",
   "execution_count": null,
   "metadata": {
    "hidden": true
   },
   "outputs": [],
   "source": [
    "Scores2 = Output(pred2,label_test)\n",
    "Scores2"
   ]
  },
  {
   "cell_type": "markdown",
   "metadata": {
    "heading_collapsed": true,
    "hidden": true
   },
   "source": [
    "#### Cross Validation"
   ]
  },
  {
   "cell_type": "code",
   "execution_count": null,
   "metadata": {
    "hidden": true
   },
   "outputs": [],
   "source": [
    "N_Model2_df = CrossValidation(RF_,nathan_features,labels)\n",
    "N_Model2_df"
   ]
  },
  {
   "cell_type": "markdown",
   "metadata": {
    "heading_collapsed": true
   },
   "source": [
    "## FULL Dataframe"
   ]
  },
  {
   "cell_type": "code",
   "execution_count": null,
   "metadata": {
    "hidden": true
   },
   "outputs": [],
   "source": [
    "result = pd.concat([M_Model1_df, M_Model2_df,MAC_Model1_df,MAC_Model2_df,RDK_Model1_df,RDK_Model2_df,N_Model1_df,N_Model2_df], axis=1, join='inner')\n",
    "result.columns = ['M_Model1_df','M_Model2_df','MAC_Model1_df','MAC_Model2_df','RDK_Model1_df','RDK_Model2_df',\"N_Model1_df\",\"N_Model2_df\"]\n",
    "result = result.transpose()\n",
    "result.to_csv(\"RF_Result.csv\")\n",
    "result"
   ]
  }
 ],
 "metadata": {
  "hide_input": false,
  "kernelspec": {
   "display_name": "Python 3",
   "language": "python",
   "name": "python3"
  },
  "language_info": {
   "codemirror_mode": {
    "name": "ipython",
    "version": 3
   },
   "file_extension": ".py",
   "mimetype": "text/x-python",
   "name": "python",
   "nbconvert_exporter": "python",
   "pygments_lexer": "ipython3",
   "version": "3.7.7"
  }
 },
 "nbformat": 4,
 "nbformat_minor": 4
}
