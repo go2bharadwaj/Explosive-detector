{
 "cells": [
  {
   "cell_type": "markdown",
   "metadata": {
    "heading_collapsed": true
   },
   "source": [
    "# LogisticReg"
   ]
  },
  {
   "cell_type": "code",
   "execution_count": 1,
   "metadata": {
    "ExecuteTime": {
     "end_time": "2020-06-05T23:51:37.963665Z",
     "start_time": "2020-06-05T23:51:32.412466Z"
    },
    "hidden": true
   },
   "outputs": [],
   "source": [
    "import pandas as pd\n",
    "import numpy as np\n",
    "\n",
    "#import matplotlib as plt\n",
    "import matplotlib.pyplot as plt\n",
    "from mpl_toolkits.mplot3d import axes3d\n",
    "from rdkit import Chem\n",
    "\n",
    "# FEATURES\n",
    "from rdkit.Chem import Descriptors\n",
    "from rdkit.Chem import AllChem # For Morgan Fingerprint (Circular Fingerprints)\n",
    "from rdkit.Chem import MACCSkeys # For MACCS keys\n",
    "\n",
    "# SCALING DATA\n",
    "from sklearn.preprocessing import scale\n",
    "\n",
    "# For splitting data into training and test sets.\n",
    "from sklearn.model_selection import train_test_split\n",
    "\n",
    "# For processing how well our methods have classified our data\n",
    "from sklearn.metrics import accuracy_score, confusion_matrix, recall_score, precision_score, f1_score,roc_auc_score\n",
    "\n",
    "# Principal Component Analysis (PCA)\n",
    "from sklearn.decomposition import PCA\n",
    "\n",
    "# Logistic Regression ML Model\n",
    "from sklearn.linear_model import LogisticRegression"
   ]
  },
  {
   "cell_type": "code",
   "execution_count": 2,
   "metadata": {
    "ExecuteTime": {
     "end_time": "2020-06-05T23:51:37.988597Z",
     "start_time": "2020-06-05T23:51:37.967654Z"
    },
    "hidden": true
   },
   "outputs": [],
   "source": [
    "####################################################################\n",
    "###\n",
    "###    User Defined Helper Functions\n",
    "###\n",
    "####################################################################\n",
    "\n",
    "# FUNCTION LOAD_DATA\n",
    "# Load the data from the csv file in the [data] folder. We separate \n",
    "# the molecule data from the \"explosive\" labes and return the labels\n",
    "# an a molecules from SMILES representation for each molecule in the \n",
    "# dataset\n",
    "def load_data(data_file):\n",
    "    mol_df = pd.read_csv(data_file)\n",
    "\n",
    "    smiles = np.array(mol_df['smiles'])\n",
    "    labels = np.array(mol_df['labels']) \n",
    "    \n",
    "    mols = np.array([Chem.MolFromSmiles(smile) for smile in smiles])\n",
    "    \n",
    "    return mols, labels\n",
    "\n",
    "# FUNCTION GEN_FPRINTS\n",
    "# Generate molecule fingerprints for each molecule in an input list\n",
    "def gen_fprints(mols):\n",
    "    f_prints = np.array([Chem.RDKFingerprint(mol) for mol in mols])  \n",
    "    return f_prints\n",
    "\n",
    "# FUNCTION gen_MACCS \n",
    "# Generate the MACCS keys for each molecule in an input list of molecules\n",
    "def gen_MACCS(mols):\n",
    "    MACCS_keys = np.array([MACCSkeys.GenMACCSKeys(mol) for mol in mols])\n",
    "    return MACCS_keys\n",
    "\n",
    "# FUNCTION gen_morgan_prints\n",
    "# Generates Morgan finger prints for each molecule in an input list of molecules\n",
    "def gen_morgan_prints(mols,radius):\n",
    "    morgan_prints = np.array([AllChem.GetMorganFingerprintAsBitVect(mol,radius,nBits=1024) for mol in mols])\n",
    "    return morgan_prints"
   ]
  },
  {
   "cell_type": "code",
   "execution_count": 4,
   "metadata": {
    "ExecuteTime": {
     "end_time": "2020-06-05T23:52:22.573907Z",
     "start_time": "2020-06-05T23:52:20.274900Z"
    },
    "hidden": true
   },
   "outputs": [],
   "source": [
    "data_file = 'molecule_data.csv'\n",
    "mols, labels = load_data(data_file)"
   ]
  },
  {
   "cell_type": "code",
   "execution_count": 5,
   "metadata": {
    "ExecuteTime": {
     "end_time": "2020-06-05T23:53:01.145801Z",
     "start_time": "2020-06-05T23:52:44.165475Z"
    },
    "hidden": true
   },
   "outputs": [],
   "source": [
    "# load different molecular features separately\n",
    "##############################################\n",
    "#rdk_features    = gen_fprints(mols)\n",
    "#maccs_features  = gen_MACCS(mols)\n",
    "morgan_features = gen_morgan_prints(mols,radius=18)"
   ]
  },
  {
   "cell_type": "code",
   "execution_count": 6,
   "metadata": {
    "ExecuteTime": {
     "end_time": "2020-06-05T23:53:01.183700Z",
     "start_time": "2020-06-05T23:53:01.148793Z"
    },
    "hidden": true,
    "run_control": {
     "marked": false
    }
   },
   "outputs": [],
   "source": [
    "# Split data for [training] and [testing]\n",
    "morgan_train, morgan_test, label_train, label_test = train_test_split(morgan_features, labels, \\\n",
    "                                                                test_size=0.3, shuffle=True)"
   ]
  },
  {
   "cell_type": "code",
   "execution_count": 7,
   "metadata": {
    "ExecuteTime": {
     "end_time": "2020-06-05T23:53:01.613550Z",
     "start_time": "2020-06-05T23:53:01.189685Z"
    },
    "hidden": true,
    "run_control": {
     "marked": false
    }
   },
   "outputs": [],
   "source": [
    "######################\n",
    "# Principal Components\n",
    "######################\n",
    "\n",
    "# Determine principal components using [training data] and apply the transformation to the [test data]\n",
    "PC_morgan_proj = PCA(n_components=4)\n",
    "morgan_proj_train = PC_morgan_proj.fit_transform(morgan_train)\n",
    "morgan_proj_test = PC_morgan_proj.transform(morgan_test)\n",
    "morgan_proj_features = PC_morgan_proj.fit_transform(morgan_features)"
   ]
  },
  {
   "cell_type": "code",
   "execution_count": 8,
   "metadata": {
    "ExecuteTime": {
     "end_time": "2020-06-05T23:53:01.666408Z",
     "start_time": "2020-06-05T23:53:01.618537Z"
    },
    "hidden": true
   },
   "outputs": [],
   "source": [
    "#########################################################################\n",
    "#\n",
    "# Logistic Regression with PCA\n",
    "#\n",
    "#########################################################################\n",
    "# Train Logistic Regression model using PC transformed Morgan features\n",
    "\n",
    "LRmodelPC = LogisticRegression()\n",
    "LRmodelPC.fit(morgan_proj_train, label_train)\n",
    "pred = LRmodelPC.predict(morgan_proj_test)"
   ]
  },
  {
   "cell_type": "code",
   "execution_count": 8,
   "metadata": {
    "hidden": true
   },
   "outputs": [
    {
     "name": "stdout",
     "output_type": "stream",
     "text": [
      "Confusion Matrix\n",
      "[[1176    4]\n",
      " [   8   69]]\n",
      "\n",
      "Recall\n",
      "0.8961038961038961\n",
      "\n",
      "Accuracy\n",
      "0.9904534606205251\n",
      "\n",
      "F1 Score\n",
      "0.9199999999999999\n",
      "\n",
      "ROC AUC Score\n",
      "0.9463570327977108\n"
     ]
    }
   ],
   "source": [
    "# Model Generalizability Analysis\n",
    "accuracy = accuracy_score(label_test, pred)\n",
    "conf_matrix = confusion_matrix(label_test, pred)\n",
    "F1Score = f1_score(label_test,pred)\n",
    "roc_auc = roc_auc_score(label_test,pred)\n",
    "recall = recall_score(label_test,pred)\n",
    "\n",
    "print('Confusion Matrix')\n",
    "print(conf_matrix)\n",
    "\n",
    "print('\\nRecall')\n",
    "print(recall)  \n",
    "\n",
    "print('\\nAccuracy')\n",
    "print(accuracy)  \n",
    "\n",
    "print('\\nF1 Score')\n",
    "print(F1Score)\n",
    "\n",
    "print('\\nROC AUC Score')\n",
    "print(roc_auc)"
   ]
  },
  {
   "cell_type": "code",
   "execution_count": null,
   "metadata": {
    "hidden": true
   },
   "outputs": [],
   "source": [
    "Model1_df = CrossValidation(LRmodelPC,morgan_proj_features,labels)\n",
    "Model1_df"
   ]
  },
  {
   "cell_type": "code",
   "execution_count": 9,
   "metadata": {
    "hidden": true
   },
   "outputs": [],
   "source": [
    "#########################################################################\n",
    "#\n",
    "# Logistic Regression [WITHOUT] PCA\n",
    "#\n",
    "#########################################################################\n",
    "\n",
    "# Train Logistic Regression model using PC transformed Morgan features\n",
    "LRmodel = LogisticRegression()\n",
    "LRmodel.fit(morgan_train, label_train)\n",
    "pred = LRmodel.predict(morgan_test)"
   ]
  },
  {
   "cell_type": "code",
   "execution_count": 10,
   "metadata": {
    "hidden": true
   },
   "outputs": [
    {
     "name": "stdout",
     "output_type": "stream",
     "text": [
      "Confusion Matrix\n",
      "[[1173    7]\n",
      " [   7   70]]\n",
      "\n",
      "Recall\n",
      "0.9090909090909091\n",
      "\n",
      "Accuracy\n",
      "0.9888623707239459\n",
      "\n",
      "F1 Score\n",
      "0.9090909090909091\n",
      "\n",
      "ROC AUC Score\n",
      "0.9515793528505393\n"
     ]
    }
   ],
   "source": [
    "# Model Generalizability Analysis\n",
    "accuracy = accuracy_score(label_test, pred)\n",
    "conf_matrix = confusion_matrix(label_test, pred)\n",
    "F1Score = f1_score(label_test,pred)\n",
    "roc_auc = roc_auc_score(label_test,pred)\n",
    "recall = recall_score(label_test,pred)\n",
    "\n",
    "print('Confusion Matrix')\n",
    "print(conf_matrix)\n",
    "\n",
    "print('\\nRecall')\n",
    "print(recall)  \n",
    "\n",
    "print('\\nAccuracy')\n",
    "print(accuracy)  \n",
    "\n",
    "print('\\nF1 Score')\n",
    "print(F1Score)\n",
    "\n",
    "print('\\nROC AUC Score')\n",
    "print(roc_auc)"
   ]
  },
  {
   "cell_type": "code",
   "execution_count": null,
   "metadata": {
    "hidden": true
   },
   "outputs": [],
   "source": [
    "Model2_df = CrossValidation(LRmodel,morgan_features,labels)\n",
    "Model2_df"
   ]
  },
  {
   "cell_type": "code",
   "execution_count": null,
   "metadata": {
    "hidden": true
   },
   "outputs": [],
   "source": [
    "result = pd.concat([Model1_df,Model2_df], axis=1, join='inner')\n",
    "final = result.transpose()\n",
    "final.to_csv(\"LogisticReg_Result.csv\")\n",
    "final"
   ]
  }
 ],
 "metadata": {
  "hide_input": false,
  "kernelspec": {
   "display_name": "Python 3",
   "language": "python",
   "name": "python3"
  },
  "language_info": {
   "codemirror_mode": {
    "name": "ipython",
    "version": 3
   },
   "file_extension": ".py",
   "mimetype": "text/x-python",
   "name": "python",
   "nbconvert_exporter": "python",
   "pygments_lexer": "ipython3",
   "version": "3.7.7"
  }
 },
 "nbformat": 4,
 "nbformat_minor": 4
}
