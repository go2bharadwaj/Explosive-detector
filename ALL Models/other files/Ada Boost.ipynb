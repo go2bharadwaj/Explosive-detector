{
 "cells": [
  {
   "cell_type": "markdown",
   "metadata": {},
   "source": [
    "# Ada Boost\n",
    "\n",
    " - Goal: To Apply Ada Boost to several models to test Recall, Accuracy, F1 score and ROC AUC Score, using diffrent features inputs "
   ]
  },
  {
   "cell_type": "markdown",
   "metadata": {
    "heading_collapsed": true
   },
   "source": [
    "## Import Statements"
   ]
  },
  {
   "cell_type": "code",
   "execution_count": 239,
   "metadata": {
    "ExecuteTime": {
     "end_time": "2020-06-09T02:51:00.578546Z",
     "start_time": "2020-06-09T02:51:00.562591Z"
    },
    "hidden": true
   },
   "outputs": [],
   "source": [
    "import pandas as pd\n",
    "import numpy as np\n",
    "\n",
    "#import matplotlib as plt\n",
    "import matplotlib.pyplot as plt\n",
    "from mpl_toolkits.mplot3d import axes3d\n",
    "from rdkit import Chem\n",
    "\n",
    "# FEATURES\n",
    "from rdkit.Chem import Descriptors\n",
    "from rdkit.Chem import AllChem # For Morgan Fingerprint (Circular Fingerprints)\n",
    "from rdkit.Chem import MACCSkeys # For MACCS keys\n",
    "\n",
    "# SCALING DATA\n",
    "from sklearn.preprocessing import scale\n",
    "\n",
    "# For splitting data into training and test sets.\n",
    "from sklearn.model_selection import train_test_split\n",
    "\n",
    "# For processing how well our methods have classified our data\n",
    "from sklearn.metrics import accuracy_score, confusion_matrix, recall_score, precision_score, f1_score,roc_auc_score\n",
    "\n",
    "# Principal Component Analysis (PCA)\n",
    "from sklearn.decomposition import PCA\n",
    "\n",
    "# Logistic Regression ML Model\n",
    "from sklearn.linear_model import LogisticRegression\n",
    "\n",
    "# Ada Boost Classifier\n",
    "from sklearn.ensemble import AdaBoostClassifier\n",
    "\n",
    "# Cross Validation\n",
    "from sklearn.model_selection import cross_val_score\n",
    "\n",
    "#CV\n",
    "from sklearn.model_selection import cross_validate"
   ]
  },
  {
   "cell_type": "markdown",
   "metadata": {
    "heading_collapsed": true
   },
   "source": [
    "## User Defined Helper Functions"
   ]
  },
  {
   "cell_type": "code",
   "execution_count": 304,
   "metadata": {
    "ExecuteTime": {
     "end_time": "2020-06-10T01:33:22.891683Z",
     "start_time": "2020-06-10T01:33:22.822774Z"
    },
    "hidden": true
   },
   "outputs": [],
   "source": [
    "# FUNCTION LOAD_DATA\n",
    "# Load the data from the csv file in the [data] folder. We separate \n",
    "# the molecule data from the \"explosive\" labes and return the labels\n",
    "# an a molecules from SMILES representation for each molecule in the \n",
    "# dataset\n",
    "def load_data(data_file):\n",
    "    mol_df = pd.read_csv(data_file)\n",
    "\n",
    "    smiles = np.array(mol_df['smiles'])\n",
    "    labels = np.array(mol_df['labels']) \n",
    "    \n",
    "    mols = np.array([Chem.MolFromSmiles(smile) for smile in smiles])\n",
    "    \n",
    "    return mols, labels\n",
    "\n",
    "# FUNCTION GEN_FPRINTS\n",
    "# Generate molecule fingerprints for each molecule in an input list\n",
    "def gen_fprints(mols):\n",
    "    f_prints = np.array([Chem.RDKFingerprint(mol) for mol in mols])  \n",
    "    return f_prints\n",
    "\n",
    "# FUNCTION gen_MACCS \n",
    "# Generate the MACCS keys for each molecule in an input list of molecules\n",
    "def gen_MACCS(mols):\n",
    "    MACCS_keys = np.array([MACCSkeys.GenMACCSKeys(mol) for mol in mols])\n",
    "    return MACCS_keys\n",
    "\n",
    "# FUNCTION gen_morgan_prints\n",
    "# Generates Morgan finger prints for each molecule in an input list of molecules\n",
    "def gen_morgan_prints(mols,radius):\n",
    "    morgan_prints = np.array([AllChem.GetMorganFingerprintAsBitVect(mol,radius,nBits=1024) for mol in mols])\n",
    "    return morgan_prints\n",
    "\n",
    "# FUNCTION CrossValidation\n",
    "# Runs Cross Validation and outputs the results in a dataframe\n",
    "def CrossValidation(ML_model,X,Y):\n",
    "    model_scores = []\n",
    "    model_scores.append(cross_validate(ML_model, X , Y , cv=5, scoring=('recall','accuracy', 'f1', 'roc_auc'), return_train_score=True))\n",
    "    models_df = pd.DataFrame(model_scores, columns = ['fit_time','score_time','test_recall','train_recall','test_accuracy','train_accuracy','test_f1','train_f1','test_roc_auc','train_roc_auc'],index=[\"AdaModel_PCA\"])\n",
    "    av_column = models_df.mean(axis = 0)\n",
    "    return pd.DataFrame(av_column)\n",
    "\n",
    "# FUNCTION Output\n",
    "# Prints out the Scores of the model\n",
    "def Output(pred,label_test):\n",
    "    # Model Generalizability Analysis\n",
    "    accuracy = accuracy_score(label_test, pred)\n",
    "    conf_matrix = confusion_matrix(label_test, pred)\n",
    "    F1Score = f1_score(label_test,pred)\n",
    "    roc_auc = roc_auc_score(label_test,pred)\n",
    "    recall = recall_score(label_test,pred)\n",
    "\n",
    "    print('\\033[1m' + 'Confusion Matrix' + '\\033[0m') # printing in bold\n",
    "    print(conf_matrix)\n",
    "    \n",
    "    print('\\033[1m' + '\\nRecall' + '\\033[0m')\n",
    "    print(recall)  \n",
    "\n",
    "    print('\\033[1m' + '\\nAccuracy' + '\\033[0m')\n",
    "    print(accuracy)  \n",
    "    \n",
    "    print('\\033[1m' + '\\nF1 Score' + '\\033[0m')\n",
    "    print(F1Score)\n",
    "\n",
    "    print('\\033[1m' + '\\nROC AUC Score' + '\\033[0m')\n",
    "    print(roc_auc)\n",
    "\n",
    "    \n",
    "def getKeyFromBond(bond):\n",
    "    atom1 = int(bond.GetBeginAtom().GetAtomicNum())\n",
    "    atom2 = int(bond.GetEndAtom().GetAtomicNum())\n",
    "\n",
    "    if atom1 > atom2:\n",
    "        atom1, atom2 = atom2, atom1\n",
    "\n",
    "    bondType = int(bond.GetBondTypeAsDouble() * 2 - 2)\n",
    "    key = atom1 | (atom2 << 8) | (bondType << 16)\n",
    "\n",
    "    return key\n",
    "\n",
    "def formatMolecule(ID):\n",
    "    pt = Chem.GetPeriodicTable()\n",
    "    atom1 = pt.GetElementSymbol(int(ID & 255))\n",
    "    atom2 = pt.GetElementSymbol(int((ID >> 8) & 255))\n",
    "    bondType = ['-', ':', '=', 'err', '#'][(ID >> 16) & 255]\n",
    "    return '%s%s%s' % (atom1,bondType,atom2)\n",
    "\n",
    "def gen_nathan_prints(mols):\n",
    "    # this dictionary is responsible for assigning a unique ID (index) to\n",
    "    # every unique bond.  The bonds are assigned incrementing IDs as discovered\n",
    "    bondIDs = dict()\n",
    "    numUniqueBonds = 0\n",
    "    \n",
    "    for molecule in mols:\n",
    "        for bond in molecule.GetBonds():\n",
    "            key = getKeyFromBond(bond)\n",
    "            if key not in bondIDs:\n",
    "                bondIDs[key] = numUniqueBonds\n",
    "                numUniqueBonds += 1\n",
    "    \n",
    "    # list of numpy byte arrays representing the feature vector of each molecule\n",
    "    fingerprints = []\n",
    "\n",
    "    for molecule in mols:\n",
    "        # One molecule has 105 carbon-carbon single bonds, so the fingerprint\n",
    "        # format is set to preserve up to that many occurances of any unique bond\n",
    "            \n",
    "        # each fingerprint requires 1 byte to store the count of each unique bond type\n",
    "        # plus the extra 2 bytes store the molecule's molar mass\n",
    "        fingerprint = np.zeros(numUniqueBonds + 2, np.uint8)\n",
    "        \n",
    "        for bond in molecule.GetBonds():\n",
    "            key = getKeyFromBond(bond)\n",
    "            index = bondIDs[key]\n",
    "            fingerprint[index] += 1\n",
    "        \n",
    "        # the heaviest molecule in our dataset weights 3431.9089999999887 g/mol\n",
    "        # encode the weight with 1/5 increments of fractional value\n",
    "        # in the last 2 bytes of the finger print / feature vector\n",
    "        weight = Descriptors.MolWt(molecule)\n",
    "        intWeight = round(weight * 5)\n",
    "        fingerprint[numUniqueBonds] = intWeight & 255\n",
    "        fingerprint[numUniqueBonds + 1] = (intWeight >> 8) & 255\n",
    "        \n",
    "        fingerprints.append(fingerprint)\n",
    "    \n",
    "    # create a mapping from bond ID to bond key to aid feature importance\n",
    "    sourceMap = np.zeros(numUniqueBonds, np.uint32)\n",
    "    for k, v in bondIDs.items():\n",
    "        sourceMap[v] = k\n",
    "    \n",
    "    return fingerprints, sourceMap"
   ]
  },
  {
   "cell_type": "markdown",
   "metadata": {
    "heading_collapsed": true
   },
   "source": [
    "## Loading data"
   ]
  },
  {
   "cell_type": "code",
   "execution_count": 191,
   "metadata": {
    "ExecuteTime": {
     "end_time": "2020-06-08T22:17:28.415358Z",
     "start_time": "2020-06-08T22:17:27.272161Z"
    },
    "hidden": true
   },
   "outputs": [],
   "source": [
    "data_file = 'molecule_data.csv'\n",
    "mols, labels = load_data(data_file)"
   ]
  },
  {
   "cell_type": "markdown",
   "metadata": {
    "heading_collapsed": true
   },
   "source": [
    "## Using Morgan Features"
   ]
  },
  {
   "cell_type": "code",
   "execution_count": 192,
   "metadata": {
    "ExecuteTime": {
     "end_time": "2020-06-08T22:17:40.269409Z",
     "start_time": "2020-06-08T22:17:28.417239Z"
    },
    "hidden": true,
    "run_control": {
     "marked": false
    }
   },
   "outputs": [],
   "source": [
    "# load different molecular features separately\n",
    "##############################################\n",
    "#rdk_features    = gen_fprints(mols)\n",
    "#maccs_features  = gen_MACCS(mols)\n",
    "morgan_features = gen_morgan_prints(mols,radius=16)"
   ]
  },
  {
   "cell_type": "code",
   "execution_count": 193,
   "metadata": {
    "ExecuteTime": {
     "end_time": "2020-06-08T22:17:40.299241Z",
     "start_time": "2020-06-08T22:17:40.273310Z"
    },
    "hidden": true
   },
   "outputs": [],
   "source": [
    "# Split data for [training] and [testing]\n",
    "morgan_train, morgan_test, label_train, label_test = train_test_split(morgan_features, labels, \\\n",
    "                                                                test_size=0.3, shuffle=True)"
   ]
  },
  {
   "cell_type": "code",
   "execution_count": 295,
   "metadata": {
    "ExecuteTime": {
     "end_time": "2020-06-09T21:36:42.844806Z",
     "start_time": "2020-06-09T21:36:39.481089Z"
    },
    "hidden": true
   },
   "outputs": [],
   "source": [
    "######################\n",
    "# Principal Components\n",
    "######################\n",
    "\n",
    "# Determine principal components using [training data] and apply the transformation to the [test data]\n",
    "PC_morgan_proj = PCA(n_components=961)\n",
    "morgan_proj_train = PC_morgan_proj.fit_transform(morgan_train)\n",
    "morgan_proj_test = PC_morgan_proj.transform(morgan_test)\n",
    "morgan_proj_features = PC_morgan_proj.fit_transform(morgan_features)"
   ]
  },
  {
   "cell_type": "markdown",
   "metadata": {
    "heading_collapsed": true,
    "hidden": true
   },
   "source": [
    "### Ada Boost with PCA"
   ]
  },
  {
   "cell_type": "code",
   "execution_count": 282,
   "metadata": {
    "ExecuteTime": {
     "end_time": "2020-06-09T21:07:41.297464Z",
     "start_time": "2020-06-09T21:07:40.369638Z"
    },
    "hidden": true
   },
   "outputs": [],
   "source": [
    "#########################################################################\n",
    "#\n",
    "# Ada Boost with PCA\n",
    "#\n",
    "#########################################################################\n",
    "# Train Ada Boost model using PC transformed Morgan features\n",
    "\n",
    "# n_estimators -> number of weak learners to train iteratively\n",
    "# learning_rate -> It contributes to the weight of weak learners. It uses 1 as a default value\n",
    "AdaModel_PCA = AdaBoostClassifier(n_estimators = 100, learning_rate = 1)\n",
    "Ada = AdaModel_PCA.fit(morgan_proj_train,label_train)\n",
    "pred1 = Ada.predict(morgan_proj_test)"
   ]
  },
  {
   "cell_type": "markdown",
   "metadata": {
    "heading_collapsed": true,
    "hidden": true
   },
   "source": [
    "#### Scores"
   ]
  },
  {
   "cell_type": "code",
   "execution_count": 283,
   "metadata": {
    "ExecuteTime": {
     "end_time": "2020-06-09T21:07:41.343548Z",
     "start_time": "2020-06-09T21:07:41.302441Z"
    },
    "hidden": true
   },
   "outputs": [
    {
     "name": "stdout",
     "output_type": "stream",
     "text": [
      "Confusion Matrix\n",
      "[[1165    7]\n",
      " [  10   75]]\n",
      "\n",
      "Recall\n",
      "0.8823529411764706\n",
      "\n",
      "Accuracy\n",
      "0.9864757358790772\n",
      "\n",
      "F1 Score\n",
      "0.8982035928143712\n",
      "\n",
      "ROC AUC Score\n",
      "0.9381901224653684\n"
     ]
    }
   ],
   "source": [
    "Scores1 = Output(pred1,label_test)\n",
    "Scores1"
   ]
  },
  {
   "cell_type": "markdown",
   "metadata": {
    "heading_collapsed": true,
    "hidden": true
   },
   "source": [
    "#### Cross Validation"
   ]
  },
  {
   "cell_type": "code",
   "execution_count": 296,
   "metadata": {
    "ExecuteTime": {
     "end_time": "2020-06-09T21:46:19.431101Z",
     "start_time": "2020-06-09T21:38:02.666580Z"
    },
    "hidden": true
   },
   "outputs": [
    {
     "data": {
      "text/html": [
       "<div>\n",
       "<style scoped>\n",
       "    .dataframe tbody tr th:only-of-type {\n",
       "        vertical-align: middle;\n",
       "    }\n",
       "\n",
       "    .dataframe tbody tr th {\n",
       "        vertical-align: top;\n",
       "    }\n",
       "\n",
       "    .dataframe thead th {\n",
       "        text-align: right;\n",
       "    }\n",
       "</style>\n",
       "<table border=\"1\" class=\"dataframe\">\n",
       "  <thead>\n",
       "    <tr style=\"text-align: right;\">\n",
       "      <th></th>\n",
       "      <th>0</th>\n",
       "    </tr>\n",
       "  </thead>\n",
       "  <tbody>\n",
       "    <tr>\n",
       "      <th>fit_time</th>\n",
       "      <td>91.961993</td>\n",
       "    </tr>\n",
       "    <tr>\n",
       "      <th>score_time</th>\n",
       "      <td>1.447982</td>\n",
       "    </tr>\n",
       "    <tr>\n",
       "      <th>test_recall</th>\n",
       "      <td>0.830189</td>\n",
       "    </tr>\n",
       "    <tr>\n",
       "      <th>train_recall</th>\n",
       "      <td>1.000000</td>\n",
       "    </tr>\n",
       "    <tr>\n",
       "      <th>test_accuracy</th>\n",
       "      <td>0.985680</td>\n",
       "    </tr>\n",
       "    <tr>\n",
       "      <th>train_accuracy</th>\n",
       "      <td>1.000000</td>\n",
       "    </tr>\n",
       "    <tr>\n",
       "      <th>test_f1</th>\n",
       "      <td>0.880000</td>\n",
       "    </tr>\n",
       "    <tr>\n",
       "      <th>train_f1</th>\n",
       "      <td>1.000000</td>\n",
       "    </tr>\n",
       "    <tr>\n",
       "      <th>test_roc_auc</th>\n",
       "      <td>0.993366</td>\n",
       "    </tr>\n",
       "    <tr>\n",
       "      <th>train_roc_auc</th>\n",
       "      <td>1.000000</td>\n",
       "    </tr>\n",
       "  </tbody>\n",
       "</table>\n",
       "</div>"
      ],
      "text/plain": [
       "                        0\n",
       "fit_time        91.961993\n",
       "score_time       1.447982\n",
       "test_recall      0.830189\n",
       "train_recall     1.000000\n",
       "test_accuracy    0.985680\n",
       "train_accuracy   1.000000\n",
       "test_f1          0.880000\n",
       "train_f1         1.000000\n",
       "test_roc_auc     0.993366\n",
       "train_roc_auc    1.000000"
      ]
     },
     "execution_count": 296,
     "metadata": {},
     "output_type": "execute_result"
    }
   ],
   "source": [
    "M_av_df1 = CrossValidation(AdaModel_PCA,morgan_proj_features,labels)\n",
    "M_av_df1"
   ]
  },
  {
   "cell_type": "markdown",
   "metadata": {
    "heading_collapsed": true,
    "hidden": true
   },
   "source": [
    "### Ada Boost [WITHOUT] PCA"
   ]
  },
  {
   "cell_type": "code",
   "execution_count": null,
   "metadata": {
    "ExecuteTime": {
     "end_time": "2020-06-09T21:09:06.638208Z",
     "start_time": "2020-06-09T21:08:50.494349Z"
    },
    "hidden": true
   },
   "outputs": [],
   "source": [
    "#########################################################################\n",
    "#\n",
    "# Ada Boost [WITHOUT] PCA\n",
    "#\n",
    "#########################################################################\n",
    "# Train Logistic Regression model using PC transformed Morgan features\n",
    "AdaModel_ = AdaBoostClassifier(n_estimators = 100, learning_rate = 1)\n",
    "Ada = AdaModel_.fit(morgan_train,label_train)\n",
    "pred2 = Ada.predict(morgan_test)"
   ]
  },
  {
   "cell_type": "markdown",
   "metadata": {
    "heading_collapsed": true,
    "hidden": true
   },
   "source": [
    "#### Scores"
   ]
  },
  {
   "cell_type": "code",
   "execution_count": 285,
   "metadata": {
    "ExecuteTime": {
     "end_time": "2020-06-09T21:09:06.668094Z",
     "start_time": "2020-06-09T21:09:06.641247Z"
    },
    "hidden": true
   },
   "outputs": [
    {
     "name": "stdout",
     "output_type": "stream",
     "text": [
      "Confusion Matrix\n",
      "[[1163    9]\n",
      " [  11   74]]\n",
      "\n",
      "Recall\n",
      "0.8705882352941177\n",
      "\n",
      "Accuracy\n",
      "0.9840891010342084\n",
      "\n",
      "F1 Score\n",
      "0.880952380952381\n",
      "\n",
      "ROC AUC Score\n",
      "0.9314545272033729\n"
     ]
    }
   ],
   "source": [
    "Scores2 = Output(pred2,label_test)\n",
    "Scores2"
   ]
  },
  {
   "cell_type": "markdown",
   "metadata": {
    "heading_collapsed": true,
    "hidden": true
   },
   "source": [
    "#### Cross Validation"
   ]
  },
  {
   "cell_type": "code",
   "execution_count": 286,
   "metadata": {
    "ExecuteTime": {
     "end_time": "2020-06-09T21:11:09.282160Z",
     "start_time": "2020-06-09T21:09:06.675235Z"
    },
    "hidden": true
   },
   "outputs": [
    {
     "data": {
      "text/html": [
       "<div>\n",
       "<style scoped>\n",
       "    .dataframe tbody tr th:only-of-type {\n",
       "        vertical-align: middle;\n",
       "    }\n",
       "\n",
       "    .dataframe tbody tr th {\n",
       "        vertical-align: top;\n",
       "    }\n",
       "\n",
       "    .dataframe thead th {\n",
       "        text-align: right;\n",
       "    }\n",
       "</style>\n",
       "<table border=\"1\" class=\"dataframe\">\n",
       "  <thead>\n",
       "    <tr style=\"text-align: right;\">\n",
       "      <th></th>\n",
       "      <th>0</th>\n",
       "    </tr>\n",
       "  </thead>\n",
       "  <tbody>\n",
       "    <tr>\n",
       "      <th>fit_time</th>\n",
       "      <td>17.772021</td>\n",
       "    </tr>\n",
       "    <tr>\n",
       "      <th>score_time</th>\n",
       "      <td>1.584419</td>\n",
       "    </tr>\n",
       "    <tr>\n",
       "      <th>test_recall</th>\n",
       "      <td>0.830189</td>\n",
       "    </tr>\n",
       "    <tr>\n",
       "      <th>train_recall</th>\n",
       "      <td>0.995215</td>\n",
       "    </tr>\n",
       "    <tr>\n",
       "      <th>test_accuracy</th>\n",
       "      <td>0.985680</td>\n",
       "    </tr>\n",
       "    <tr>\n",
       "      <th>train_accuracy</th>\n",
       "      <td>0.999403</td>\n",
       "    </tr>\n",
       "    <tr>\n",
       "      <th>test_f1</th>\n",
       "      <td>0.880000</td>\n",
       "    </tr>\n",
       "    <tr>\n",
       "      <th>train_f1</th>\n",
       "      <td>0.995215</td>\n",
       "    </tr>\n",
       "    <tr>\n",
       "      <th>test_roc_auc</th>\n",
       "      <td>0.986492</td>\n",
       "    </tr>\n",
       "    <tr>\n",
       "      <th>train_roc_auc</th>\n",
       "      <td>0.999995</td>\n",
       "    </tr>\n",
       "  </tbody>\n",
       "</table>\n",
       "</div>"
      ],
      "text/plain": [
       "                        0\n",
       "fit_time        17.772021\n",
       "score_time       1.584419\n",
       "test_recall      0.830189\n",
       "train_recall     0.995215\n",
       "test_accuracy    0.985680\n",
       "train_accuracy   0.999403\n",
       "test_f1          0.880000\n",
       "train_f1         0.995215\n",
       "test_roc_auc     0.986492\n",
       "train_roc_auc    0.999995"
      ]
     },
     "execution_count": 286,
     "metadata": {},
     "output_type": "execute_result"
    }
   ],
   "source": [
    "M_av_df2 = CrossValidation(AdaModel_,morgan_features,labels)\n",
    "M_av_df2"
   ]
  },
  {
   "cell_type": "markdown",
   "metadata": {
    "heading_collapsed": true,
    "hidden": true
   },
   "source": [
    "### Ada Boost with PCA using Logistic regression"
   ]
  },
  {
   "cell_type": "code",
   "execution_count": 199,
   "metadata": {
    "ExecuteTime": {
     "end_time": "2020-06-08T22:17:53.449973Z",
     "start_time": "2020-06-08T22:17:52.334954Z"
    },
    "hidden": true
   },
   "outputs": [],
   "source": [
    "#########################################################################\n",
    "#\n",
    "# Ada Boost with PCA using Logistic regression\n",
    "#\n",
    "#########################################################################\n",
    "# Train Ada Boost model using PC transformed Morgan features\n",
    "\n",
    "# n_estimators -> number of weak learners to train iteratively\n",
    "# learning_rate -> It contributes to the weight of weak learners. It uses 1 as a default value\n",
    "from sklearn.linear_model import LogisticRegression \n",
    "\n",
    "mylogregmodel = LogisticRegression()\n",
    "\n",
    "AdaModel_LR_PCA = AdaBoostClassifier(n_estimators = 100,base_estimator = mylogregmodel, learning_rate = 1)\n",
    "Ada = AdaModel_LR_PCA.fit(morgan_proj_train,label_train)\n",
    "pred3 = Ada.predict(morgan_proj_test)"
   ]
  },
  {
   "cell_type": "markdown",
   "metadata": {
    "heading_collapsed": true,
    "hidden": true
   },
   "source": [
    "#### Scores"
   ]
  },
  {
   "cell_type": "code",
   "execution_count": 200,
   "metadata": {
    "ExecuteTime": {
     "end_time": "2020-06-08T22:17:53.487870Z",
     "start_time": "2020-06-08T22:17:53.452967Z"
    },
    "hidden": true
   },
   "outputs": [
    {
     "name": "stdout",
     "output_type": "stream",
     "text": [
      "Confusion Matrix\n",
      "[[1161   11]\n",
      " [  10   75]]\n",
      "\n",
      "Recall\n",
      "0.8823529411764706\n",
      "\n",
      "Accuracy\n",
      "0.9832935560859188\n",
      "\n",
      "F1 Score\n",
      "0.8771929824561403\n",
      "\n",
      "ROC AUC Score\n",
      "0.9364836378237302\n"
     ]
    }
   ],
   "source": [
    "Scores3 = Output(pred3,label_test)\n",
    "Scores3"
   ]
  },
  {
   "cell_type": "markdown",
   "metadata": {
    "heading_collapsed": true,
    "hidden": true
   },
   "source": [
    "#### Cross Validation"
   ]
  },
  {
   "cell_type": "code",
   "execution_count": null,
   "metadata": {
    "hidden": true
   },
   "outputs": [],
   "source": [
    "M_av_df3 = CrossValidation(AdaModel_LR_PCA,morgan_proj_features,labels)\n",
    "M_av_df3"
   ]
  },
  {
   "cell_type": "markdown",
   "metadata": {
    "heading_collapsed": true,
    "hidden": true
   },
   "source": [
    "### Ada Boost [WITHOUT] PCA using Logistic regression"
   ]
  },
  {
   "cell_type": "code",
   "execution_count": 287,
   "metadata": {
    "ExecuteTime": {
     "end_time": "2020-06-09T21:11:23.285304Z",
     "start_time": "2020-06-09T21:11:09.288077Z"
    },
    "hidden": true
   },
   "outputs": [],
   "source": [
    "#########################################################################\n",
    "#\n",
    "# Ada Boost without PCA using Logistic regression\n",
    "#\n",
    "#########################################################################\n",
    "# Train Ada Boost model using PC transformed Morgan features\n",
    "\n",
    "# n_estimators -> number of weak learners to train iteratively\n",
    "# learning_rate -> It contributes to the weight of weak learners. It uses 1 as a default value\n",
    "from sklearn.linear_model import LogisticRegression \n",
    "\n",
    "mylogregmodel = LogisticRegression()\n",
    "\n",
    "AdaModel_LR_ = AdaBoostClassifier(n_estimators = 100,base_estimator = mylogregmodel, learning_rate = 1)\n",
    "Ada = AdaModel_LR_.fit(morgan_train,label_train)\n",
    "pred4 = Ada.predict(morgan_test)"
   ]
  },
  {
   "cell_type": "markdown",
   "metadata": {
    "heading_collapsed": true,
    "hidden": true
   },
   "source": [
    "#### Scores"
   ]
  },
  {
   "cell_type": "code",
   "execution_count": 289,
   "metadata": {
    "ExecuteTime": {
     "end_time": "2020-06-09T21:11:23.367954Z",
     "start_time": "2020-06-09T21:11:23.323325Z"
    },
    "hidden": true
   },
   "outputs": [
    {
     "name": "stdout",
     "output_type": "stream",
     "text": [
      "Confusion Matrix\n",
      "[[1166    6]\n",
      " [   6   79]]\n",
      "\n",
      "Recall\n",
      "0.9294117647058824\n",
      "\n",
      "Accuracy\n",
      "0.9904534606205251\n",
      "\n",
      "F1 Score\n",
      "0.9294117647058824\n",
      "\n",
      "ROC AUC Score\n",
      "0.9621461553904839\n"
     ]
    }
   ],
   "source": [
    "Scores4 = Output(pred4,label_test)\n",
    "Scores4"
   ]
  },
  {
   "cell_type": "markdown",
   "metadata": {
    "heading_collapsed": true,
    "hidden": true
   },
   "source": [
    "#### Cross Validation"
   ]
  },
  {
   "cell_type": "code",
   "execution_count": 293,
   "metadata": {
    "ExecuteTime": {
     "end_time": "2020-06-09T21:25:39.858613Z",
     "start_time": "2020-06-09T21:24:06.599885Z"
    },
    "hidden": true
   },
   "outputs": [
    {
     "data": {
      "text/html": [
       "<div>\n",
       "<style scoped>\n",
       "    .dataframe tbody tr th:only-of-type {\n",
       "        vertical-align: middle;\n",
       "    }\n",
       "\n",
       "    .dataframe tbody tr th {\n",
       "        vertical-align: top;\n",
       "    }\n",
       "\n",
       "    .dataframe thead th {\n",
       "        text-align: right;\n",
       "    }\n",
       "</style>\n",
       "<table border=\"1\" class=\"dataframe\">\n",
       "  <thead>\n",
       "    <tr style=\"text-align: right;\">\n",
       "      <th></th>\n",
       "      <th>0</th>\n",
       "    </tr>\n",
       "  </thead>\n",
       "  <tbody>\n",
       "    <tr>\n",
       "      <th>fit_time</th>\n",
       "      <td>13.220868</td>\n",
       "    </tr>\n",
       "    <tr>\n",
       "      <th>score_time</th>\n",
       "      <td>1.756825</td>\n",
       "    </tr>\n",
       "    <tr>\n",
       "      <th>test_recall</th>\n",
       "      <td>0.830189</td>\n",
       "    </tr>\n",
       "    <tr>\n",
       "      <th>train_recall</th>\n",
       "      <td>0.995215</td>\n",
       "    </tr>\n",
       "    <tr>\n",
       "      <th>test_accuracy</th>\n",
       "      <td>0.988067</td>\n",
       "    </tr>\n",
       "    <tr>\n",
       "      <th>train_accuracy</th>\n",
       "      <td>0.999403</td>\n",
       "    </tr>\n",
       "    <tr>\n",
       "      <th>test_f1</th>\n",
       "      <td>0.897959</td>\n",
       "    </tr>\n",
       "    <tr>\n",
       "      <th>train_f1</th>\n",
       "      <td>0.995215</td>\n",
       "    </tr>\n",
       "    <tr>\n",
       "      <th>test_roc_auc</th>\n",
       "      <td>0.995650</td>\n",
       "    </tr>\n",
       "    <tr>\n",
       "      <th>train_roc_auc</th>\n",
       "      <td>0.999988</td>\n",
       "    </tr>\n",
       "  </tbody>\n",
       "</table>\n",
       "</div>"
      ],
      "text/plain": [
       "                        0\n",
       "fit_time        13.220868\n",
       "score_time       1.756825\n",
       "test_recall      0.830189\n",
       "train_recall     0.995215\n",
       "test_accuracy    0.988067\n",
       "train_accuracy   0.999403\n",
       "test_f1          0.897959\n",
       "train_f1         0.995215\n",
       "test_roc_auc     0.995650\n",
       "train_roc_auc    0.999988"
      ]
     },
     "execution_count": 293,
     "metadata": {},
     "output_type": "execute_result"
    }
   ],
   "source": [
    "M_av_df4 = CrossValidation(AdaModel_LR_,morgan_features,labels)\n",
    "M_av_df4"
   ]
  },
  {
   "cell_type": "markdown",
   "metadata": {
    "heading_collapsed": true,
    "hidden": true
   },
   "source": [
    "### Ada Boost with PCA using Random Forests"
   ]
  },
  {
   "cell_type": "code",
   "execution_count": 203,
   "metadata": {
    "ExecuteTime": {
     "end_time": "2020-06-08T22:18:05.676032Z",
     "start_time": "2020-06-08T22:18:04.945329Z"
    },
    "hidden": true
   },
   "outputs": [],
   "source": [
    "#########################################################################\n",
    "#\n",
    "# Ada Boost with PCA using Random Forests\n",
    "#\n",
    "#########################################################################\n",
    "# Train Ada Boost model using PC transformed Morgan features\n",
    "\n",
    "# n_estimators -> number of weak learners to train iteratively\n",
    "# learning_rate -> It contributes to the weight of weak learners. It uses 1 as a default value\n",
    "from sklearn.ensemble import RandomForestClassifier\n",
    "\n",
    "rf = RandomForestClassifier(n_estimators = 100,criterion='gini',bootstrap = True, warm_start = False)\n",
    "\n",
    "AdaModel_RF_PCA = AdaBoostClassifier(n_estimators = 100,base_estimator = rf, learning_rate = 1)\n",
    "RF = AdaModel_RF_PCA.fit(morgan_proj_train,label_train)\n",
    "pred5 = RF.predict(morgan_proj_test)"
   ]
  },
  {
   "cell_type": "markdown",
   "metadata": {
    "heading_collapsed": true,
    "hidden": true
   },
   "source": [
    "#### Scores"
   ]
  },
  {
   "cell_type": "code",
   "execution_count": 204,
   "metadata": {
    "ExecuteTime": {
     "end_time": "2020-06-08T22:18:05.701932Z",
     "start_time": "2020-06-08T22:18:05.679021Z"
    },
    "hidden": true
   },
   "outputs": [
    {
     "name": "stdout",
     "output_type": "stream",
     "text": [
      "Confusion Matrix\n",
      "[[1165    7]\n",
      " [   8   77]]\n",
      "\n",
      "Recall\n",
      "0.9058823529411765\n",
      "\n",
      "Accuracy\n",
      "0.9880668257756563\n",
      "\n",
      "F1 Score\n",
      "0.9112426035502958\n",
      "\n",
      "ROC AUC Score\n",
      "0.9499548283477212\n"
     ]
    }
   ],
   "source": [
    "Scores5 = Output(pred5,label_test)\n",
    "Scores5"
   ]
  },
  {
   "cell_type": "markdown",
   "metadata": {
    "heading_collapsed": true,
    "hidden": true
   },
   "source": [
    "#### Cross Validation"
   ]
  },
  {
   "cell_type": "code",
   "execution_count": null,
   "metadata": {
    "hidden": true
   },
   "outputs": [],
   "source": [
    "M_av_df5 = CrossValidation(AdaModel_RF_PCA,morgan_proj_features,labels)\n",
    "M_av_df5"
   ]
  },
  {
   "cell_type": "markdown",
   "metadata": {
    "heading_collapsed": true,
    "hidden": true
   },
   "source": [
    "### Ada Boost [WITHOUT] PCA using Random Forests"
   ]
  },
  {
   "cell_type": "code",
   "execution_count": 298,
   "metadata": {
    "ExecuteTime": {
     "end_time": "2020-06-09T22:28:30.217226Z",
     "start_time": "2020-06-09T22:28:27.977951Z"
    },
    "hidden": true
   },
   "outputs": [],
   "source": [
    "#########################################################################\n",
    "#\n",
    "# Ada Boost with PCA using Random Forests\n",
    "#\n",
    "#########################################################################\n",
    "# Train Ada Boost model using PC transformed Morgan features\n",
    "\n",
    "# n_estimators -> number of weak learners to train iteratively\n",
    "# learning_rate -> It contributes to the weight of weak learners. It uses 1 as a default value\n",
    "from sklearn.ensemble import RandomForestClassifier\n",
    "\n",
    "rf = RandomForestClassifier(n_estimators = 100,criterion='gini',bootstrap = True, warm_start = False)\n",
    "\n",
    "AdaModel_RF_ = AdaBoostClassifier(n_estimators = 100,base_estimator = rf, learning_rate = 1)\n",
    "RF = AdaModel_RF_.fit(morgan_train,label_train)\n",
    "pred6 = RF.predict(morgan_test)"
   ]
  },
  {
   "cell_type": "markdown",
   "metadata": {
    "heading_collapsed": true,
    "hidden": true
   },
   "source": [
    "#### Scores"
   ]
  },
  {
   "cell_type": "code",
   "execution_count": 299,
   "metadata": {
    "ExecuteTime": {
     "end_time": "2020-06-09T22:28:39.314877Z",
     "start_time": "2020-06-09T22:28:39.282408Z"
    },
    "hidden": true
   },
   "outputs": [
    {
     "name": "stdout",
     "output_type": "stream",
     "text": [
      "Confusion Matrix\n",
      "[[1168    4]\n",
      " [   6   79]]\n",
      "\n",
      "Recall\n",
      "0.9294117647058824\n",
      "\n",
      "Accuracy\n",
      "0.9920445505171042\n",
      "\n",
      "F1 Score\n",
      "0.9404761904761904\n",
      "\n",
      "ROC AUC Score\n",
      "0.9629993977113028\n"
     ]
    }
   ],
   "source": [
    "Scores6 = Output(pred6,label_test)\n",
    "Scores6"
   ]
  },
  {
   "cell_type": "markdown",
   "metadata": {
    "heading_collapsed": true,
    "hidden": true
   },
   "source": [
    "#### Cross Validation"
   ]
  },
  {
   "cell_type": "code",
   "execution_count": 294,
   "metadata": {
    "ExecuteTime": {
     "end_time": "2020-06-09T21:27:51.640810Z",
     "start_time": "2020-06-09T21:26:05.061142Z"
    },
    "hidden": true
   },
   "outputs": [
    {
     "data": {
      "text/html": [
       "<div>\n",
       "<style scoped>\n",
       "    .dataframe tbody tr th:only-of-type {\n",
       "        vertical-align: middle;\n",
       "    }\n",
       "\n",
       "    .dataframe tbody tr th {\n",
       "        vertical-align: top;\n",
       "    }\n",
       "\n",
       "    .dataframe thead th {\n",
       "        text-align: right;\n",
       "    }\n",
       "</style>\n",
       "<table border=\"1\" class=\"dataframe\">\n",
       "  <thead>\n",
       "    <tr style=\"text-align: right;\">\n",
       "      <th></th>\n",
       "      <th>0</th>\n",
       "    </tr>\n",
       "  </thead>\n",
       "  <tbody>\n",
       "    <tr>\n",
       "      <th>fit_time</th>\n",
       "      <td>13.489129</td>\n",
       "    </tr>\n",
       "    <tr>\n",
       "      <th>score_time</th>\n",
       "      <td>1.873122</td>\n",
       "    </tr>\n",
       "    <tr>\n",
       "      <th>test_recall</th>\n",
       "      <td>0.830189</td>\n",
       "    </tr>\n",
       "    <tr>\n",
       "      <th>train_recall</th>\n",
       "      <td>0.995215</td>\n",
       "    </tr>\n",
       "    <tr>\n",
       "      <th>test_accuracy</th>\n",
       "      <td>0.988067</td>\n",
       "    </tr>\n",
       "    <tr>\n",
       "      <th>train_accuracy</th>\n",
       "      <td>0.999403</td>\n",
       "    </tr>\n",
       "    <tr>\n",
       "      <th>test_f1</th>\n",
       "      <td>0.897959</td>\n",
       "    </tr>\n",
       "    <tr>\n",
       "      <th>train_f1</th>\n",
       "      <td>0.995215</td>\n",
       "    </tr>\n",
       "    <tr>\n",
       "      <th>test_roc_auc</th>\n",
       "      <td>0.995650</td>\n",
       "    </tr>\n",
       "    <tr>\n",
       "      <th>train_roc_auc</th>\n",
       "      <td>0.999988</td>\n",
       "    </tr>\n",
       "  </tbody>\n",
       "</table>\n",
       "</div>"
      ],
      "text/plain": [
       "                        0\n",
       "fit_time        13.489129\n",
       "score_time       1.873122\n",
       "test_recall      0.830189\n",
       "train_recall     0.995215\n",
       "test_accuracy    0.988067\n",
       "train_accuracy   0.999403\n",
       "test_f1          0.897959\n",
       "train_f1         0.995215\n",
       "test_roc_auc     0.995650\n",
       "train_roc_auc    0.999988"
      ]
     },
     "execution_count": 294,
     "metadata": {},
     "output_type": "execute_result"
    }
   ],
   "source": [
    "M_av_df6 = CrossValidation(AdaModel_RF_,morgan_features,labels)\n",
    "av_df6"
   ]
  },
  {
   "cell_type": "markdown",
   "metadata": {
    "heading_collapsed": true,
    "hidden": true
   },
   "source": [
    "### M_Final_df"
   ]
  },
  {
   "cell_type": "code",
   "execution_count": null,
   "metadata": {
    "hidden": true
   },
   "outputs": [],
   "source": [
    "M_result = pd.concat([M_av_df1, M_av_df2, M_av_df3, M_av_df4, M_av_df5, M_av_df6], axis=1, join='inner')\n",
    "M_result.columns = ['M_Model1_df','M_Model2_df','M_Model3_df','M_Model4_df','M_Model5_df','M_Model6_df']\n",
    "M_final = M_result.transpose()\n",
    "M_final"
   ]
  },
  {
   "cell_type": "markdown",
   "metadata": {
    "heading_collapsed": true
   },
   "source": [
    "## Using MACCS Features"
   ]
  },
  {
   "cell_type": "code",
   "execution_count": 158,
   "metadata": {
    "ExecuteTime": {
     "end_time": "2020-06-08T19:56:15.091931Z",
     "start_time": "2020-06-08T19:55:58.664464Z"
    },
    "hidden": true
   },
   "outputs": [],
   "source": [
    "# load different molecular features separately\n",
    "##############################################\n",
    "#rdk_features    = gen_fprints(mols)\n",
    "maccs_features  = gen_MACCS(mols)\n",
    "#morgan_features = gen_morgan_prints(mols,radius=18)"
   ]
  },
  {
   "cell_type": "code",
   "execution_count": 159,
   "metadata": {
    "ExecuteTime": {
     "end_time": "2020-06-08T19:56:15.105802Z",
     "start_time": "2020-06-08T19:56:15.094828Z"
    },
    "hidden": true
   },
   "outputs": [],
   "source": [
    "# Split data for [training] and [testing]\n",
    "maccs_train, maccs_test, label_train, label_test = train_test_split(maccs_features, labels, \\\n",
    "                                                                test_size=0.3, shuffle=True)"
   ]
  },
  {
   "cell_type": "code",
   "execution_count": 297,
   "metadata": {
    "ExecuteTime": {
     "end_time": "2020-06-09T22:04:50.462537Z",
     "start_time": "2020-06-09T22:04:49.939060Z"
    },
    "hidden": true
   },
   "outputs": [],
   "source": [
    "######################\n",
    "# Principal Components\n",
    "######################\n",
    "\n",
    "# Determine principal components using [training data] and apply the transformation to the [test data]\n",
    "PC_maccs_proj = PCA(n_components=114)\n",
    "maccs_proj_train = PC_maccs_proj.fit_transform(maccs_train)\n",
    "maccs_proj_test = PC_maccs_proj.transform(maccs_test)\n",
    "maccs_proj_features = PC_maccs_proj.fit_transform(maccs_features)"
   ]
  },
  {
   "cell_type": "markdown",
   "metadata": {
    "heading_collapsed": true,
    "hidden": true
   },
   "source": [
    "### Ada Boost with PCA"
   ]
  },
  {
   "cell_type": "code",
   "execution_count": 161,
   "metadata": {
    "ExecuteTime": {
     "end_time": "2020-06-08T19:56:16.197959Z",
     "start_time": "2020-06-08T19:56:15.169631Z"
    },
    "hidden": true
   },
   "outputs": [],
   "source": [
    "#########################################################################\n",
    "#\n",
    "# Ada Boost with PCA\n",
    "#\n",
    "#########################################################################\n",
    "# Train Ada Boost model using PC transformed Morgan features\n",
    "\n",
    "# n_estimators -> number of weak learners to train iteratively\n",
    "# learning_rate -> It contributes to the weight of weak learners. It uses 1 as a default value\n",
    "AdaModel_PCA = AdaBoostClassifier(n_estimators = 100, learning_rate = 1)\n",
    "Ada = AdaModel_PCA.fit(maccs_proj_train,label_train)\n",
    "pred1 = Ada.predict(maccs_proj_test)"
   ]
  },
  {
   "cell_type": "markdown",
   "metadata": {
    "heading_collapsed": true,
    "hidden": true
   },
   "source": [
    "#### Scores"
   ]
  },
  {
   "cell_type": "code",
   "execution_count": 162,
   "metadata": {
    "ExecuteTime": {
     "end_time": "2020-06-08T19:56:16.258790Z",
     "start_time": "2020-06-08T19:56:16.201942Z"
    },
    "hidden": true,
    "run_control": {
     "marked": false
    }
   },
   "outputs": [
    {
     "name": "stdout",
     "output_type": "stream",
     "text": [
      "Confusion Matrix\n",
      "[[1161   17]\n",
      " [  21   58]]\n",
      "\n",
      "Recall\n",
      "0.7341772151898734\n",
      "\n",
      "Accuracy\n",
      "0.9697692919649961\n",
      "\n",
      "F1 Score\n",
      "0.7532467532467533\n",
      "\n",
      "ROC AUC Score\n",
      "0.8598729879005393\n"
     ]
    }
   ],
   "source": [
    "Scores1 = Output(pred1,label_test)\n",
    "Scores1"
   ]
  },
  {
   "cell_type": "markdown",
   "metadata": {
    "heading_collapsed": true,
    "hidden": true
   },
   "source": [
    "#### Cross Validation"
   ]
  },
  {
   "cell_type": "code",
   "execution_count": null,
   "metadata": {
    "hidden": true
   },
   "outputs": [],
   "source": [
    "MAC_av_df1 = CrossValidation(AdaModel_PCA,maccs_proj_features,labels)\n",
    "av_df1"
   ]
  },
  {
   "cell_type": "markdown",
   "metadata": {
    "heading_collapsed": true,
    "hidden": true
   },
   "source": [
    "### Ada Boost [WITHOUT] PCA"
   ]
  },
  {
   "cell_type": "code",
   "execution_count": 163,
   "metadata": {
    "ExecuteTime": {
     "end_time": "2020-06-08T19:56:18.702721Z",
     "start_time": "2020-06-08T19:56:16.272753Z"
    },
    "hidden": true
   },
   "outputs": [],
   "source": [
    "### Ada Boost [WITHOUT] PCA\n",
    "\n",
    "#########################################################################\n",
    "#\n",
    "# Ada Boost [WITHOUT] PCA\n",
    "#\n",
    "#########################################################################\n",
    "# Train Logistic Regression model using PC transformed Morgan features\n",
    "AdaModel_ = AdaBoostClassifier(n_estimators = 100, learning_rate = 1)\n",
    "Ada = AdaModel_.fit(maccs_train,label_train)\n",
    "pred2 = Ada.predict(maccs_test)"
   ]
  },
  {
   "cell_type": "markdown",
   "metadata": {
    "heading_collapsed": true,
    "hidden": true
   },
   "source": [
    "#### Scores"
   ]
  },
  {
   "cell_type": "code",
   "execution_count": 164,
   "metadata": {
    "ExecuteTime": {
     "end_time": "2020-06-08T19:56:18.745546Z",
     "start_time": "2020-06-08T19:56:18.708641Z"
    },
    "hidden": true
   },
   "outputs": [
    {
     "name": "stdout",
     "output_type": "stream",
     "text": [
      "Confusion Matrix\n",
      "[[1174    4]\n",
      " [   7   72]]\n",
      "\n",
      "Recall\n",
      "0.9113924050632911\n",
      "\n",
      "Accuracy\n",
      "0.9912490055688147\n",
      "\n",
      "F1 Score\n",
      "0.9290322580645162\n",
      "\n",
      "ROC AUC Score\n",
      "0.9539984096623756\n"
     ]
    }
   ],
   "source": [
    "Scores2 = Output(pred2,label_test)\n",
    "Scores2"
   ]
  },
  {
   "cell_type": "markdown",
   "metadata": {
    "heading_collapsed": true,
    "hidden": true
   },
   "source": [
    "#### Cross Validation"
   ]
  },
  {
   "cell_type": "code",
   "execution_count": null,
   "metadata": {
    "hidden": true
   },
   "outputs": [],
   "source": [
    "MAC_av_df2 = CrossValidation(AdaModel_,maccs_features,labels)\n",
    "av_df2"
   ]
  },
  {
   "cell_type": "markdown",
   "metadata": {
    "heading_collapsed": true,
    "hidden": true
   },
   "source": [
    "### Ada Boost with PCA using Logistic regression"
   ]
  },
  {
   "cell_type": "code",
   "execution_count": 165,
   "metadata": {
    "ExecuteTime": {
     "end_time": "2020-06-08T19:56:19.821199Z",
     "start_time": "2020-06-08T19:56:18.753521Z"
    },
    "hidden": true
   },
   "outputs": [],
   "source": [
    "#########################################################################\n",
    "#\n",
    "# Ada Boost with PCA using Logistic regression\n",
    "#\n",
    "#########################################################################\n",
    "# Train Ada Boost model using PC transformed Morgan features\n",
    "\n",
    "# n_estimators -> number of weak learners to train iteratively\n",
    "# learning_rate -> It contributes to the weight of weak learners. It uses 1 as a default value\n",
    "from sklearn.linear_model import LogisticRegression \n",
    "\n",
    "mylogregmodel = LogisticRegression()\n",
    "\n",
    "AdaModel_LR_PCA = AdaBoostClassifier(n_estimators = 100,base_estimator = mylogregmodel ,learning_rate = 1)\n",
    "Ada = AdaModel_LR_PCA.fit(maccs_proj_train,label_train)\n",
    "pred3 = Ada.predict(maccs_proj_test)"
   ]
  },
  {
   "cell_type": "markdown",
   "metadata": {
    "heading_collapsed": true,
    "hidden": true
   },
   "source": [
    "#### Scores"
   ]
  },
  {
   "cell_type": "code",
   "execution_count": 166,
   "metadata": {
    "ExecuteTime": {
     "end_time": "2020-06-08T19:56:19.859098Z",
     "start_time": "2020-06-08T19:56:19.824192Z"
    },
    "hidden": true
   },
   "outputs": [
    {
     "name": "stdout",
     "output_type": "stream",
     "text": [
      "Confusion Matrix\n",
      "[[1169    9]\n",
      " [  18   61]]\n",
      "\n",
      "Recall\n",
      "0.7721518987341772\n",
      "\n",
      "Accuracy\n",
      "0.9785202863961814\n",
      "\n",
      "F1 Score\n",
      "0.8187919463087248\n",
      "\n",
      "ROC AUC Score\n",
      "0.8822559154112313\n"
     ]
    }
   ],
   "source": [
    "Scores3 = Output(pred3,label_test)\n",
    "Scores3"
   ]
  },
  {
   "cell_type": "markdown",
   "metadata": {
    "heading_collapsed": true,
    "hidden": true
   },
   "source": [
    "#### Cross Validation"
   ]
  },
  {
   "cell_type": "code",
   "execution_count": null,
   "metadata": {
    "hidden": true
   },
   "outputs": [],
   "source": [
    "MAC_av_df3 = CrossValidation(AdaModel_LR_PCA,maccs_proj_features,labels)\n",
    "MAC_av_df3"
   ]
  },
  {
   "cell_type": "markdown",
   "metadata": {
    "heading_collapsed": true,
    "hidden": true
   },
   "source": [
    "### Ada Boost [WITHOUT] PCA using Logistic regression"
   ]
  },
  {
   "cell_type": "code",
   "execution_count": 167,
   "metadata": {
    "ExecuteTime": {
     "end_time": "2020-06-08T19:56:23.326939Z",
     "start_time": "2020-06-08T19:56:19.864086Z"
    },
    "hidden": true
   },
   "outputs": [],
   "source": [
    "#########################################################################\n",
    "#\n",
    "# Ada Boost with PCA using Logistic regression\n",
    "#\n",
    "#########################################################################\n",
    "# Train Ada Boost model using PC transformed Morgan features\n",
    "\n",
    "# n_estimators -> number of weak learners to train iteratively\n",
    "# learning_rate -> It contributes to the weight of weak learners. It uses 1 as a default value\n",
    "from sklearn.linear_model import LogisticRegression \n",
    "\n",
    "mylogregmodel = LogisticRegression()\n",
    "\n",
    "AdaModel_LR_ = AdaBoostClassifier(n_estimators = 100,base_estimator = mylogregmodel ,learning_rate = 1)\n",
    "Ada = AdaModel_LR_.fit(maccs_train,label_train)\n",
    "pred4 = Ada.predict(maccs_test)"
   ]
  },
  {
   "cell_type": "markdown",
   "metadata": {
    "heading_collapsed": true,
    "hidden": true
   },
   "source": [
    "#### Scores"
   ]
  },
  {
   "cell_type": "code",
   "execution_count": 168,
   "metadata": {
    "ExecuteTime": {
     "end_time": "2020-06-08T19:56:23.364837Z",
     "start_time": "2020-06-08T19:56:23.330928Z"
    },
    "hidden": true
   },
   "outputs": [
    {
     "name": "stdout",
     "output_type": "stream",
     "text": [
      "Confusion Matrix\n",
      "[[1177    1]\n",
      " [   6   73]]\n",
      "\n",
      "Recall\n",
      "0.9240506329113924\n",
      "\n",
      "Accuracy\n",
      "0.994431185361973\n",
      "\n",
      "F1 Score\n",
      "0.954248366013072\n",
      "\n",
      "ROC AUC Score\n",
      "0.9616008682383788\n"
     ]
    }
   ],
   "source": [
    "Scores4 = Output(pred4,label_test)\n",
    "Scores4"
   ]
  },
  {
   "cell_type": "markdown",
   "metadata": {
    "heading_collapsed": true,
    "hidden": true
   },
   "source": [
    "#### Cross Validation\n"
   ]
  },
  {
   "cell_type": "code",
   "execution_count": null,
   "metadata": {
    "hidden": true
   },
   "outputs": [],
   "source": [
    "MAC_av_df4 = CrossValidation(AdaModel_LR_,maccs_features,labels)\n",
    "MAC_av_df4"
   ]
  },
  {
   "cell_type": "markdown",
   "metadata": {
    "heading_collapsed": true,
    "hidden": true
   },
   "source": [
    "### Ada Boost with PCA using Random Forests"
   ]
  },
  {
   "cell_type": "code",
   "execution_count": 169,
   "metadata": {
    "ExecuteTime": {
     "end_time": "2020-06-08T19:56:24.315446Z",
     "start_time": "2020-06-08T19:56:23.368827Z"
    },
    "hidden": true
   },
   "outputs": [],
   "source": [
    "#########################################################################\n",
    "#\n",
    "# Ada Boost with PCA using Logistic regression\n",
    "#\n",
    "#########################################################################\n",
    "# Train Ada Boost model using PC transformed Morgan features\n",
    "\n",
    "# n_estimators -> number of weak learners to train iteratively\n",
    "# learning_rate -> It contributes to the weight of weak learners. It uses 1 as a default value\n",
    "from sklearn.linear_model import LogisticRegression \n",
    "\n",
    "mylogregmodel = LogisticRegression()\n",
    "\n",
    "AdaModel_RF_PCA = AdaBoostClassifier(n_estimators = 100,base_estimator = mylogregmodel ,learning_rate = 1)\n",
    "Ada = AdaModel_RF_PCA.fit(maccs_proj_train,label_train)\n",
    "pred5 = Ada.predict(maccs_proj_test)"
   ]
  },
  {
   "cell_type": "markdown",
   "metadata": {
    "heading_collapsed": true,
    "hidden": true
   },
   "source": [
    "#### Scores"
   ]
  },
  {
   "cell_type": "code",
   "execution_count": 170,
   "metadata": {
    "ExecuteTime": {
     "end_time": "2020-06-08T19:56:24.348357Z",
     "start_time": "2020-06-08T19:56:24.318438Z"
    },
    "hidden": true,
    "run_control": {
     "marked": false
    }
   },
   "outputs": [
    {
     "name": "stdout",
     "output_type": "stream",
     "text": [
      "Confusion Matrix\n",
      "[[1169    9]\n",
      " [  18   61]]\n",
      "\n",
      "Recall\n",
      "0.7721518987341772\n",
      "\n",
      "Accuracy\n",
      "0.9785202863961814\n",
      "\n",
      "F1 Score\n",
      "0.8187919463087248\n",
      "\n",
      "ROC AUC Score\n",
      "0.8822559154112313\n"
     ]
    }
   ],
   "source": [
    "Scores5 = Output(pred5,label_test)\n",
    "Scores5"
   ]
  },
  {
   "cell_type": "markdown",
   "metadata": {
    "heading_collapsed": true,
    "hidden": true
   },
   "source": [
    "#### Cross Validation"
   ]
  },
  {
   "cell_type": "code",
   "execution_count": null,
   "metadata": {
    "hidden": true
   },
   "outputs": [],
   "source": [
    "MAC_av_df5 = CrossValidation(AdaModel_RF_PCA,maccs_proj_features,labels)\n",
    "MAC_av_df5"
   ]
  },
  {
   "cell_type": "markdown",
   "metadata": {
    "heading_collapsed": true,
    "hidden": true
   },
   "source": [
    "### Ada Boost [WITHOUT] PCA using Random Forests"
   ]
  },
  {
   "cell_type": "code",
   "execution_count": 171,
   "metadata": {
    "ExecuteTime": {
     "end_time": "2020-06-08T19:56:27.576318Z",
     "start_time": "2020-06-08T19:56:24.352348Z"
    },
    "hidden": true
   },
   "outputs": [],
   "source": [
    "#########################################################################\n",
    "#\n",
    "# Ada Boost with PCA using Random Forests\n",
    "#\n",
    "#########################################################################\n",
    "# Train Ada Boost model using PC transformed Morgan features\n",
    "\n",
    "# n_estimators -> number of weak learners to train iteratively\n",
    "# learning_rate -> It contributes to the weight of weak learners. It uses 1 as a default value\n",
    "from sklearn.ensemble import RandomForestClassifier\n",
    "\n",
    "rf = RandomForestClassifier(n_estimators = 100,criterion='gini',bootstrap = True, warm_start = False)\n",
    "\n",
    "AdaModel_RF_ = AdaBoostClassifier(n_estimators = 100,base_estimator = rf ,learning_rate = 1)\n",
    "RF = AdaModel_RF_.fit(maccs_train,label_train)\n",
    "pred6 = RF.predict(maccs_test)"
   ]
  },
  {
   "cell_type": "markdown",
   "metadata": {
    "heading_collapsed": true,
    "hidden": true
   },
   "source": [
    "#### Scores"
   ]
  },
  {
   "cell_type": "code",
   "execution_count": 172,
   "metadata": {
    "ExecuteTime": {
     "end_time": "2020-06-08T19:56:27.619203Z",
     "start_time": "2020-06-08T19:56:27.580307Z"
    },
    "hidden": true
   },
   "outputs": [
    {
     "name": "stdout",
     "output_type": "stream",
     "text": [
      "Confusion Matrix\n",
      "[[1177    1]\n",
      " [   6   73]]\n",
      "\n",
      "Recall\n",
      "0.9240506329113924\n",
      "\n",
      "Accuracy\n",
      "0.994431185361973\n",
      "\n",
      "F1 Score\n",
      "0.954248366013072\n",
      "\n",
      "ROC AUC Score\n",
      "0.9616008682383788\n"
     ]
    }
   ],
   "source": [
    "Scores6 = Output(pred6,label_test)\n",
    "Scores6"
   ]
  },
  {
   "cell_type": "markdown",
   "metadata": {
    "heading_collapsed": true,
    "hidden": true
   },
   "source": [
    "#### Cross Validation"
   ]
  },
  {
   "cell_type": "code",
   "execution_count": null,
   "metadata": {
    "hidden": true
   },
   "outputs": [],
   "source": [
    "MAC_av_df6 = CrossValidation(AdaModel_RF_,maccs_features,labels)\n",
    "MAC_av_df6"
   ]
  },
  {
   "cell_type": "markdown",
   "metadata": {
    "heading_collapsed": true,
    "hidden": true
   },
   "source": [
    "### MAC_Final_df"
   ]
  },
  {
   "cell_type": "code",
   "execution_count": null,
   "metadata": {
    "hidden": true
   },
   "outputs": [],
   "source": [
    "MAC_result = pd.concat([MAC_av_df1, MAC_av_df2, MAC_av_df3, MAC_av_df4, MAC_av_df5, MAC_av_df6], axis=1, join='inner')\n",
    "MAC_result.columns = ['MAC_Model1_df','MAC_Model2_df','MAC_Model3_df','MAC_Model4_df','MAC_Model5_df','MAC_Model6_df']\n",
    "MAC_final = MAC_result.transpose()\n",
    "MAC_final"
   ]
  },
  {
   "cell_type": "markdown",
   "metadata": {
    "heading_collapsed": true
   },
   "source": [
    "## Using RDKit Features"
   ]
  },
  {
   "cell_type": "code",
   "execution_count": 173,
   "metadata": {
    "ExecuteTime": {
     "end_time": "2020-06-08T19:57:01.014615Z",
     "start_time": "2020-06-08T19:56:27.625188Z"
    },
    "hidden": true
   },
   "outputs": [],
   "source": [
    "# load different molecular features separately\n",
    "##############################################\n",
    "rdk_features    = gen_fprints(mols)\n",
    "#maccs_features  = gen_MACCS(mols)\n",
    "#morgan_features = gen_morgan_prints(mols,radius=18)"
   ]
  },
  {
   "cell_type": "code",
   "execution_count": 174,
   "metadata": {
    "ExecuteTime": {
     "end_time": "2020-06-08T19:57:01.062486Z",
     "start_time": "2020-06-08T19:57:01.017606Z"
    },
    "hidden": true
   },
   "outputs": [],
   "source": [
    "# Split data for [training] and [testing]\n",
    "rdk_train, rdk_test, label_train, label_test = train_test_split(rdk_features, labels, \\\n",
    "                                                                test_size=0.3, shuffle=True)"
   ]
  },
  {
   "cell_type": "code",
   "execution_count": 175,
   "metadata": {
    "ExecuteTime": {
     "end_time": "2020-06-08T19:57:01.429550Z",
     "start_time": "2020-06-08T19:57:01.065475Z"
    },
    "hidden": true
   },
   "outputs": [],
   "source": [
    "######################\n",
    "# Principal Components\n",
    "######################\n",
    "\n",
    "# Determine principal components using [training data] and apply the transformation to the [test data]\n",
    "PC_rdk_proj = PCA(n_components = 1570)\n",
    "rdk_proj_train = PC_rdk_proj.fit_transform(rdk_train)\n",
    "rdk_proj_test = PC_rdk_proj.transform(rdk_test)\n",
    "rdk_proj_features = PC_rdk_proj.fit_transform(rdk_features)"
   ]
  },
  {
   "cell_type": "markdown",
   "metadata": {
    "heading_collapsed": true,
    "hidden": true
   },
   "source": [
    "### Ada Boost with PCA"
   ]
  },
  {
   "cell_type": "code",
   "execution_count": 176,
   "metadata": {
    "ExecuteTime": {
     "end_time": "2020-06-08T19:57:02.108754Z",
     "start_time": "2020-06-08T19:57:01.432541Z"
    },
    "hidden": true
   },
   "outputs": [],
   "source": [
    "#########################################################################\n",
    "#\n",
    "# Ada Boost with PCA\n",
    "#\n",
    "#########################################################################\n",
    "# Train Ada Boost model using PC transformed Morgan features\n",
    "\n",
    "# n_estimators -> number of weak learners to train iteratively\n",
    "# learning_rate -> It contributes to the weight of weak learners. It uses 1 as a default value\n",
    "AdaModel_PCA = AdaBoostClassifier(n_estimators = 100, learning_rate = 1)\n",
    "Ada = AdaModel_PCA.fit(rdk_proj_train,label_train)\n",
    "pred1 = Ada.predict(rdk_proj_test)"
   ]
  },
  {
   "cell_type": "markdown",
   "metadata": {
    "heading_collapsed": true,
    "hidden": true
   },
   "source": [
    "#### Scores"
   ]
  },
  {
   "cell_type": "code",
   "execution_count": 177,
   "metadata": {
    "ExecuteTime": {
     "end_time": "2020-06-08T19:57:02.132654Z",
     "start_time": "2020-06-08T19:57:02.111680Z"
    },
    "hidden": true
   },
   "outputs": [
    {
     "name": "stdout",
     "output_type": "stream",
     "text": [
      "Confusion Matrix\n",
      "[[1163   17]\n",
      " [  44   33]]\n",
      "\n",
      "Recall\n",
      "0.42857142857142855\n",
      "\n",
      "Accuracy\n",
      "0.9514717581543357\n",
      "\n",
      "F1 Score\n",
      "0.5196850393700788\n",
      "\n",
      "ROC AUC Score\n",
      "0.7070823244552058\n"
     ]
    }
   ],
   "source": [
    "Scores1 = Output(pred1,label_test)\n",
    "Scores1"
   ]
  },
  {
   "cell_type": "markdown",
   "metadata": {
    "heading_collapsed": true,
    "hidden": true
   },
   "source": [
    "#### Cross Validation"
   ]
  },
  {
   "cell_type": "code",
   "execution_count": null,
   "metadata": {
    "hidden": true
   },
   "outputs": [],
   "source": [
    "RDK_av_df1 = CrossValidation(AdaModel_PCA,rdk_proj_features,labels)\n",
    "RDK_av_df1"
   ]
  },
  {
   "cell_type": "markdown",
   "metadata": {
    "heading_collapsed": true,
    "hidden": true
   },
   "source": [
    "### Ada Boost [WITHOUT] PCA"
   ]
  },
  {
   "cell_type": "code",
   "execution_count": 178,
   "metadata": {
    "ExecuteTime": {
     "end_time": "2020-06-08T19:57:30.304796Z",
     "start_time": "2020-06-08T19:57:02.135616Z"
    },
    "hidden": true
   },
   "outputs": [],
   "source": [
    "#########################################################################\n",
    "#\n",
    "# Ada Boost [WITHOUT] PCA\n",
    "#\n",
    "#########################################################################\n",
    "# Train Logistic Regression model using PC transformed Morgan features\n",
    "AdaModel_ = AdaBoostClassifier(n_estimators = 100, learning_rate = 1)\n",
    "Ada = AdaModel_.fit(rdk_train,label_train)\n",
    "pred2 = Ada.predict(rdk_test)"
   ]
  },
  {
   "cell_type": "markdown",
   "metadata": {
    "heading_collapsed": true,
    "hidden": true
   },
   "source": [
    "#### Scores"
   ]
  },
  {
   "cell_type": "code",
   "execution_count": 179,
   "metadata": {
    "ExecuteTime": {
     "end_time": "2020-06-08T19:57:30.346652Z",
     "start_time": "2020-06-08T19:57:30.308755Z"
    },
    "hidden": true
   },
   "outputs": [
    {
     "name": "stdout",
     "output_type": "stream",
     "text": [
      "Confusion Matrix\n",
      "[[1169   11]\n",
      " [  13   64]]\n",
      "\n",
      "Recall\n",
      "0.8311688311688312\n",
      "\n",
      "Accuracy\n",
      "0.9809069212410502\n",
      "\n",
      "F1 Score\n",
      "0.8421052631578949\n",
      "\n",
      "ROC AUC Score\n",
      "0.9109233986352631\n"
     ]
    }
   ],
   "source": [
    "Scores2 = Output(pred2,label_test)\n",
    "Scores2"
   ]
  },
  {
   "cell_type": "markdown",
   "metadata": {
    "heading_collapsed": true,
    "hidden": true
   },
   "source": [
    "#### Cross Validation"
   ]
  },
  {
   "cell_type": "code",
   "execution_count": null,
   "metadata": {
    "hidden": true
   },
   "outputs": [],
   "source": [
    "RDK_av_df2 = CrossValidation(AdaModel_,rdk_features,labels)\n",
    "RDK_av_df2"
   ]
  },
  {
   "cell_type": "markdown",
   "metadata": {
    "heading_collapsed": true,
    "hidden": true
   },
   "source": [
    "### Ada Boost with PCA using Logistic regression"
   ]
  },
  {
   "cell_type": "code",
   "execution_count": 180,
   "metadata": {
    "ExecuteTime": {
     "end_time": "2020-06-08T19:57:31.300293Z",
     "start_time": "2020-06-08T19:57:30.351639Z"
    },
    "hidden": true
   },
   "outputs": [],
   "source": [
    "#########################################################################\n",
    "#\n",
    "# Ada Boost with PCA using Logistic regression\n",
    "#\n",
    "#########################################################################\n",
    "# Train Ada Boost model using PC transformed Morgan features\n",
    "\n",
    "# n_estimators -> number of weak learners to train iteratively\n",
    "# learning_rate -> It contributes to the weight of weak learners. It uses 1 as a default value\n",
    "from sklearn.linear_model import LogisticRegression \n",
    "\n",
    "mylogregmodel = LogisticRegression()\n",
    "\n",
    "AdaModel_LR_PCA = AdaBoostClassifier(n_estimators = 100,base_estimator = mylogregmodel ,learning_rate = 1)\n",
    "Ada = AdaModel_LR_PCA.fit(rdk_proj_train,label_train)\n",
    "pred3 = Ada.predict(rdk_proj_test)"
   ]
  },
  {
   "cell_type": "markdown",
   "metadata": {
    "heading_collapsed": true,
    "hidden": true
   },
   "source": [
    "#### Scores"
   ]
  },
  {
   "cell_type": "code",
   "execution_count": 181,
   "metadata": {
    "ExecuteTime": {
     "end_time": "2020-06-08T19:57:31.341191Z",
     "start_time": "2020-06-08T19:57:31.304284Z"
    },
    "hidden": true
   },
   "outputs": [
    {
     "name": "stdout",
     "output_type": "stream",
     "text": [
      "Confusion Matrix\n",
      "[[1169   11]\n",
      " [  68    9]]\n",
      "\n",
      "Recall\n",
      "0.11688311688311688\n",
      "\n",
      "Accuracy\n",
      "0.9371519490851233\n",
      "\n",
      "F1 Score\n",
      "0.18556701030927833\n",
      "\n",
      "ROC AUC Score\n",
      "0.5537805414924059\n"
     ]
    }
   ],
   "source": [
    "Scores3 = Output(pred3,label_test)\n",
    "Scores3"
   ]
  },
  {
   "cell_type": "markdown",
   "metadata": {
    "heading_collapsed": true,
    "hidden": true
   },
   "source": [
    "#### Cross Validation"
   ]
  },
  {
   "cell_type": "code",
   "execution_count": null,
   "metadata": {
    "hidden": true,
    "run_control": {
     "marked": false
    }
   },
   "outputs": [],
   "source": [
    "RDK_av_df3 = CrossValidation(AdaModel_LR_PCA,rdk_proj_features,labels)\n",
    "RDK_av_df3"
   ]
  },
  {
   "cell_type": "markdown",
   "metadata": {
    "heading_collapsed": true,
    "hidden": true
   },
   "source": [
    "### Ada Boost [WITHOUT] PCA using Logistic regression"
   ]
  },
  {
   "cell_type": "code",
   "execution_count": 182,
   "metadata": {
    "ExecuteTime": {
     "end_time": "2020-06-08T19:57:57.941203Z",
     "start_time": "2020-06-08T19:57:31.347170Z"
    },
    "hidden": true
   },
   "outputs": [],
   "source": [
    "#########################################################################\n",
    "#\n",
    "# Ada Boost with PCA using Logistic regression\n",
    "#\n",
    "#########################################################################\n",
    "# Train Ada Boost model using PC transformed Morgan features\n",
    "\n",
    "# n_estimators -> number of weak learners to train iteratively\n",
    "# learning_rate -> It contributes to the weight of weak learners. It uses 1 as a default value\n",
    "from sklearn.linear_model import LogisticRegression \n",
    "\n",
    "mylogregmodel = LogisticRegression()\n",
    "\n",
    "AdaModel_LR_ = AdaBoostClassifier(n_estimators = 100,base_estimator = mylogregmodel ,learning_rate = 1)\n",
    "Ada = AdaModel_LR_.fit(rdk_train,label_train)\n",
    "pred4 = Ada.predict(rdk_test)"
   ]
  },
  {
   "cell_type": "markdown",
   "metadata": {
    "heading_collapsed": true,
    "hidden": true
   },
   "source": [
    "#### Scores"
   ]
  },
  {
   "cell_type": "code",
   "execution_count": 183,
   "metadata": {
    "ExecuteTime": {
     "end_time": "2020-06-08T19:57:57.976108Z",
     "start_time": "2020-06-08T19:57:57.945191Z"
    },
    "hidden": true
   },
   "outputs": [
    {
     "name": "stdout",
     "output_type": "stream",
     "text": [
      "Confusion Matrix\n",
      "[[1173    7]\n",
      " [  10   67]]\n",
      "\n",
      "Recall\n",
      "0.8701298701298701\n",
      "\n",
      "Accuracy\n",
      "0.9864757358790772\n",
      "\n",
      "F1 Score\n",
      "0.8874172185430463\n",
      "\n",
      "ROC AUC Score\n",
      "0.9320988333700199\n"
     ]
    }
   ],
   "source": [
    "Scores4 = Output(pred4,label_test)\n",
    "Scores4"
   ]
  },
  {
   "cell_type": "markdown",
   "metadata": {
    "heading_collapsed": true,
    "hidden": true
   },
   "source": [
    "#### Cross Validation"
   ]
  },
  {
   "cell_type": "code",
   "execution_count": null,
   "metadata": {
    "hidden": true
   },
   "outputs": [],
   "source": [
    "RDK_av_df4 = CrossValidation(AdaModel_LR_,rdk_features,labels)\n",
    "RDK_av_df4"
   ]
  },
  {
   "cell_type": "markdown",
   "metadata": {
    "heading_collapsed": true,
    "hidden": true
   },
   "source": [
    "### Ada Boost with PCA using Random Forests"
   ]
  },
  {
   "cell_type": "code",
   "execution_count": 184,
   "metadata": {
    "ExecuteTime": {
     "end_time": "2020-06-08T19:57:58.837173Z",
     "start_time": "2020-06-08T19:57:57.981098Z"
    },
    "hidden": true
   },
   "outputs": [],
   "source": [
    "#########################################################################\n",
    "#\n",
    "# Ada Boost with PCA using Random Forests\n",
    "#\n",
    "#########################################################################\n",
    "# Train Ada Boost model using PC transformed Morgan features\n",
    "\n",
    "# n_estimators -> number of weak learners to train iteratively\n",
    "# learning_rate -> It contributes to the weight of weak learners. It uses 1 as a default value\n",
    "from sklearn.ensemble import RandomForestClassifier\n",
    "\n",
    "rf = RandomForestClassifier(n_estimators = 100,criterion='gini',bootstrap = True, warm_start = False)\n",
    "\n",
    "AdaModel_RF_PCA = AdaBoostClassifier(n_estimators = 100,base_estimator = rf ,learning_rate = 1)\n",
    "RF = AdaModel_RF_PCA.fit(rdk_proj_train,label_train)\n",
    "pred5 = RF.predict(rdk_proj_test)"
   ]
  },
  {
   "cell_type": "markdown",
   "metadata": {
    "heading_collapsed": true,
    "hidden": true
   },
   "source": [
    "#### Scores"
   ]
  },
  {
   "cell_type": "code",
   "execution_count": 300,
   "metadata": {
    "ExecuteTime": {
     "end_time": "2020-06-09T22:46:31.890470Z",
     "start_time": "2020-06-09T22:46:31.833196Z"
    },
    "hidden": true
   },
   "outputs": [
    {
     "ename": "NameError",
     "evalue": "name 'pred5' is not defined",
     "output_type": "error",
     "traceback": [
      "\u001b[1;31m---------------------------------------------------------------------------\u001b[0m",
      "\u001b[1;31mNameError\u001b[0m                                 Traceback (most recent call last)",
      "\u001b[1;32m<ipython-input-300-74baf2900b8c>\u001b[0m in \u001b[0;36m<module>\u001b[1;34m\u001b[0m\n\u001b[0;32m      1\u001b[0m \u001b[1;31m#### Scores\u001b[0m\u001b[1;33m\u001b[0m\u001b[1;33m\u001b[0m\u001b[1;33m\u001b[0m\u001b[0m\n\u001b[0;32m      2\u001b[0m \u001b[1;33m\u001b[0m\u001b[0m\n\u001b[1;32m----> 3\u001b[1;33m \u001b[0mScores5\u001b[0m \u001b[1;33m=\u001b[0m \u001b[0mOutput\u001b[0m\u001b[1;33m(\u001b[0m\u001b[0mpred5\u001b[0m\u001b[1;33m,\u001b[0m\u001b[0mlabel_test\u001b[0m\u001b[1;33m)\u001b[0m\u001b[1;33m\u001b[0m\u001b[1;33m\u001b[0m\u001b[0m\n\u001b[0m\u001b[0;32m      4\u001b[0m \u001b[0mScores5\u001b[0m\u001b[1;33m\u001b[0m\u001b[1;33m\u001b[0m\u001b[0m\n\u001b[0;32m      5\u001b[0m \u001b[1;33m\u001b[0m\u001b[0m\n",
      "\u001b[1;31mNameError\u001b[0m: name 'pred5' is not defined"
     ]
    }
   ],
   "source": [
    "Scores5 = Output(pred5,label_test)\n",
    "Scores5"
   ]
  },
  {
   "cell_type": "markdown",
   "metadata": {
    "heading_collapsed": true,
    "hidden": true
   },
   "source": [
    "#### Cross Validation"
   ]
  },
  {
   "cell_type": "code",
   "execution_count": null,
   "metadata": {
    "hidden": true
   },
   "outputs": [],
   "source": [
    "RDK_av_df5 = CrossValidation(AdaModel_RF_PCA,rdk_proj_features,labels)\n",
    "RDK_av_df5"
   ]
  },
  {
   "cell_type": "markdown",
   "metadata": {
    "heading_collapsed": true,
    "hidden": true
   },
   "source": [
    "### Ada Boost [WITHOUT] PCA using Random Forests"
   ]
  },
  {
   "cell_type": "code",
   "execution_count": 186,
   "metadata": {
    "ExecuteTime": {
     "end_time": "2020-06-08T19:58:24.685554Z",
     "start_time": "2020-06-08T19:57:58.877067Z"
    },
    "hidden": true
   },
   "outputs": [],
   "source": [
    "#########################################################################\n",
    "#\n",
    "# Ada Boost with PCA using Random Forests\n",
    "#\n",
    "#########################################################################\n",
    "# Train Ada Boost model using PC transformed Morgan features\n",
    "\n",
    "# n_estimators -> number of weak learners to train iteratively\n",
    "# learning_rate -> It contributes to the weight of weak learners. It uses 1 as a default value\n",
    "from sklearn.ensemble import RandomForestClassifier\n",
    "\n",
    "rf = RandomForestClassifier(n_estimators = 100,criterion='gini',bootstrap = True, warm_start = False)\n",
    "\n",
    "AdaModel_RF_ = AdaBoostClassifier(n_estimators = 100,base_estimator = rf ,learning_rate = 1)\n",
    "RF = AdaModel_RF_.fit(rdk_train,label_train)\n",
    "pred6 = RF.predict(rdk_test)"
   ]
  },
  {
   "cell_type": "markdown",
   "metadata": {
    "heading_collapsed": true,
    "hidden": true
   },
   "source": [
    "#### Scores"
   ]
  },
  {
   "cell_type": "code",
   "execution_count": 187,
   "metadata": {
    "ExecuteTime": {
     "end_time": "2020-06-08T19:58:24.730434Z",
     "start_time": "2020-06-08T19:58:24.689543Z"
    },
    "hidden": true
   },
   "outputs": [
    {
     "name": "stdout",
     "output_type": "stream",
     "text": [
      "Confusion Matrix\n",
      "[[1173    7]\n",
      " [  10   67]]\n",
      "\n",
      "Recall\n",
      "0.8701298701298701\n",
      "\n",
      "Accuracy\n",
      "0.9864757358790772\n",
      "\n",
      "F1 Score\n",
      "0.8874172185430463\n",
      "\n",
      "ROC AUC Score\n",
      "0.9320988333700199\n"
     ]
    }
   ],
   "source": [
    "Scores6 = Output(pred6,label_test)\n",
    "Scores6"
   ]
  },
  {
   "cell_type": "markdown",
   "metadata": {
    "heading_collapsed": true,
    "hidden": true
   },
   "source": [
    "#### Cross Validation"
   ]
  },
  {
   "cell_type": "code",
   "execution_count": null,
   "metadata": {
    "hidden": true
   },
   "outputs": [],
   "source": [
    "RDK_av_df6 = CrossValidation(AdaModel_RF_,rdk_features,labels)\n",
    "RDK_av_df6"
   ]
  },
  {
   "cell_type": "markdown",
   "metadata": {
    "heading_collapsed": true,
    "hidden": true
   },
   "source": [
    "### RDK_Final_df|"
   ]
  },
  {
   "cell_type": "code",
   "execution_count": null,
   "metadata": {
    "hidden": true
   },
   "outputs": [],
   "source": [
    "RDK_result = pd.concat([RDK_av_df1, RDK_av_df2, RDK_av_df3, RDK_av_df4, RDK_av_df5,RDK_av_df6], axis=1, join='inner')\n",
    "RDK_result.columns = ['RDK_Model1_df','RDK_Model2_df','RDK_Model3_df','RDK_Model4_df','RDK_Model5_df','RDK_Model6_df']\n",
    "RDK_final = RDK_result.transpose()\n",
    "RDK_final"
   ]
  },
  {
   "cell_type": "markdown",
   "metadata": {
    "heading_collapsed": true
   },
   "source": [
    "## Using Nathan Features"
   ]
  },
  {
   "cell_type": "code",
   "execution_count": 305,
   "metadata": {
    "ExecuteTime": {
     "end_time": "2020-06-10T01:33:33.146665Z",
     "start_time": "2020-06-10T01:33:28.280026Z"
    },
    "hidden": true
   },
   "outputs": [],
   "source": [
    "# load different molecular features separately\n",
    "##############################################\n",
    "#rdk_features    = gen_fprints(mols)\n",
    "#maccs_features  = gen_MACCS(mols)\n",
    "#morgan_features = gen_morgan_prints(mols,radius=18)\n",
    "nathan_features, bondIDSourceMap = gen_nathan_prints(mols)"
   ]
  },
  {
   "cell_type": "code",
   "execution_count": 306,
   "metadata": {
    "ExecuteTime": {
     "end_time": "2020-06-10T01:33:33.183950Z",
     "start_time": "2020-06-10T01:33:33.156325Z"
    },
    "hidden": true
   },
   "outputs": [],
   "source": [
    "# Split data for [training] and [testing]\n",
    "nathan_train, nathan_test, label_train, label_test = train_test_split(nathan_features, labels, \\\n",
    "                                                                test_size=0.3, shuffle=True)"
   ]
  },
  {
   "cell_type": "code",
   "execution_count": 307,
   "metadata": {
    "ExecuteTime": {
     "end_time": "2020-06-10T01:33:33.314496Z",
     "start_time": "2020-06-10T01:33:33.190929Z"
    },
    "hidden": true
   },
   "outputs": [],
   "source": [
    "######################\n",
    "# Principal Components\n",
    "######################\n",
    "\n",
    "# Determine principal components using [training data] and apply the transformation to the [test data]\n",
    "PC_nathan_proj = PCA(n_components = 3)\n",
    "nathan_proj_train = PC_nathan_proj.fit_transform(nathan_train)\n",
    "nathan_proj_test = PC_nathan_proj.transform(nathan_test)\n",
    "nathan_proj_features = PC_nathan_proj.fit_transform(nathan_features)"
   ]
  },
  {
   "cell_type": "markdown",
   "metadata": {
    "heading_collapsed": true,
    "hidden": true
   },
   "source": [
    "### Ada Boost with PCA"
   ]
  },
  {
   "cell_type": "code",
   "execution_count": 308,
   "metadata": {
    "ExecuteTime": {
     "end_time": "2020-06-10T01:33:34.050034Z",
     "start_time": "2020-06-10T01:33:33.319012Z"
    },
    "hidden": true
   },
   "outputs": [
    {
     "name": "stdout",
     "output_type": "stream",
     "text": [
      "\u001b[1mConfusion Matrix\u001b[0m\n",
      "[[1174   27]\n",
      " [  49    7]]\n",
      "\u001b[1m\n",
      "Recall\u001b[0m\n",
      "0.125\n",
      "\u001b[1m\n",
      "Accuracy\u001b[0m\n",
      "0.939538583929992\n",
      "\u001b[1m\n",
      "F1 Score\u001b[0m\n",
      "0.15555555555555556\n",
      "\u001b[1m\n",
      "ROC AUC Score\u001b[0m\n",
      "0.551259367194005\n"
     ]
    }
   ],
   "source": [
    "#########################################################################\n",
    "#\n",
    "# Ada Boost with PCA\n",
    "#\n",
    "#########################################################################\n",
    "# Train Ada Boost model using PC transformed Nathan features\n",
    "\n",
    "# n_estimators -> number of weak learners to train iteratively\n",
    "# learning_rate -> It contributes to the weight of weak learners. It uses 1 as a default value\n",
    "AdaModel_PCA = AdaBoostClassifier(n_estimators = 100, learning_rate = 1)\n",
    "Ada = AdaModel_PCA.fit(nathan_proj_train,label_train)\n",
    "pred1 = Ada.predict(nathan_proj_test)"
   ]
  },
  {
   "cell_type": "markdown",
   "metadata": {
    "heading_collapsed": true,
    "hidden": true
   },
   "source": [
    "#### Scores"
   ]
  },
  {
   "cell_type": "code",
   "execution_count": null,
   "metadata": {
    "hidden": true
   },
   "outputs": [],
   "source": [
    "Scores1 = Output(pred1,label_test)\n",
    "Scores1"
   ]
  },
  {
   "cell_type": "markdown",
   "metadata": {
    "heading_collapsed": true,
    "hidden": true
   },
   "source": [
    "#### Cross Validation"
   ]
  },
  {
   "cell_type": "code",
   "execution_count": null,
   "metadata": {
    "hidden": true
   },
   "outputs": [],
   "source": [
    "N_av_df1 = CrossValidation(AdaModel_PCA,nathan_proj_features,labels)\n",
    "N_av_df1"
   ]
  },
  {
   "cell_type": "markdown",
   "metadata": {
    "heading_collapsed": true,
    "hidden": true
   },
   "source": [
    "### Ada Boost [WITHOUT] PCA"
   ]
  },
  {
   "cell_type": "code",
   "execution_count": 309,
   "metadata": {
    "ExecuteTime": {
     "end_time": "2020-06-10T01:33:35.344486Z",
     "start_time": "2020-06-10T01:33:34.053027Z"
    },
    "hidden": true
   },
   "outputs": [
    {
     "name": "stdout",
     "output_type": "stream",
     "text": [
      "\u001b[1mConfusion Matrix\u001b[0m\n",
      "[[1199    2]\n",
      " [   1   55]]\n",
      "\u001b[1m\n",
      "Recall\u001b[0m\n",
      "0.9821428571428571\n",
      "\u001b[1m\n",
      "Accuracy\u001b[0m\n",
      "0.9976133651551312\n",
      "\u001b[1m\n",
      "F1 Score\u001b[0m\n",
      "0.9734513274336283\n",
      "\u001b[1m\n",
      "ROC AUC Score\u001b[0m\n",
      "0.9902387891043178\n"
     ]
    }
   ],
   "source": [
    "#########################################################################\n",
    "#\n",
    "# Ada Boost [WITHOUT] PCA\n",
    "#\n",
    "#########################################################################\n",
    "# Train Logistic Regression model using PC transformed Nathan features\n",
    "AdaModel_ = AdaBoostClassifier(n_estimators = 100, learning_rate = 1)\n",
    "Ada = AdaModel_.fit(nathan_train,label_train)\n",
    "pred2 = Ada.predict(nathan_test)"
   ]
  },
  {
   "cell_type": "markdown",
   "metadata": {
    "heading_collapsed": true,
    "hidden": true
   },
   "source": [
    "#### Scores"
   ]
  },
  {
   "cell_type": "code",
   "execution_count": null,
   "metadata": {
    "hidden": true
   },
   "outputs": [],
   "source": [
    "Scores2 = Output(pred2,label_test)\n",
    "Scores2"
   ]
  },
  {
   "cell_type": "markdown",
   "metadata": {
    "heading_collapsed": true,
    "hidden": true
   },
   "source": [
    "#### Cross Validation"
   ]
  },
  {
   "cell_type": "code",
   "execution_count": null,
   "metadata": {
    "hidden": true
   },
   "outputs": [],
   "source": [
    "N_av_df2 = CrossValidation(AdaModel_,nathan_features,labels)\n",
    "N_av_df2"
   ]
  },
  {
   "cell_type": "markdown",
   "metadata": {
    "heading_collapsed": true,
    "hidden": true
   },
   "source": [
    "### Ada Boost with PCA using Logistic regression"
   ]
  },
  {
   "cell_type": "code",
   "execution_count": 314,
   "metadata": {
    "ExecuteTime": {
     "end_time": "2020-06-10T01:41:28.214360Z",
     "start_time": "2020-06-10T01:41:27.375180Z"
    },
    "hidden": true
   },
   "outputs": [
    {
     "name": "stdout",
     "output_type": "stream",
     "text": [
      "\u001b[1mConfusion Matrix\u001b[0m\n",
      "[[1201    0]\n",
      " [  56    0]]\n",
      "\u001b[1m\n",
      "Recall\u001b[0m\n",
      "0.0\n",
      "\u001b[1m\n",
      "Accuracy\u001b[0m\n",
      "0.9554494828957836\n",
      "\u001b[1m\n",
      "F1 Score\u001b[0m\n",
      "0.0\n",
      "\u001b[1m\n",
      "ROC AUC Score\u001b[0m\n",
      "0.5\n"
     ]
    }
   ],
   "source": [
    "#########################################################################\n",
    "#\n",
    "# Ada Boost with PCA using Logistic regression\n",
    "#\n",
    "#########################################################################\n",
    "# Train Ada Boost model using PC transformed Morgan features\n",
    "\n",
    "# n_estimators -> number of weak learners to train iteratively\n",
    "# learning_rate -> It contributes to the weight of weak learners. It uses 1 as a default value\n",
    "from sklearn.linear_model import LogisticRegression \n",
    "\n",
    "mylogregmodel = LogisticRegression()\n",
    "\n",
    "AdaModel_LR_PCA = AdaBoostClassifier(n_estimators = 100,base_estimator = mylogregmodel ,learning_rate = 1)\n",
    "Ada = AdaModel_LR_PCA.fit(nathan_proj_train,label_train)\n",
    "pred3 = Ada.predict(nathan_proj_test)"
   ]
  },
  {
   "cell_type": "markdown",
   "metadata": {
    "heading_collapsed": true,
    "hidden": true
   },
   "source": [
    "#### Scores"
   ]
  },
  {
   "cell_type": "code",
   "execution_count": null,
   "metadata": {
    "hidden": true
   },
   "outputs": [],
   "source": [
    "Scores3 = Output(pred3,label_test)\n",
    "Scores3"
   ]
  },
  {
   "cell_type": "markdown",
   "metadata": {
    "heading_collapsed": true,
    "hidden": true
   },
   "source": [
    "#### Cross Validation"
   ]
  },
  {
   "cell_type": "code",
   "execution_count": null,
   "metadata": {
    "hidden": true
   },
   "outputs": [],
   "source": [
    "N_av_df3 = CrossValidation(AdaModel_LR_PCA,nathan_proj_features,labels)\n",
    "N_av_df3"
   ]
  },
  {
   "cell_type": "markdown",
   "metadata": {
    "heading_collapsed": true,
    "hidden": true
   },
   "source": [
    "### Ada Boost [WITHOUT] PCA using Logistic regression"
   ]
  },
  {
   "cell_type": "code",
   "execution_count": 317,
   "metadata": {
    "ExecuteTime": {
     "end_time": "2020-06-10T01:46:58.389635Z",
     "start_time": "2020-06-10T01:46:53.456527Z"
    },
    "hidden": true,
    "run_control": {
     "marked": false
    }
   },
   "outputs": [
    {
     "name": "stdout",
     "output_type": "stream",
     "text": [
      "\u001b[1mConfusion Matrix\u001b[0m\n",
      "[[1196    5]\n",
      " [   2   54]]\n",
      "\u001b[1m\n",
      "Recall\u001b[0m\n",
      "0.9642857142857143\n",
      "\u001b[1m\n",
      "Accuracy\u001b[0m\n",
      "0.994431185361973\n",
      "\u001b[1m\n",
      "F1 Score\u001b[0m\n",
      "0.9391304347826087\n",
      "\u001b[1m\n",
      "ROC AUC Score\u001b[0m\n",
      "0.9800612584750803\n"
     ]
    }
   ],
   "source": [
    "#########################################################################\n",
    "#\n",
    "# Ada Boost with PCA using Logistic regression\n",
    "#\n",
    "#########################################################################\n",
    "# Train Ada Boost model using PC transformed Morgan features\n",
    "\n",
    "# n_estimators -> number of weak learners to train iteratively\n",
    "# learning_rate -> It contributes to the weight of weak learners. It uses 1 as a default value\n",
    "from sklearn.linear_model import LogisticRegression \n",
    "\n",
    "mylogregmodel = LogisticRegression(max_iter=10000)\n",
    "\n",
    "AdaModel_LR_ = AdaBoostClassifier(n_estimators = 100,base_estimator = mylogregmodel ,learning_rate = 1)\n",
    "Ada = AdaModel_LR_.fit(nathan_train,label_train)\n",
    "pred4 = Ada.predict(nathan_test)"
   ]
  },
  {
   "cell_type": "markdown",
   "metadata": {
    "heading_collapsed": true,
    "hidden": true
   },
   "source": [
    "#### Scores"
   ]
  },
  {
   "cell_type": "code",
   "execution_count": null,
   "metadata": {
    "hidden": true
   },
   "outputs": [],
   "source": [
    "Scores4 = Output(pred4,label_test)\n",
    "Scores4"
   ]
  },
  {
   "cell_type": "markdown",
   "metadata": {
    "heading_collapsed": true,
    "hidden": true
   },
   "source": [
    "#### Cross Validation"
   ]
  },
  {
   "cell_type": "code",
   "execution_count": null,
   "metadata": {
    "hidden": true
   },
   "outputs": [],
   "source": [
    "N_av_df4 = CrossValidation(AdaModel_LR_,nathan_features,labels)\n",
    "N_av_df4"
   ]
  },
  {
   "cell_type": "markdown",
   "metadata": {
    "heading_collapsed": true,
    "hidden": true
   },
   "source": [
    "### Ada Boost with PCA using Random Forests"
   ]
  },
  {
   "cell_type": "code",
   "execution_count": 312,
   "metadata": {
    "ExecuteTime": {
     "end_time": "2020-06-10T01:36:18.399474Z",
     "start_time": "2020-06-10T01:33:41.650750Z"
    },
    "hidden": true
   },
   "outputs": [
    {
     "name": "stdout",
     "output_type": "stream",
     "text": [
      "\u001b[1mConfusion Matrix\u001b[0m\n",
      "[[1193    8]\n",
      " [  56    0]]\n",
      "\u001b[1m\n",
      "Recall\u001b[0m\n",
      "0.0\n",
      "\u001b[1m\n",
      "Accuracy\u001b[0m\n",
      "0.949085123309467\n",
      "\u001b[1m\n",
      "F1 Score\u001b[0m\n",
      "0.0\n",
      "\u001b[1m\n",
      "ROC AUC Score\u001b[0m\n",
      "0.49666944213155706\n"
     ]
    }
   ],
   "source": [
    "#########################################################################\n",
    "#\n",
    "# Ada Boost with PCA using Random Forests\n",
    "#\n",
    "#########################################################################\n",
    "# Train Ada Boost model using PC transformed Morgan features\n",
    "\n",
    "# n_estimators -> number of weak learners to train iteratively\n",
    "# learning_rate -> It contributes to the weight of weak learners. It uses 1 as a default value\n",
    "from sklearn.ensemble import RandomForestClassifier\n",
    "\n",
    "rf = RandomForestClassifier(n_estimators = 100,criterion='gini',bootstrap = True, warm_start = False)\n",
    "\n",
    "AdaModel_RF_PCA = AdaBoostClassifier(n_estimators = 100,base_estimator = rf ,learning_rate = 1)\n",
    "RF = AdaModel_RF_PCA.fit(nathan_proj_train,label_train)\n",
    "pred5 = RF.predict(nathan_proj_test)"
   ]
  },
  {
   "cell_type": "markdown",
   "metadata": {
    "heading_collapsed": true,
    "hidden": true
   },
   "source": [
    "#### Scores"
   ]
  },
  {
   "cell_type": "code",
   "execution_count": null,
   "metadata": {
    "hidden": true
   },
   "outputs": [],
   "source": [
    "Scores5 = Output(pred5,label_test)\n",
    "Scores5"
   ]
  },
  {
   "cell_type": "markdown",
   "metadata": {
    "heading_collapsed": true,
    "hidden": true
   },
   "source": [
    "#### Cross Validation"
   ]
  },
  {
   "cell_type": "code",
   "execution_count": null,
   "metadata": {
    "hidden": true
   },
   "outputs": [],
   "source": [
    "N_av_df5 = CrossValidation(AdaModel_RF_PCA,nathan_proj_features,labels)\n",
    "N_av_df5"
   ]
  },
  {
   "cell_type": "markdown",
   "metadata": {
    "heading_collapsed": true,
    "hidden": true
   },
   "source": [
    "### Ada Boost [WITHOUT] PCA using Random Forests"
   ]
  },
  {
   "cell_type": "code",
   "execution_count": 316,
   "metadata": {
    "ExecuteTime": {
     "end_time": "2020-06-10T01:46:53.452000Z",
     "start_time": "2020-06-10T01:41:32.738950Z"
    },
    "hidden": true
   },
   "outputs": [
    {
     "name": "stdout",
     "output_type": "stream",
     "text": [
      "\u001b[1mConfusion Matrix\u001b[0m\n",
      "[[1175   26]\n",
      " [  56    0]]\n",
      "\u001b[1m\n",
      "Recall\u001b[0m\n",
      "0.0\n",
      "\u001b[1m\n",
      "Accuracy\u001b[0m\n",
      "0.9347653142402546\n",
      "\u001b[1m\n",
      "F1 Score\u001b[0m\n",
      "0.0\n",
      "\u001b[1m\n",
      "ROC AUC Score\u001b[0m\n",
      "0.48917568692756036\n"
     ]
    }
   ],
   "source": [
    "#########################################################################\n",
    "#\n",
    "# Ada Boost with PCA using Random Forests\n",
    "#\n",
    "#########################################################################\n",
    "# Train Ada Boost model using PC transformed Morgan features\n",
    "\n",
    "# n_estimators -> number of weak learners to train iteratively\n",
    "# learning_rate -> It contributes to the weight of weak learners. It uses 1 as a default value\n",
    "from sklearn.ensemble import RandomForestClassifier\n",
    "\n",
    "rf = RandomForestClassifier(n_estimators = 100,criterion='gini',bootstrap = True, warm_start = False)\n",
    "\n",
    "AdaModel_RF_ = AdaBoostClassifier(n_estimators = 100,base_estimator = rf ,learning_rate = 1)\n",
    "RF = AdaModel_RF_.fit(nathan_train,label_train)\n",
    "pred6 = RF.predict(nathan_test)"
   ]
  },
  {
   "cell_type": "markdown",
   "metadata": {
    "heading_collapsed": true,
    "hidden": true
   },
   "source": [
    "#### Scores"
   ]
  },
  {
   "cell_type": "code",
   "execution_count": null,
   "metadata": {
    "hidden": true
   },
   "outputs": [],
   "source": [
    "Scores6 = Output(pred6,label_test)\n",
    "Scores6"
   ]
  },
  {
   "cell_type": "markdown",
   "metadata": {
    "heading_collapsed": true,
    "hidden": true
   },
   "source": [
    "#### Cross Validation"
   ]
  },
  {
   "cell_type": "code",
   "execution_count": null,
   "metadata": {
    "hidden": true
   },
   "outputs": [],
   "source": [
    "N_av_df6 = CrossValidation(AdaModel_RF_,nathan_features,labels)\n",
    "N_av_df6"
   ]
  },
  {
   "cell_type": "markdown",
   "metadata": {
    "heading_collapsed": true,
    "hidden": true
   },
   "source": [
    "### N_Final_df"
   ]
  },
  {
   "cell_type": "code",
   "execution_count": null,
   "metadata": {
    "hidden": true
   },
   "outputs": [],
   "source": [
    "N_result = pd.concat([N_av_df1, N_av_df2, N_av_df3, N_av_df4, N_av_df5,N_av_df6], axis=1, join='inner')\n",
    "N_result.columns = ['N_Model1_df','N_Model2_df','N_Model3_df','N_Model4_df','N_Model5_df','N_Model6_df']\n",
    "N_final = N_result.transpose()\n",
    "N_final"
   ]
  },
  {
   "cell_type": "markdown",
   "metadata": {
    "heading_collapsed": true
   },
   "source": [
    "## FULL DataFrame"
   ]
  },
  {
   "cell_type": "code",
   "execution_count": 321,
   "metadata": {
    "ExecuteTime": {
     "end_time": "2020-06-10T18:57:25.022689Z",
     "start_time": "2020-06-10T18:57:24.868315Z"
    },
    "hidden": true
   },
   "outputs": [
    {
     "ename": "NameError",
     "evalue": "name 'M_Model1_df' is not defined",
     "output_type": "error",
     "traceback": [
      "\u001b[1;31m---------------------------------------------------------------------------\u001b[0m",
      "\u001b[1;31mNameError\u001b[0m                                 Traceback (most recent call last)",
      "\u001b[1;32m<ipython-input-321-14a96444e8a7>\u001b[0m in \u001b[0;36m<module>\u001b[1;34m\u001b[0m\n\u001b[1;32m----> 1\u001b[1;33m \u001b[0mresult\u001b[0m \u001b[1;33m=\u001b[0m \u001b[0mpd\u001b[0m\u001b[1;33m.\u001b[0m\u001b[0mconcat\u001b[0m\u001b[1;33m(\u001b[0m\u001b[1;33m[\u001b[0m\u001b[0mM_Model1_df\u001b[0m\u001b[1;33m,\u001b[0m \u001b[0mM_Model2_df\u001b[0m\u001b[1;33m,\u001b[0m\u001b[0mMAC_Model1_df\u001b[0m\u001b[1;33m,\u001b[0m\u001b[0mMAC_Model2_df\u001b[0m\u001b[1;33m,\u001b[0m\u001b[0mRDK_Model1_df\u001b[0m\u001b[1;33m,\u001b[0m\u001b[0mRDK_Model2_df\u001b[0m\u001b[1;33m,\u001b[0m\u001b[0mN_Model1_df\u001b[0m\u001b[1;33m,\u001b[0m\u001b[0mN_Model2_df\u001b[0m\u001b[1;33m]\u001b[0m\u001b[1;33m,\u001b[0m \u001b[0maxis\u001b[0m\u001b[1;33m=\u001b[0m\u001b[1;36m1\u001b[0m\u001b[1;33m,\u001b[0m \u001b[0mjoin\u001b[0m\u001b[1;33m=\u001b[0m\u001b[1;34m'inner'\u001b[0m\u001b[1;33m)\u001b[0m\u001b[1;33m\u001b[0m\u001b[1;33m\u001b[0m\u001b[0m\n\u001b[0m\u001b[0;32m      2\u001b[0m result.columns = ['M_Model1_df',\n\u001b[0;32m      3\u001b[0m                   \u001b[1;34m'M_Model2_df'\u001b[0m\u001b[1;33m,\u001b[0m\u001b[1;33m\u001b[0m\u001b[1;33m\u001b[0m\u001b[0m\n\u001b[0;32m      4\u001b[0m                   \u001b[1;34m'MAC_Model1_df'\u001b[0m\u001b[1;33m,\u001b[0m\u001b[1;33m\u001b[0m\u001b[1;33m\u001b[0m\u001b[0m\n\u001b[0;32m      5\u001b[0m                   \u001b[1;34m'MAC_Model2_df'\u001b[0m\u001b[1;33m,\u001b[0m\u001b[1;33m\u001b[0m\u001b[1;33m\u001b[0m\u001b[0m\n",
      "\u001b[1;31mNameError\u001b[0m: name 'M_Model1_df' is not defined"
     ]
    }
   ],
   "source": [
    "M_result = pd.concat([M_result, MAC_result,RDK_result,N_result,av_df5,av_df6], axis=1, join='inner')\n",
    "final = M_result.transpose()\n",
    "final.to_csv(\"ADA_Result.csv\")\n",
    "final"
   ]
  }
 ],
 "metadata": {
  "hide_input": false,
  "kernelspec": {
   "display_name": "Python 3",
   "language": "python",
   "name": "python3"
  },
  "language_info": {
   "codemirror_mode": {
    "name": "ipython",
    "version": 3
   },
   "file_extension": ".py",
   "mimetype": "text/x-python",
   "name": "python",
   "nbconvert_exporter": "python",
   "pygments_lexer": "ipython3",
   "version": "3.7.7"
  }
 },
 "nbformat": 4,
 "nbformat_minor": 4
}
