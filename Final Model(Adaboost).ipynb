{
 "cells": [
  {
   "cell_type": "markdown",
   "metadata": {},
   "source": [
    "# Ada Boost\n",
    "\n",
    " - Goal: To Apply Ada Boost to several models to test Recall, Accuracy, F1 score and ROC AUC Score, using diffrent features inputs "
   ]
  },
  {
   "cell_type": "markdown",
   "metadata": {},
   "source": [
    "## Import Statements"
   ]
  },
  {
   "cell_type": "code",
   "execution_count": 1,
   "metadata": {
    "ExecuteTime": {
     "end_time": "2020-06-09T02:51:00.578546Z",
     "start_time": "2020-06-09T02:51:00.562591Z"
    }
   },
   "outputs": [],
   "source": [
    "import pandas as pd\n",
    "import numpy as np\n",
    "\n",
    "#import matplotlib as plt\n",
    "import matplotlib.pyplot as plt\n",
    "from mpl_toolkits.mplot3d import axes3d\n",
    "from rdkit import Chem\n",
    "\n",
    "# FEATURES\n",
    "from rdkit.Chem import Descriptors\n",
    "from rdkit.Chem import AllChem # For Morgan Fingerprint (Circular Fingerprints)\n",
    "from rdkit.Chem import MACCSkeys # For MACCS keys\n",
    "\n",
    "# SCALING DATA\n",
    "from sklearn.preprocessing import scale\n",
    "\n",
    "# For splitting data into training and test sets.\n",
    "from sklearn.model_selection import train_test_split\n",
    "\n",
    "# For processing how well our methods have classified our data\n",
    "from sklearn.metrics import accuracy_score, confusion_matrix, recall_score, precision_score, f1_score,roc_auc_score\n",
    "\n",
    "# Principal Component Analysis (PCA)\n",
    "from sklearn.decomposition import PCA\n",
    "\n",
    "# Logistic Regression ML Model\n",
    "from sklearn.linear_model import LogisticRegression\n",
    "\n",
    "# Ada Boost Classifier\n",
    "from sklearn.ensemble import AdaBoostClassifier\n",
    "\n",
    "# Cross Validation\n",
    "from sklearn.model_selection import cross_val_score\n",
    "\n",
    "#CV\n",
    "from sklearn.model_selection import cross_validate"
   ]
  },
  {
   "cell_type": "markdown",
   "metadata": {},
   "source": [
    "## User Defined Helper Functions"
   ]
  },
  {
   "cell_type": "code",
   "execution_count": 2,
   "metadata": {
    "ExecuteTime": {
     "end_time": "2020-06-10T18:24:52.390589Z",
     "start_time": "2020-06-10T18:24:52.347329Z"
    }
   },
   "outputs": [],
   "source": [
    "# FUNCTION LOAD_DATA\n",
    "# Load the data from the csv file in the [data] folder. We separate \n",
    "# the molecule data from the \"explosive\" labes and return the labels\n",
    "# an a molecules from SMILES representation for each molecule in the \n",
    "# dataset\n",
    "def load_data(data_file):\n",
    "    mol_df = pd.read_csv(data_file)\n",
    "\n",
    "    smiles = np.array(mol_df['smiles'])\n",
    "    labels = np.array(mol_df['labels']) \n",
    "    \n",
    "    mols = np.array([Chem.MolFromSmiles(smile) for smile in smiles])\n",
    "    \n",
    "    return mols, labels\n",
    "\n",
    "# FUNCTION GEN_FPRINTS\n",
    "# Generate molecule fingerprints for each molecule in an input list\n",
    "def gen_fprints(mols):\n",
    "    f_prints = np.array([Chem.RDKFingerprint(mol) for mol in mols])  \n",
    "    return f_prints\n",
    "\n",
    "# FUNCTION gen_MACCS \n",
    "# Generate the MACCS keys for each molecule in an input list of molecules\n",
    "def gen_MACCS(mols):\n",
    "    MACCS_keys = np.array([MACCSkeys.GenMACCSKeys(mol) for mol in mols])\n",
    "    return MACCS_keys\n",
    "\n",
    "# FUNCTION gen_morgan_prints\n",
    "# Generates Morgan finger prints for each molecule in an input list of molecules\n",
    "def gen_morgan_prints(mols,radius):\n",
    "    morgan_prints = np.array([AllChem.GetMorganFingerprintAsBitVect(mol,radius,nBits=1024) for mol in mols])\n",
    "    return morgan_prints\n",
    "\n",
    "# FUNCTION CrossValidation\n",
    "# Runs Cross Validation and outputs the results in a dataframe\n",
    "def CrossValidation(ML_model,X,Y):\n",
    "    model_scores = []\n",
    "    model_scores.append(cross_validate(ML_model, X , Y , cv=5, scoring=('recall','accuracy', 'f1', 'roc_auc','precision'), return_train_score=True))\n",
    "    models_df = pd.DataFrame(model_scores, columns = ['fit_time','score_time','test_recall','train_recall','test_accuracy','train_accuracy','test_f1','train_f1','test_roc_auc','train_roc_auc','test_precision','train_precision'])\n",
    "    av_column = models_df.mean(axis = 0)\n",
    "    return pd.DataFrame(av_column)\n",
    "\n",
    "# FUNCTION Output\n",
    "# Prints out the Scores of the model\n",
    "def Output(pred,label_test):\n",
    "    # Model Generalizability Analysis\n",
    "    accuracy = accuracy_score(label_test, pred)\n",
    "    conf_matrix = confusion_matrix(label_test, pred)\n",
    "    F1Score = f1_score(label_test,pred)\n",
    "    roc_auc = roc_auc_score(label_test,pred)\n",
    "    recall = recall_score(label_test,pred)\n",
    "\n",
    "    print('\\033[1m' + 'Confusion Matrix' + '\\033[0m') # printing in bold\n",
    "    print(conf_matrix)\n",
    "    \n",
    "    print('\\033[1m' + '\\nRecall' + '\\033[0m')\n",
    "    print(recall)  \n",
    "\n",
    "    print('\\033[1m' + '\\nAccuracy' + '\\033[0m')\n",
    "    print(accuracy)  \n",
    "    \n",
    "    print('\\033[1m' + '\\nF1 Score' + '\\033[0m')\n",
    "    print(F1Score)\n",
    "\n",
    "    print('\\033[1m' + '\\nROC AUC Score' + '\\033[0m')\n",
    "    print(roc_auc)\n",
    "\n",
    "    \n",
    "def getKeyFromBond(bond):\n",
    "    atom1 = int(bond.GetBeginAtom().GetAtomicNum())\n",
    "    atom2 = int(bond.GetEndAtom().GetAtomicNum())\n",
    "\n",
    "    if atom1 > atom2:\n",
    "        atom1, atom2 = atom2, atom1\n",
    "\n",
    "    bondType = int(bond.GetBondTypeAsDouble() * 2 - 2)\n",
    "    key = atom1 | (atom2 << 8) | (bondType << 16)\n",
    "\n",
    "    return key\n",
    "\n",
    "def formatMolecule(ID):\n",
    "    pt = Chem.GetPeriodicTable()\n",
    "    atom1 = pt.GetElementSymbol(int(ID & 255))\n",
    "    atom2 = pt.GetElementSymbol(int((ID >> 8) & 255))\n",
    "    bondType = ['-', ':', '=', 'err', '#'][(ID >> 16) & 255]\n",
    "    return '%s%s%s' % (atom1,bondType,atom2)\n",
    "\n",
    "def gen_nathan_prints(mols):\n",
    "    # this dictionary is responsible for assigning a unique ID (index) to\n",
    "    # every unique bond.  The bonds are assigned incrementing IDs as discovered\n",
    "    bondIDs = dict()\n",
    "    numUniqueBonds = 0\n",
    "    \n",
    "    for molecule in mols:\n",
    "        for bond in molecule.GetBonds():\n",
    "            key = getKeyFromBond(bond)\n",
    "            if key not in bondIDs:\n",
    "                bondIDs[key] = numUniqueBonds\n",
    "                numUniqueBonds += 1\n",
    "    \n",
    "    # list of numpy byte arrays representing the feature vector of each molecule\n",
    "    fingerprints = []\n",
    "\n",
    "    for molecule in mols:\n",
    "        # One molecule has 105 carbon-carbon single bonds, so the fingerprint\n",
    "        # format is set to preserve up to that many occurances of any unique bond\n",
    "            \n",
    "        # each fingerprint requires 1 byte to store the count of each unique bond type\n",
    "        # plus the extra 2 bytes store the molecule's molar mass\n",
    "        fingerprint = np.zeros(numUniqueBonds + 2, np.uint8)\n",
    "        \n",
    "        for bond in molecule.GetBonds():\n",
    "            key = getKeyFromBond(bond)\n",
    "            index = bondIDs[key]\n",
    "            fingerprint[index] += 1\n",
    "        \n",
    "        # the heaviest molecule in our dataset weights 3431.9089999999887 g/mol\n",
    "        # encode the weight with 1/5 increments of fractional value\n",
    "        # in the last 2 bytes of the finger print / feature vector\n",
    "        weight = Descriptors.MolWt(molecule)\n",
    "        intWeight = round(weight * 5)\n",
    "        fingerprint[numUniqueBonds] = intWeight & 255\n",
    "        fingerprint[numUniqueBonds + 1] = (intWeight >> 8) & 255\n",
    "        \n",
    "        fingerprints.append(fingerprint)\n",
    "    \n",
    "    # create a mapping from bond ID to bond key to aid feature importance\n",
    "    sourceMap = np.zeros(numUniqueBonds, np.uint32)\n",
    "    for k, v in bondIDs.items():\n",
    "        sourceMap[v] = k\n",
    "    \n",
    "    return fingerprints, sourceMap"
   ]
  },
  {
   "cell_type": "markdown",
   "metadata": {
    "heading_collapsed": true
   },
   "source": [
    "## Loading data"
   ]
  },
  {
   "cell_type": "code",
   "execution_count": 3,
   "metadata": {
    "ExecuteTime": {
     "end_time": "2020-06-08T22:17:28.415358Z",
     "start_time": "2020-06-08T22:17:27.272161Z"
    },
    "hidden": true
   },
   "outputs": [
    {
     "name": "stderr",
     "output_type": "stream",
     "text": [
      "RDKit WARNING: [22:05:22] WARNING: not removing hydrogen atom without neighbors\n",
      "RDKit WARNING: [22:05:22] WARNING: not removing hydrogen atom without neighbors\n",
      "RDKit WARNING: [22:05:22] WARNING: not removing hydrogen atom without neighbors\n",
      "RDKit WARNING: [22:05:22] WARNING: not removing hydrogen atom without neighbors\n",
      "RDKit WARNING: [22:05:22] WARNING: not removing hydrogen atom without neighbors\n",
      "RDKit WARNING: [22:05:22] WARNING: not removing hydrogen atom without neighbors\n",
      "RDKit WARNING: [22:05:22] WARNING: not removing hydrogen atom without neighbors\n",
      "RDKit WARNING: [22:05:22] WARNING: not removing hydrogen atom without neighbors\n",
      "RDKit WARNING: [22:05:22] WARNING: not removing hydrogen atom without neighbors\n"
     ]
    }
   ],
   "source": [
    "data_file = 'data/molecule_data.csv'\n",
    "mols, labels = load_data(data_file)"
   ]
  },
  {
   "cell_type": "markdown",
   "metadata": {
    "heading_collapsed": true
   },
   "source": [
    "## Using Morgan Features"
   ]
  },
  {
   "cell_type": "code",
   "execution_count": 4,
   "metadata": {
    "ExecuteTime": {
     "end_time": "2020-06-08T22:17:40.269409Z",
     "start_time": "2020-06-08T22:17:28.417239Z"
    },
    "hidden": true,
    "run_control": {
     "marked": false
    }
   },
   "outputs": [],
   "source": [
    "# load different molecular features separately\n",
    "##############################################\n",
    "#rdk_features    = gen_fprints(mols)\n",
    "#maccs_features  = gen_MACCS(mols)\n",
    "morgan_features = gen_morgan_prints(mols,radius=16)"
   ]
  },
  {
   "cell_type": "code",
   "execution_count": 5,
   "metadata": {
    "ExecuteTime": {
     "end_time": "2020-06-08T22:17:40.299241Z",
     "start_time": "2020-06-08T22:17:40.273310Z"
    },
    "hidden": true
   },
   "outputs": [],
   "source": [
    "# Split data for [training] and [testing]\n",
    "morgan_train, morgan_test, label_train, label_test = train_test_split(morgan_features, labels, \\\n",
    "                                                                test_size=0.3, shuffle=True)"
   ]
  },
  {
   "cell_type": "code",
   "execution_count": 6,
   "metadata": {
    "ExecuteTime": {
     "end_time": "2020-06-09T21:36:42.844806Z",
     "start_time": "2020-06-09T21:36:39.481089Z"
    },
    "hidden": true
   },
   "outputs": [],
   "source": [
    "######################\n",
    "# Principal Components\n",
    "######################\n",
    "\n",
    "# Determine principal components using [training data] and apply the transformation to the [test data]\n",
    "PC_morgan_proj = PCA(n_components=4)\n",
    "morgan_proj_train = PC_morgan_proj.fit_transform(morgan_train)\n",
    "morgan_proj_test = PC_morgan_proj.transform(morgan_test)\n",
    "morgan_proj_features = PC_morgan_proj.fit_transform(morgan_features)"
   ]
  },
  {
   "cell_type": "markdown",
   "metadata": {
    "heading_collapsed": true,
    "hidden": true
   },
   "source": [
    "### Ada Boost with PCA"
   ]
  },
  {
   "cell_type": "code",
   "execution_count": 7,
   "metadata": {
    "ExecuteTime": {
     "end_time": "2020-06-09T21:07:41.297464Z",
     "start_time": "2020-06-09T21:07:40.369638Z"
    },
    "hidden": true
   },
   "outputs": [],
   "source": [
    "#########################################################################\n",
    "#\n",
    "# Ada Boost with PCA\n",
    "#\n",
    "#########################################################################\n",
    "# Train Ada Boost model using PC transformed Morgan features\n",
    "\n",
    "# n_estimators -> number of weak learners to train iteratively\n",
    "# learning_rate -> It contributes to the weight of weak learners. It uses 1 as a default value\n",
    "AdaModel_PCA = AdaBoostClassifier(n_estimators = 100, learning_rate = 1)\n",
    "Ada = AdaModel_PCA.fit(morgan_proj_train,label_train)\n",
    "pred1 = Ada.predict(morgan_proj_test)"
   ]
  },
  {
   "cell_type": "markdown",
   "metadata": {
    "heading_collapsed": true,
    "hidden": true
   },
   "source": [
    "#### Scores"
   ]
  },
  {
   "cell_type": "code",
   "execution_count": 8,
   "metadata": {
    "ExecuteTime": {
     "end_time": "2020-06-09T21:07:41.343548Z",
     "start_time": "2020-06-09T21:07:41.302441Z"
    },
    "hidden": true
   },
   "outputs": [
    {
     "name": "stdout",
     "output_type": "stream",
     "text": [
      "\u001b[1mConfusion Matrix\u001b[0m\n",
      "[[1174   10]\n",
      " [  11   62]]\n",
      "\u001b[1m\n",
      "Recall\u001b[0m\n",
      "0.8493150684931506\n",
      "\u001b[1m\n",
      "Accuracy\u001b[0m\n",
      "0.9832935560859188\n",
      "\u001b[1m\n",
      "F1 Score\u001b[0m\n",
      "0.8551724137931035\n",
      "\u001b[1m\n",
      "ROC AUC Score\u001b[0m\n",
      "0.9204345612736022\n"
     ]
    }
   ],
   "source": [
    "Scores1 = Output(pred1,label_test)\n",
    "Scores1"
   ]
  },
  {
   "cell_type": "markdown",
   "metadata": {
    "heading_collapsed": true,
    "hidden": true
   },
   "source": [
    "#### Cross Validation"
   ]
  },
  {
   "cell_type": "code",
   "execution_count": 9,
   "metadata": {
    "ExecuteTime": {
     "end_time": "2020-06-09T21:46:19.431101Z",
     "start_time": "2020-06-09T21:38:02.666580Z"
    },
    "hidden": true
   },
   "outputs": [
    {
     "data": {
      "text/html": [
       "<div>\n",
       "<style scoped>\n",
       "    .dataframe tbody tr th:only-of-type {\n",
       "        vertical-align: middle;\n",
       "    }\n",
       "\n",
       "    .dataframe tbody tr th {\n",
       "        vertical-align: top;\n",
       "    }\n",
       "\n",
       "    .dataframe thead th {\n",
       "        text-align: right;\n",
       "    }\n",
       "</style>\n",
       "<table border=\"1\" class=\"dataframe\">\n",
       "  <thead>\n",
       "    <tr style=\"text-align: right;\">\n",
       "      <th></th>\n",
       "      <th>0</th>\n",
       "    </tr>\n",
       "  </thead>\n",
       "  <tbody>\n",
       "    <tr>\n",
       "      <th>fit_time</th>\n",
       "      <td>0.254583</td>\n",
       "    </tr>\n",
       "    <tr>\n",
       "      <th>score_time</th>\n",
       "      <td>0.033232</td>\n",
       "    </tr>\n",
       "    <tr>\n",
       "      <th>test_recall</th>\n",
       "      <td>0.773585</td>\n",
       "    </tr>\n",
       "    <tr>\n",
       "      <th>train_recall</th>\n",
       "      <td>0.961722</td>\n",
       "    </tr>\n",
       "    <tr>\n",
       "      <th>test_accuracy</th>\n",
       "      <td>0.982100</td>\n",
       "    </tr>\n",
       "    <tr>\n",
       "      <th>train_accuracy</th>\n",
       "      <td>0.996118</td>\n",
       "    </tr>\n",
       "    <tr>\n",
       "      <th>test_f1</th>\n",
       "      <td>0.845361</td>\n",
       "    </tr>\n",
       "    <tr>\n",
       "      <th>train_f1</th>\n",
       "      <td>0.968675</td>\n",
       "    </tr>\n",
       "    <tr>\n",
       "      <th>test_roc_auc</th>\n",
       "      <td>0.985050</td>\n",
       "    </tr>\n",
       "    <tr>\n",
       "      <th>train_roc_auc</th>\n",
       "      <td>0.999868</td>\n",
       "    </tr>\n",
       "  </tbody>\n",
       "</table>\n",
       "</div>"
      ],
      "text/plain": [
       "                       0\n",
       "fit_time        0.254583\n",
       "score_time      0.033232\n",
       "test_recall     0.773585\n",
       "train_recall    0.961722\n",
       "test_accuracy   0.982100\n",
       "train_accuracy  0.996118\n",
       "test_f1         0.845361\n",
       "train_f1        0.968675\n",
       "test_roc_auc    0.985050\n",
       "train_roc_auc   0.999868"
      ]
     },
     "execution_count": 9,
     "metadata": {},
     "output_type": "execute_result"
    }
   ],
   "source": [
    "av_df1 = CrossValidation(AdaModel_PCA,morgan_proj_features,labels)\n",
    "av_df1"
   ]
  },
  {
   "cell_type": "markdown",
   "metadata": {
    "heading_collapsed": true,
    "hidden": true
   },
   "source": [
    "### Ada Boost [WITHOUT] PCA"
   ]
  },
  {
   "cell_type": "code",
   "execution_count": 10,
   "metadata": {
    "ExecuteTime": {
     "end_time": "2020-06-09T21:09:06.638208Z",
     "start_time": "2020-06-09T21:08:50.494349Z"
    },
    "hidden": true
   },
   "outputs": [],
   "source": [
    "#########################################################################\n",
    "#\n",
    "# Ada Boost [WITHOUT] PCA\n",
    "#\n",
    "#########################################################################\n",
    "# Train Logistic Regression model using PC transformed Morgan features\n",
    "AdaModel_ = AdaBoostClassifier(n_estimators = 100, learning_rate = 1)\n",
    "Ada = AdaModel_.fit(morgan_train,label_train)\n",
    "pred2 = Ada.predict(morgan_test)"
   ]
  },
  {
   "cell_type": "markdown",
   "metadata": {
    "hidden": true
   },
   "source": [
    "#### Scores"
   ]
  },
  {
   "cell_type": "code",
   "execution_count": 11,
   "metadata": {
    "ExecuteTime": {
     "end_time": "2020-06-09T21:09:06.668094Z",
     "start_time": "2020-06-09T21:09:06.641247Z"
    },
    "hidden": true
   },
   "outputs": [
    {
     "name": "stdout",
     "output_type": "stream",
     "text": [
      "\u001b[1mConfusion Matrix\u001b[0m\n",
      "[[1182    2]\n",
      " [  11   62]]\n",
      "\u001b[1m\n",
      "Recall\u001b[0m\n",
      "0.8493150684931506\n",
      "\u001b[1m\n",
      "Accuracy\u001b[0m\n",
      "0.9896579156722355\n",
      "\u001b[1m\n",
      "F1 Score\u001b[0m\n",
      "0.9051094890510949\n",
      "\u001b[1m\n",
      "ROC AUC Score\u001b[0m\n",
      "0.9238129396519807\n"
     ]
    }
   ],
   "source": [
    "Scores2 = Output(pred2,label_test)\n",
    "Scores2"
   ]
  },
  {
   "cell_type": "markdown",
   "metadata": {
    "hidden": true
   },
   "source": [
    "#### Cross Validation"
   ]
  },
  {
   "cell_type": "code",
   "execution_count": 12,
   "metadata": {
    "ExecuteTime": {
     "end_time": "2020-06-09T21:11:09.282160Z",
     "start_time": "2020-06-09T21:09:06.675235Z"
    },
    "hidden": true
   },
   "outputs": [
    {
     "data": {
      "text/html": [
       "<div>\n",
       "<style scoped>\n",
       "    .dataframe tbody tr th:only-of-type {\n",
       "        vertical-align: middle;\n",
       "    }\n",
       "\n",
       "    .dataframe tbody tr th {\n",
       "        vertical-align: top;\n",
       "    }\n",
       "\n",
       "    .dataframe thead th {\n",
       "        text-align: right;\n",
       "    }\n",
       "</style>\n",
       "<table border=\"1\" class=\"dataframe\">\n",
       "  <thead>\n",
       "    <tr style=\"text-align: right;\">\n",
       "      <th></th>\n",
       "      <th>0</th>\n",
       "    </tr>\n",
       "  </thead>\n",
       "  <tbody>\n",
       "    <tr>\n",
       "      <th>fit_time</th>\n",
       "      <td>5.684126</td>\n",
       "    </tr>\n",
       "    <tr>\n",
       "      <th>score_time</th>\n",
       "      <td>0.365156</td>\n",
       "    </tr>\n",
       "    <tr>\n",
       "      <th>test_recall</th>\n",
       "      <td>0.849057</td>\n",
       "    </tr>\n",
       "    <tr>\n",
       "      <th>train_recall</th>\n",
       "      <td>0.995215</td>\n",
       "    </tr>\n",
       "    <tr>\n",
       "      <th>test_accuracy</th>\n",
       "      <td>0.988067</td>\n",
       "    </tr>\n",
       "    <tr>\n",
       "      <th>train_accuracy</th>\n",
       "      <td>0.999403</td>\n",
       "    </tr>\n",
       "    <tr>\n",
       "      <th>test_f1</th>\n",
       "      <td>0.900000</td>\n",
       "    </tr>\n",
       "    <tr>\n",
       "      <th>train_f1</th>\n",
       "      <td>0.995215</td>\n",
       "    </tr>\n",
       "    <tr>\n",
       "      <th>test_roc_auc</th>\n",
       "      <td>0.990650</td>\n",
       "    </tr>\n",
       "    <tr>\n",
       "      <th>train_roc_auc</th>\n",
       "      <td>0.999989</td>\n",
       "    </tr>\n",
       "  </tbody>\n",
       "</table>\n",
       "</div>"
      ],
      "text/plain": [
       "                       0\n",
       "fit_time        5.684126\n",
       "score_time      0.365156\n",
       "test_recall     0.849057\n",
       "train_recall    0.995215\n",
       "test_accuracy   0.988067\n",
       "train_accuracy  0.999403\n",
       "test_f1         0.900000\n",
       "train_f1        0.995215\n",
       "test_roc_auc    0.990650\n",
       "train_roc_auc   0.999989"
      ]
     },
     "execution_count": 12,
     "metadata": {},
     "output_type": "execute_result"
    }
   ],
   "source": [
    "av_df2 = CrossValidation(AdaModel_,morgan_features,labels)\n",
    "av_df2"
   ]
  },
  {
   "cell_type": "markdown",
   "metadata": {
    "heading_collapsed": true,
    "hidden": true
   },
   "source": [
    "### Ada Boost with PCA using Logistic regression"
   ]
  },
  {
   "cell_type": "code",
   "execution_count": 13,
   "metadata": {
    "ExecuteTime": {
     "end_time": "2020-06-08T22:17:53.449973Z",
     "start_time": "2020-06-08T22:17:52.334954Z"
    },
    "hidden": true
   },
   "outputs": [],
   "source": [
    "#########################################################################\n",
    "#\n",
    "# Ada Boost with PCA using Logistic regression\n",
    "#\n",
    "#########################################################################\n",
    "# Train Ada Boost model using PC transformed Morgan features\n",
    "\n",
    "# n_estimators -> number of weak learners to train iteratively\n",
    "# learning_rate -> It contributes to the weight of weak learners. It uses 1 as a default value\n",
    "from sklearn.linear_model import LogisticRegression \n",
    "\n",
    "mylogregmodel = LogisticRegression()\n",
    "\n",
    "AdaModel_LR_PCA = AdaBoostClassifier(n_estimators = 100,base_estimator = mylogregmodel, learning_rate = 1)\n",
    "Ada = AdaModel_LR_PCA.fit(morgan_proj_train,label_train)\n",
    "pred3 = Ada.predict(morgan_proj_test)"
   ]
  },
  {
   "cell_type": "markdown",
   "metadata": {
    "hidden": true
   },
   "source": [
    "#### Scores"
   ]
  },
  {
   "cell_type": "code",
   "execution_count": 14,
   "metadata": {
    "ExecuteTime": {
     "end_time": "2020-06-08T22:17:53.487870Z",
     "start_time": "2020-06-08T22:17:53.452967Z"
    },
    "hidden": true
   },
   "outputs": [
    {
     "name": "stdout",
     "output_type": "stream",
     "text": [
      "\u001b[1mConfusion Matrix\u001b[0m\n",
      "[[1175    9]\n",
      " [  10   63]]\n",
      "\u001b[1m\n",
      "Recall\u001b[0m\n",
      "0.863013698630137\n",
      "\u001b[1m\n",
      "Accuracy\u001b[0m\n",
      "0.984884645982498\n",
      "\u001b[1m\n",
      "F1 Score\u001b[0m\n",
      "0.8689655172413793\n",
      "\u001b[1m\n",
      "ROC AUC Score\u001b[0m\n",
      "0.9277061736393928\n"
     ]
    }
   ],
   "source": [
    "Scores3 = Output(pred3,label_test)\n",
    "Scores3"
   ]
  },
  {
   "cell_type": "markdown",
   "metadata": {
    "hidden": true
   },
   "source": [
    "#### Cross Validation"
   ]
  },
  {
   "cell_type": "code",
   "execution_count": 15,
   "metadata": {
    "hidden": true
   },
   "outputs": [
    {
     "data": {
      "text/html": [
       "<div>\n",
       "<style scoped>\n",
       "    .dataframe tbody tr th:only-of-type {\n",
       "        vertical-align: middle;\n",
       "    }\n",
       "\n",
       "    .dataframe tbody tr th {\n",
       "        vertical-align: top;\n",
       "    }\n",
       "\n",
       "    .dataframe thead th {\n",
       "        text-align: right;\n",
       "    }\n",
       "</style>\n",
       "<table border=\"1\" class=\"dataframe\">\n",
       "  <thead>\n",
       "    <tr style=\"text-align: right;\">\n",
       "      <th></th>\n",
       "      <th>0</th>\n",
       "    </tr>\n",
       "  </thead>\n",
       "  <tbody>\n",
       "    <tr>\n",
       "      <th>fit_time</th>\n",
       "      <td>0.425511</td>\n",
       "    </tr>\n",
       "    <tr>\n",
       "      <th>score_time</th>\n",
       "      <td>0.032931</td>\n",
       "    </tr>\n",
       "    <tr>\n",
       "      <th>test_recall</th>\n",
       "      <td>0.830189</td>\n",
       "    </tr>\n",
       "    <tr>\n",
       "      <th>train_recall</th>\n",
       "      <td>0.885167</td>\n",
       "    </tr>\n",
       "    <tr>\n",
       "      <th>test_accuracy</th>\n",
       "      <td>0.980907</td>\n",
       "    </tr>\n",
       "    <tr>\n",
       "      <th>train_accuracy</th>\n",
       "      <td>0.986563</td>\n",
       "    </tr>\n",
       "    <tr>\n",
       "      <th>test_f1</th>\n",
       "      <td>0.846154</td>\n",
       "    </tr>\n",
       "    <tr>\n",
       "      <th>train_f1</th>\n",
       "      <td>0.891566</td>\n",
       "    </tr>\n",
       "    <tr>\n",
       "      <th>test_roc_auc</th>\n",
       "      <td>0.985843</td>\n",
       "    </tr>\n",
       "    <tr>\n",
       "      <th>train_roc_auc</th>\n",
       "      <td>0.994269</td>\n",
       "    </tr>\n",
       "  </tbody>\n",
       "</table>\n",
       "</div>"
      ],
      "text/plain": [
       "                       0\n",
       "fit_time        0.425511\n",
       "score_time      0.032931\n",
       "test_recall     0.830189\n",
       "train_recall    0.885167\n",
       "test_accuracy   0.980907\n",
       "train_accuracy  0.986563\n",
       "test_f1         0.846154\n",
       "train_f1        0.891566\n",
       "test_roc_auc    0.985843\n",
       "train_roc_auc   0.994269"
      ]
     },
     "execution_count": 15,
     "metadata": {},
     "output_type": "execute_result"
    }
   ],
   "source": [
    "av_df3 = CrossValidation(AdaModel_LR_PCA,morgan_proj_features,labels)\n",
    "av_df3"
   ]
  },
  {
   "cell_type": "markdown",
   "metadata": {
    "heading_collapsed": true,
    "hidden": true
   },
   "source": [
    "### Ada Boost [WITHOUT] PCA using Logistic regression"
   ]
  },
  {
   "cell_type": "code",
   "execution_count": 16,
   "metadata": {
    "ExecuteTime": {
     "end_time": "2020-06-09T21:11:23.285304Z",
     "start_time": "2020-06-09T21:11:09.288077Z"
    },
    "hidden": true
   },
   "outputs": [],
   "source": [
    "#########################################################################\n",
    "#\n",
    "# Ada Boost without PCA using Logistic regression\n",
    "#\n",
    "#########################################################################\n",
    "# Train Ada Boost model using PC transformed Morgan features\n",
    "\n",
    "# n_estimators -> number of weak learners to train iteratively\n",
    "# learning_rate -> It contributes to the weight of weak learners. It uses 1 as a default value\n",
    "from sklearn.linear_model import LogisticRegression \n",
    "\n",
    "mylogregmodel = LogisticRegression()\n",
    "\n",
    "AdaModel_LR_ = AdaBoostClassifier(n_estimators = 100,base_estimator = mylogregmodel, learning_rate = 1)\n",
    "Ada = AdaModel_LR_.fit(morgan_train,label_train)\n",
    "pred4 = Ada.predict(morgan_test)"
   ]
  },
  {
   "cell_type": "markdown",
   "metadata": {
    "hidden": true
   },
   "source": [
    "#### Scores"
   ]
  },
  {
   "cell_type": "code",
   "execution_count": 17,
   "metadata": {
    "ExecuteTime": {
     "end_time": "2020-06-09T21:11:23.367954Z",
     "start_time": "2020-06-09T21:11:23.323325Z"
    },
    "hidden": true
   },
   "outputs": [
    {
     "name": "stdout",
     "output_type": "stream",
     "text": [
      "\u001b[1mConfusion Matrix\u001b[0m\n",
      "[[1180    4]\n",
      " [   8   65]]\n",
      "\u001b[1m\n",
      "Recall\u001b[0m\n",
      "0.8904109589041096\n",
      "\u001b[1m\n",
      "Accuracy\u001b[0m\n",
      "0.9904534606205251\n",
      "\u001b[1m\n",
      "F1 Score\u001b[0m\n",
      "0.9154929577464788\n",
      "\u001b[1m\n",
      "ROC AUC Score\u001b[0m\n",
      "0.9435162902628655\n"
     ]
    }
   ],
   "source": [
    "Scores4 = Output(pred4,label_test)\n",
    "Scores4"
   ]
  },
  {
   "cell_type": "markdown",
   "metadata": {
    "hidden": true
   },
   "source": [
    "#### Cross Validation"
   ]
  },
  {
   "cell_type": "code",
   "execution_count": 18,
   "metadata": {
    "ExecuteTime": {
     "end_time": "2020-06-09T21:25:39.858613Z",
     "start_time": "2020-06-09T21:24:06.599885Z"
    },
    "hidden": true
   },
   "outputs": [
    {
     "data": {
      "text/html": [
       "<div>\n",
       "<style scoped>\n",
       "    .dataframe tbody tr th:only-of-type {\n",
       "        vertical-align: middle;\n",
       "    }\n",
       "\n",
       "    .dataframe tbody tr th {\n",
       "        vertical-align: top;\n",
       "    }\n",
       "\n",
       "    .dataframe thead th {\n",
       "        text-align: right;\n",
       "    }\n",
       "</style>\n",
       "<table border=\"1\" class=\"dataframe\">\n",
       "  <thead>\n",
       "    <tr style=\"text-align: right;\">\n",
       "      <th></th>\n",
       "      <th>0</th>\n",
       "    </tr>\n",
       "  </thead>\n",
       "  <tbody>\n",
       "    <tr>\n",
       "      <th>fit_time</th>\n",
       "      <td>4.586882</td>\n",
       "    </tr>\n",
       "    <tr>\n",
       "      <th>score_time</th>\n",
       "      <td>0.192853</td>\n",
       "    </tr>\n",
       "    <tr>\n",
       "      <th>test_recall</th>\n",
       "      <td>0.830189</td>\n",
       "    </tr>\n",
       "    <tr>\n",
       "      <th>train_recall</th>\n",
       "      <td>0.995215</td>\n",
       "    </tr>\n",
       "    <tr>\n",
       "      <th>test_accuracy</th>\n",
       "      <td>0.988067</td>\n",
       "    </tr>\n",
       "    <tr>\n",
       "      <th>train_accuracy</th>\n",
       "      <td>0.999403</td>\n",
       "    </tr>\n",
       "    <tr>\n",
       "      <th>test_f1</th>\n",
       "      <td>0.897959</td>\n",
       "    </tr>\n",
       "    <tr>\n",
       "      <th>train_f1</th>\n",
       "      <td>0.995215</td>\n",
       "    </tr>\n",
       "    <tr>\n",
       "      <th>test_roc_auc</th>\n",
       "      <td>0.995674</td>\n",
       "    </tr>\n",
       "    <tr>\n",
       "      <th>train_roc_auc</th>\n",
       "      <td>0.999988</td>\n",
       "    </tr>\n",
       "  </tbody>\n",
       "</table>\n",
       "</div>"
      ],
      "text/plain": [
       "                       0\n",
       "fit_time        4.586882\n",
       "score_time      0.192853\n",
       "test_recall     0.830189\n",
       "train_recall    0.995215\n",
       "test_accuracy   0.988067\n",
       "train_accuracy  0.999403\n",
       "test_f1         0.897959\n",
       "train_f1        0.995215\n",
       "test_roc_auc    0.995674\n",
       "train_roc_auc   0.999988"
      ]
     },
     "execution_count": 18,
     "metadata": {},
     "output_type": "execute_result"
    }
   ],
   "source": [
    "av_df4 = CrossValidation(AdaModel_LR_,morgan_features,labels)\n",
    "av_df4"
   ]
  },
  {
   "cell_type": "markdown",
   "metadata": {
    "heading_collapsed": true,
    "hidden": true
   },
   "source": [
    "### Ada Boost with PCA using Random Forests"
   ]
  },
  {
   "cell_type": "code",
   "execution_count": 19,
   "metadata": {
    "ExecuteTime": {
     "end_time": "2020-06-08T22:18:05.676032Z",
     "start_time": "2020-06-08T22:18:04.945329Z"
    },
    "hidden": true
   },
   "outputs": [],
   "source": [
    "#########################################################################\n",
    "#\n",
    "# Ada Boost with PCA using Random Forests\n",
    "#\n",
    "#########################################################################\n",
    "# Train Ada Boost model using PC transformed Morgan features\n",
    "\n",
    "# n_estimators -> number of weak learners to train iteratively\n",
    "# learning_rate -> It contributes to the weight of weak learners. It uses 1 as a default value\n",
    "from sklearn.ensemble import RandomForestClassifier\n",
    "\n",
    "rf = RandomForestClassifier(n_estimators = 100,criterion='gini',bootstrap = True, warm_start = False)\n",
    "\n",
    "AdaModel_RF_PCA = AdaBoostClassifier(n_estimators = 100,base_estimator = rf, learning_rate = 1)\n",
    "RF = AdaModel_RF_PCA.fit(morgan_proj_train,label_train)\n",
    "pred5 = RF.predict(morgan_proj_test)"
   ]
  },
  {
   "cell_type": "markdown",
   "metadata": {
    "heading_collapsed": true,
    "hidden": true
   },
   "source": [
    "#### Scores"
   ]
  },
  {
   "cell_type": "code",
   "execution_count": 20,
   "metadata": {
    "ExecuteTime": {
     "end_time": "2020-06-08T22:18:05.701932Z",
     "start_time": "2020-06-08T22:18:05.679021Z"
    },
    "hidden": true
   },
   "outputs": [
    {
     "name": "stdout",
     "output_type": "stream",
     "text": [
      "\u001b[1mConfusion Matrix\u001b[0m\n",
      "[[1179    5]\n",
      " [   7   66]]\n",
      "\u001b[1m\n",
      "Recall\u001b[0m\n",
      "0.9041095890410958\n",
      "\u001b[1m\n",
      "Accuracy\u001b[0m\n",
      "0.9904534606205251\n",
      "\u001b[1m\n",
      "F1 Score\u001b[0m\n",
      "0.9166666666666666\n",
      "\u001b[1m\n",
      "ROC AUC Score\u001b[0m\n",
      "0.9499433080340615\n"
     ]
    }
   ],
   "source": [
    "Scores5 = Output(pred5,label_test)\n",
    "Scores5"
   ]
  },
  {
   "cell_type": "markdown",
   "metadata": {
    "heading_collapsed": true,
    "hidden": true
   },
   "source": [
    "#### Cross Validation"
   ]
  },
  {
   "cell_type": "code",
   "execution_count": 21,
   "metadata": {
    "hidden": true
   },
   "outputs": [
    {
     "data": {
      "text/html": [
       "<div>\n",
       "<style scoped>\n",
       "    .dataframe tbody tr th:only-of-type {\n",
       "        vertical-align: middle;\n",
       "    }\n",
       "\n",
       "    .dataframe tbody tr th {\n",
       "        vertical-align: top;\n",
       "    }\n",
       "\n",
       "    .dataframe thead th {\n",
       "        text-align: right;\n",
       "    }\n",
       "</style>\n",
       "<table border=\"1\" class=\"dataframe\">\n",
       "  <thead>\n",
       "    <tr style=\"text-align: right;\">\n",
       "      <th></th>\n",
       "      <th>0</th>\n",
       "    </tr>\n",
       "  </thead>\n",
       "  <tbody>\n",
       "    <tr>\n",
       "      <th>fit_time</th>\n",
       "      <td>0.336995</td>\n",
       "    </tr>\n",
       "    <tr>\n",
       "      <th>score_time</th>\n",
       "      <td>0.033284</td>\n",
       "    </tr>\n",
       "    <tr>\n",
       "      <th>test_recall</th>\n",
       "      <td>0.811321</td>\n",
       "    </tr>\n",
       "    <tr>\n",
       "      <th>train_recall</th>\n",
       "      <td>1.000000</td>\n",
       "    </tr>\n",
       "    <tr>\n",
       "      <th>test_accuracy</th>\n",
       "      <td>0.986874</td>\n",
       "    </tr>\n",
       "    <tr>\n",
       "      <th>train_accuracy</th>\n",
       "      <td>1.000000</td>\n",
       "    </tr>\n",
       "    <tr>\n",
       "      <th>test_f1</th>\n",
       "      <td>0.886598</td>\n",
       "    </tr>\n",
       "    <tr>\n",
       "      <th>train_f1</th>\n",
       "      <td>1.000000</td>\n",
       "    </tr>\n",
       "    <tr>\n",
       "      <th>test_roc_auc</th>\n",
       "      <td>0.974150</td>\n",
       "    </tr>\n",
       "    <tr>\n",
       "      <th>train_roc_auc</th>\n",
       "      <td>1.000000</td>\n",
       "    </tr>\n",
       "  </tbody>\n",
       "</table>\n",
       "</div>"
      ],
      "text/plain": [
       "                       0\n",
       "fit_time        0.336995\n",
       "score_time      0.033284\n",
       "test_recall     0.811321\n",
       "train_recall    1.000000\n",
       "test_accuracy   0.986874\n",
       "train_accuracy  1.000000\n",
       "test_f1         0.886598\n",
       "train_f1        1.000000\n",
       "test_roc_auc    0.974150\n",
       "train_roc_auc   1.000000"
      ]
     },
     "execution_count": 21,
     "metadata": {},
     "output_type": "execute_result"
    }
   ],
   "source": [
    "av_df5 = CrossValidation(AdaModel_RF_PCA,morgan_proj_features,labels)\n",
    "av_df5"
   ]
  },
  {
   "cell_type": "markdown",
   "metadata": {
    "heading_collapsed": true,
    "hidden": true
   },
   "source": [
    "### Ada Boost [WITHOUT] PCA using Random Forests"
   ]
  },
  {
   "cell_type": "code",
   "execution_count": 22,
   "metadata": {
    "ExecuteTime": {
     "end_time": "2020-06-09T22:28:30.217226Z",
     "start_time": "2020-06-09T22:28:27.977951Z"
    },
    "hidden": true
   },
   "outputs": [],
   "source": [
    "#########################################################################\n",
    "#\n",
    "# Ada Boost with PCA using Random Forests\n",
    "#\n",
    "#########################################################################\n",
    "# Train Ada Boost model using PC transformed Morgan features\n",
    "\n",
    "# n_estimators -> number of weak learners to train iteratively\n",
    "# learning_rate -> It contributes to the weight of weak learners. It uses 1 as a default value\n",
    "from sklearn.ensemble import RandomForestClassifier\n",
    "\n",
    "rf = RandomForestClassifier(n_estimators = 100,criterion='gini',bootstrap = True, warm_start = False)\n",
    "\n",
    "AdaModel_RF_ = AdaBoostClassifier(n_estimators = 100,base_estimator = rf, learning_rate = 1)\n",
    "RF = AdaModel_RF_.fit(morgan_train,label_train)\n",
    "pred6 = RF.predict(morgan_test)"
   ]
  },
  {
   "cell_type": "markdown",
   "metadata": {
    "heading_collapsed": true,
    "hidden": true
   },
   "source": [
    "#### Scores"
   ]
  },
  {
   "cell_type": "code",
   "execution_count": 23,
   "metadata": {
    "ExecuteTime": {
     "end_time": "2020-06-09T22:28:39.314877Z",
     "start_time": "2020-06-09T22:28:39.282408Z"
    },
    "hidden": true
   },
   "outputs": [
    {
     "name": "stdout",
     "output_type": "stream",
     "text": [
      "\u001b[1mConfusion Matrix\u001b[0m\n",
      "[[1180    4]\n",
      " [  10   63]]\n",
      "\u001b[1m\n",
      "Recall\u001b[0m\n",
      "0.863013698630137\n",
      "\u001b[1m\n",
      "Accuracy\u001b[0m\n",
      "0.9888623707239459\n",
      "\u001b[1m\n",
      "F1 Score\u001b[0m\n",
      "0.9\n",
      "\u001b[1m\n",
      "ROC AUC Score\u001b[0m\n",
      "0.9298176601258792\n"
     ]
    }
   ],
   "source": [
    "Scores6 = Output(pred6,label_test)\n",
    "Scores6"
   ]
  },
  {
   "cell_type": "markdown",
   "metadata": {
    "heading_collapsed": true,
    "hidden": true
   },
   "source": [
    "#### Cross Validation"
   ]
  },
  {
   "cell_type": "code",
   "execution_count": 24,
   "metadata": {
    "ExecuteTime": {
     "end_time": "2020-06-09T21:27:51.640810Z",
     "start_time": "2020-06-09T21:26:05.061142Z"
    },
    "hidden": true
   },
   "outputs": [
    {
     "data": {
      "text/html": [
       "<div>\n",
       "<style scoped>\n",
       "    .dataframe tbody tr th:only-of-type {\n",
       "        vertical-align: middle;\n",
       "    }\n",
       "\n",
       "    .dataframe tbody tr th {\n",
       "        vertical-align: top;\n",
       "    }\n",
       "\n",
       "    .dataframe thead th {\n",
       "        text-align: right;\n",
       "    }\n",
       "</style>\n",
       "<table border=\"1\" class=\"dataframe\">\n",
       "  <thead>\n",
       "    <tr style=\"text-align: right;\">\n",
       "      <th></th>\n",
       "      <th>0</th>\n",
       "    </tr>\n",
       "  </thead>\n",
       "  <tbody>\n",
       "    <tr>\n",
       "      <th>fit_time</th>\n",
       "      <td>0.661244</td>\n",
       "    </tr>\n",
       "    <tr>\n",
       "      <th>score_time</th>\n",
       "      <td>0.043801</td>\n",
       "    </tr>\n",
       "    <tr>\n",
       "      <th>test_recall</th>\n",
       "      <td>0.849057</td>\n",
       "    </tr>\n",
       "    <tr>\n",
       "      <th>train_recall</th>\n",
       "      <td>1.000000</td>\n",
       "    </tr>\n",
       "    <tr>\n",
       "      <th>test_accuracy</th>\n",
       "      <td>0.988067</td>\n",
       "    </tr>\n",
       "    <tr>\n",
       "      <th>train_accuracy</th>\n",
       "      <td>1.000000</td>\n",
       "    </tr>\n",
       "    <tr>\n",
       "      <th>test_f1</th>\n",
       "      <td>0.900000</td>\n",
       "    </tr>\n",
       "    <tr>\n",
       "      <th>train_f1</th>\n",
       "      <td>1.000000</td>\n",
       "    </tr>\n",
       "    <tr>\n",
       "      <th>test_roc_auc</th>\n",
       "      <td>0.976337</td>\n",
       "    </tr>\n",
       "    <tr>\n",
       "      <th>train_roc_auc</th>\n",
       "      <td>1.000000</td>\n",
       "    </tr>\n",
       "  </tbody>\n",
       "</table>\n",
       "</div>"
      ],
      "text/plain": [
       "                       0\n",
       "fit_time        0.661244\n",
       "score_time      0.043801\n",
       "test_recall     0.849057\n",
       "train_recall    1.000000\n",
       "test_accuracy   0.988067\n",
       "train_accuracy  1.000000\n",
       "test_f1         0.900000\n",
       "train_f1        1.000000\n",
       "test_roc_auc    0.976337\n",
       "train_roc_auc   1.000000"
      ]
     },
     "execution_count": 24,
     "metadata": {},
     "output_type": "execute_result"
    }
   ],
   "source": [
    "av_df6 = CrossValidation(AdaModel_RF_,morgan_features,labels)\n",
    "av_df6"
   ]
  },
  {
   "cell_type": "markdown",
   "metadata": {
    "heading_collapsed": true
   },
   "source": [
    "## Using MACCS Features"
   ]
  },
  {
   "cell_type": "code",
   "execution_count": 25,
   "metadata": {
    "ExecuteTime": {
     "end_time": "2020-06-08T19:56:15.091931Z",
     "start_time": "2020-06-08T19:55:58.664464Z"
    },
    "hidden": true
   },
   "outputs": [],
   "source": [
    "# load different molecular features separately\n",
    "##############################################\n",
    "#rdk_features    = gen_fprints(mols)\n",
    "maccs_features  = gen_MACCS(mols)\n",
    "#morgan_features = gen_morgan_prints(mols,radius=18)"
   ]
  },
  {
   "cell_type": "code",
   "execution_count": 26,
   "metadata": {
    "ExecuteTime": {
     "end_time": "2020-06-08T19:56:15.105802Z",
     "start_time": "2020-06-08T19:56:15.094828Z"
    },
    "hidden": true
   },
   "outputs": [],
   "source": [
    "# Split data for [training] and [testing]\n",
    "maccs_train, maccs_test, label_train, label_test = train_test_split(maccs_features, labels, \\\n",
    "                                                                test_size=0.3, shuffle=True)"
   ]
  },
  {
   "cell_type": "code",
   "execution_count": 27,
   "metadata": {
    "ExecuteTime": {
     "end_time": "2020-06-09T22:04:50.462537Z",
     "start_time": "2020-06-09T22:04:49.939060Z"
    },
    "hidden": true
   },
   "outputs": [],
   "source": [
    "######################\n",
    "# Principal Components\n",
    "######################\n",
    "\n",
    "# Determine principal components using [training data] and apply the transformation to the [test data]\n",
    "PC_maccs_proj = PCA(n_components=5)\n",
    "maccs_proj_train = PC_maccs_proj.fit_transform(maccs_train)\n",
    "maccs_proj_test = PC_maccs_proj.transform(maccs_test)\n",
    "maccs_proj_features = PC_maccs_proj.fit_transform(maccs_features)"
   ]
  },
  {
   "cell_type": "markdown",
   "metadata": {
    "heading_collapsed": true,
    "hidden": true
   },
   "source": [
    "### Ada Boost with PCA"
   ]
  },
  {
   "cell_type": "code",
   "execution_count": 28,
   "metadata": {
    "ExecuteTime": {
     "end_time": "2020-06-08T19:56:16.197959Z",
     "start_time": "2020-06-08T19:56:15.169631Z"
    },
    "hidden": true
   },
   "outputs": [],
   "source": [
    "#########################################################################\n",
    "#\n",
    "# Ada Boost with PCA\n",
    "#\n",
    "#########################################################################\n",
    "# Train Ada Boost model using PC transformed Morgan features\n",
    "\n",
    "# n_estimators -> number of weak learners to train iteratively\n",
    "# learning_rate -> It contributes to the weight of weak learners. It uses 1 as a default value\n",
    "AdaModel_PCA = AdaBoostClassifier(n_estimators = 100, learning_rate = 1)\n",
    "Ada = AdaModel_PCA.fit(maccs_proj_train,label_train)\n",
    "pred1 = Ada.predict(maccs_proj_test)"
   ]
  },
  {
   "cell_type": "markdown",
   "metadata": {
    "heading_collapsed": true,
    "hidden": true
   },
   "source": [
    "#### Scores"
   ]
  },
  {
   "cell_type": "code",
   "execution_count": 29,
   "metadata": {
    "ExecuteTime": {
     "end_time": "2020-06-08T19:56:16.258790Z",
     "start_time": "2020-06-08T19:56:16.201942Z"
    },
    "hidden": true,
    "run_control": {
     "marked": false
    }
   },
   "outputs": [
    {
     "name": "stdout",
     "output_type": "stream",
     "text": [
      "\u001b[1mConfusion Matrix\u001b[0m\n",
      "[[1170   13]\n",
      " [  14   60]]\n",
      "\u001b[1m\n",
      "Recall\u001b[0m\n",
      "0.8108108108108109\n",
      "\u001b[1m\n",
      "Accuracy\u001b[0m\n",
      "0.9785202863961814\n",
      "\u001b[1m\n",
      "F1 Score\u001b[0m\n",
      "0.8163265306122449\n",
      "\u001b[1m\n",
      "ROC AUC Score\u001b[0m\n",
      "0.8999108999109\n"
     ]
    }
   ],
   "source": [
    "Scores1 = Output(pred1,label_test)\n",
    "Scores1"
   ]
  },
  {
   "cell_type": "markdown",
   "metadata": {
    "heading_collapsed": true,
    "hidden": true
   },
   "source": [
    "#### Cross Validation"
   ]
  },
  {
   "cell_type": "code",
   "execution_count": 30,
   "metadata": {
    "hidden": true
   },
   "outputs": [
    {
     "data": {
      "text/html": [
       "<div>\n",
       "<style scoped>\n",
       "    .dataframe tbody tr th:only-of-type {\n",
       "        vertical-align: middle;\n",
       "    }\n",
       "\n",
       "    .dataframe tbody tr th {\n",
       "        vertical-align: top;\n",
       "    }\n",
       "\n",
       "    .dataframe thead th {\n",
       "        text-align: right;\n",
       "    }\n",
       "</style>\n",
       "<table border=\"1\" class=\"dataframe\">\n",
       "  <thead>\n",
       "    <tr style=\"text-align: right;\">\n",
       "      <th></th>\n",
       "      <th>0</th>\n",
       "    </tr>\n",
       "  </thead>\n",
       "  <tbody>\n",
       "    <tr>\n",
       "      <th>fit_time</th>\n",
       "      <td>0.270112</td>\n",
       "    </tr>\n",
       "    <tr>\n",
       "      <th>score_time</th>\n",
       "      <td>0.035535</td>\n",
       "    </tr>\n",
       "    <tr>\n",
       "      <th>test_recall</th>\n",
       "      <td>0.830189</td>\n",
       "    </tr>\n",
       "    <tr>\n",
       "      <th>train_recall</th>\n",
       "      <td>0.956938</td>\n",
       "    </tr>\n",
       "    <tr>\n",
       "      <th>test_accuracy</th>\n",
       "      <td>0.982100</td>\n",
       "    </tr>\n",
       "    <tr>\n",
       "      <th>train_accuracy</th>\n",
       "      <td>0.993431</td>\n",
       "    </tr>\n",
       "    <tr>\n",
       "      <th>test_f1</th>\n",
       "      <td>0.854369</td>\n",
       "    </tr>\n",
       "    <tr>\n",
       "      <th>train_f1</th>\n",
       "      <td>0.947867</td>\n",
       "    </tr>\n",
       "    <tr>\n",
       "      <th>test_roc_auc</th>\n",
       "      <td>0.972203</td>\n",
       "    </tr>\n",
       "    <tr>\n",
       "      <th>train_roc_auc</th>\n",
       "      <td>0.999479</td>\n",
       "    </tr>\n",
       "  </tbody>\n",
       "</table>\n",
       "</div>"
      ],
      "text/plain": [
       "                       0\n",
       "fit_time        0.270112\n",
       "score_time      0.035535\n",
       "test_recall     0.830189\n",
       "train_recall    0.956938\n",
       "test_accuracy   0.982100\n",
       "train_accuracy  0.993431\n",
       "test_f1         0.854369\n",
       "train_f1        0.947867\n",
       "test_roc_auc    0.972203\n",
       "train_roc_auc   0.999479"
      ]
     },
     "execution_count": 30,
     "metadata": {},
     "output_type": "execute_result"
    }
   ],
   "source": [
    "av_df1 = CrossValidation(AdaModel_PCA,maccs_proj_features,labels)\n",
    "av_df1"
   ]
  },
  {
   "cell_type": "markdown",
   "metadata": {
    "heading_collapsed": true,
    "hidden": true
   },
   "source": [
    "### Ada Boost [WITHOUT] PCA"
   ]
  },
  {
   "cell_type": "code",
   "execution_count": 31,
   "metadata": {
    "ExecuteTime": {
     "end_time": "2020-06-08T19:56:18.702721Z",
     "start_time": "2020-06-08T19:56:16.272753Z"
    },
    "hidden": true
   },
   "outputs": [],
   "source": [
    "### Ada Boost [WITHOUT] PCA\n",
    "\n",
    "#########################################################################\n",
    "#\n",
    "# Ada Boost [WITHOUT] PCA\n",
    "#\n",
    "#########################################################################\n",
    "# Train Logistic Regression model using PC transformed Morgan features\n",
    "AdaModel_ = AdaBoostClassifier(n_estimators = 100, learning_rate = 1)\n",
    "Ada = AdaModel_.fit(maccs_train,label_train)\n",
    "pred2 = Ada.predict(maccs_test)"
   ]
  },
  {
   "cell_type": "markdown",
   "metadata": {
    "heading_collapsed": true,
    "hidden": true
   },
   "source": [
    "#### Scores"
   ]
  },
  {
   "cell_type": "code",
   "execution_count": 32,
   "metadata": {
    "ExecuteTime": {
     "end_time": "2020-06-08T19:56:18.745546Z",
     "start_time": "2020-06-08T19:56:18.708641Z"
    },
    "hidden": true
   },
   "outputs": [
    {
     "name": "stdout",
     "output_type": "stream",
     "text": [
      "\u001b[1mConfusion Matrix\u001b[0m\n",
      "[[1173   10]\n",
      " [   8   66]]\n",
      "\u001b[1m\n",
      "Recall\u001b[0m\n",
      "0.8918918918918919\n",
      "\u001b[1m\n",
      "Accuracy\u001b[0m\n",
      "0.9856801909307876\n",
      "\u001b[1m\n",
      "F1 Score\u001b[0m\n",
      "0.88\n",
      "\u001b[1m\n",
      "ROC AUC Score\u001b[0m\n",
      "0.9417194032578649\n"
     ]
    }
   ],
   "source": [
    "Scores2 = Output(pred2,label_test)\n",
    "Scores2"
   ]
  },
  {
   "cell_type": "markdown",
   "metadata": {
    "heading_collapsed": true,
    "hidden": true
   },
   "source": [
    "#### Cross Validation"
   ]
  },
  {
   "cell_type": "code",
   "execution_count": 33,
   "metadata": {
    "hidden": true
   },
   "outputs": [
    {
     "data": {
      "text/html": [
       "<div>\n",
       "<style scoped>\n",
       "    .dataframe tbody tr th:only-of-type {\n",
       "        vertical-align: middle;\n",
       "    }\n",
       "\n",
       "    .dataframe tbody tr th {\n",
       "        vertical-align: top;\n",
       "    }\n",
       "\n",
       "    .dataframe thead th {\n",
       "        text-align: right;\n",
       "    }\n",
       "</style>\n",
       "<table border=\"1\" class=\"dataframe\">\n",
       "  <thead>\n",
       "    <tr style=\"text-align: right;\">\n",
       "      <th></th>\n",
       "      <th>0</th>\n",
       "    </tr>\n",
       "  </thead>\n",
       "  <tbody>\n",
       "    <tr>\n",
       "      <th>fit_time</th>\n",
       "      <td>0.568489</td>\n",
       "    </tr>\n",
       "    <tr>\n",
       "      <th>score_time</th>\n",
       "      <td>0.057114</td>\n",
       "    </tr>\n",
       "    <tr>\n",
       "      <th>test_recall</th>\n",
       "      <td>0.886792</td>\n",
       "    </tr>\n",
       "    <tr>\n",
       "      <th>train_recall</th>\n",
       "      <td>0.980861</td>\n",
       "    </tr>\n",
       "    <tr>\n",
       "      <th>test_accuracy</th>\n",
       "      <td>0.988067</td>\n",
       "    </tr>\n",
       "    <tr>\n",
       "      <th>train_accuracy</th>\n",
       "      <td>0.997910</td>\n",
       "    </tr>\n",
       "    <tr>\n",
       "      <th>test_f1</th>\n",
       "      <td>0.903846</td>\n",
       "    </tr>\n",
       "    <tr>\n",
       "      <th>train_f1</th>\n",
       "      <td>0.983213</td>\n",
       "    </tr>\n",
       "    <tr>\n",
       "      <th>test_roc_auc</th>\n",
       "      <td>0.993438</td>\n",
       "    </tr>\n",
       "    <tr>\n",
       "      <th>train_roc_auc</th>\n",
       "      <td>0.999930</td>\n",
       "    </tr>\n",
       "  </tbody>\n",
       "</table>\n",
       "</div>"
      ],
      "text/plain": [
       "                       0\n",
       "fit_time        0.568489\n",
       "score_time      0.057114\n",
       "test_recall     0.886792\n",
       "train_recall    0.980861\n",
       "test_accuracy   0.988067\n",
       "train_accuracy  0.997910\n",
       "test_f1         0.903846\n",
       "train_f1        0.983213\n",
       "test_roc_auc    0.993438\n",
       "train_roc_auc   0.999930"
      ]
     },
     "execution_count": 33,
     "metadata": {},
     "output_type": "execute_result"
    }
   ],
   "source": [
    "av_df2 = CrossValidation(AdaModel_,maccs_features,labels)\n",
    "av_df2"
   ]
  },
  {
   "cell_type": "markdown",
   "metadata": {
    "heading_collapsed": true,
    "hidden": true
   },
   "source": [
    "### Ada Boost with PCA using Logistic regression"
   ]
  },
  {
   "cell_type": "code",
   "execution_count": 34,
   "metadata": {
    "ExecuteTime": {
     "end_time": "2020-06-08T19:56:19.821199Z",
     "start_time": "2020-06-08T19:56:18.753521Z"
    },
    "hidden": true
   },
   "outputs": [],
   "source": [
    "#########################################################################\n",
    "#\n",
    "# Ada Boost with PCA using Logistic regression\n",
    "#\n",
    "#########################################################################\n",
    "# Train Ada Boost model using PC transformed Morgan features\n",
    "\n",
    "# n_estimators -> number of weak learners to train iteratively\n",
    "# learning_rate -> It contributes to the weight of weak learners. It uses 1 as a default value\n",
    "from sklearn.linear_model import LogisticRegression \n",
    "\n",
    "mylogregmodel = LogisticRegression()\n",
    "\n",
    "AdaModel_LR_PCA = AdaBoostClassifier(n_estimators = 100,base_estimator = mylogregmodel ,learning_rate = 1)\n",
    "Ada = AdaModel_LR_PCA.fit(maccs_proj_train,label_train)\n",
    "pred3 = Ada.predict(maccs_proj_test)"
   ]
  },
  {
   "cell_type": "markdown",
   "metadata": {
    "heading_collapsed": true,
    "hidden": true
   },
   "source": [
    "#### Scores"
   ]
  },
  {
   "cell_type": "code",
   "execution_count": 35,
   "metadata": {
    "ExecuteTime": {
     "end_time": "2020-06-08T19:56:19.859098Z",
     "start_time": "2020-06-08T19:56:19.824192Z"
    },
    "hidden": true
   },
   "outputs": [
    {
     "name": "stdout",
     "output_type": "stream",
     "text": [
      "\u001b[1mConfusion Matrix\u001b[0m\n",
      "[[1165   18]\n",
      " [  10   64]]\n",
      "\u001b[1m\n",
      "Recall\u001b[0m\n",
      "0.8648648648648649\n",
      "\u001b[1m\n",
      "Accuracy\u001b[0m\n",
      "0.9777247414478918\n",
      "\u001b[1m\n",
      "F1 Score\u001b[0m\n",
      "0.8205128205128206\n",
      "\u001b[1m\n",
      "ROC AUC Score\u001b[0m\n",
      "0.9248246555938864\n"
     ]
    }
   ],
   "source": [
    "Scores3 = Output(pred3,label_test)\n",
    "Scores3"
   ]
  },
  {
   "cell_type": "markdown",
   "metadata": {
    "heading_collapsed": true,
    "hidden": true
   },
   "source": [
    "#### Cross Validation"
   ]
  },
  {
   "cell_type": "code",
   "execution_count": 36,
   "metadata": {
    "hidden": true
   },
   "outputs": [
    {
     "data": {
      "text/html": [
       "<div>\n",
       "<style scoped>\n",
       "    .dataframe tbody tr th:only-of-type {\n",
       "        vertical-align: middle;\n",
       "    }\n",
       "\n",
       "    .dataframe tbody tr th {\n",
       "        vertical-align: top;\n",
       "    }\n",
       "\n",
       "    .dataframe thead th {\n",
       "        text-align: right;\n",
       "    }\n",
       "</style>\n",
       "<table border=\"1\" class=\"dataframe\">\n",
       "  <thead>\n",
       "    <tr style=\"text-align: right;\">\n",
       "      <th></th>\n",
       "      <th>0</th>\n",
       "    </tr>\n",
       "  </thead>\n",
       "  <tbody>\n",
       "    <tr>\n",
       "      <th>fit_time</th>\n",
       "      <td>0.343084</td>\n",
       "    </tr>\n",
       "    <tr>\n",
       "      <th>score_time</th>\n",
       "      <td>0.036466</td>\n",
       "    </tr>\n",
       "    <tr>\n",
       "      <th>test_recall</th>\n",
       "      <td>0.735849</td>\n",
       "    </tr>\n",
       "    <tr>\n",
       "      <th>train_recall</th>\n",
       "      <td>0.765550</td>\n",
       "    </tr>\n",
       "    <tr>\n",
       "      <th>test_accuracy</th>\n",
       "      <td>0.970167</td>\n",
       "    </tr>\n",
       "    <tr>\n",
       "      <th>train_accuracy</th>\n",
       "      <td>0.974619</td>\n",
       "    </tr>\n",
       "    <tr>\n",
       "      <th>test_f1</th>\n",
       "      <td>0.757282</td>\n",
       "    </tr>\n",
       "    <tr>\n",
       "      <th>train_f1</th>\n",
       "      <td>0.790123</td>\n",
       "    </tr>\n",
       "    <tr>\n",
       "      <th>test_roc_auc</th>\n",
       "      <td>0.981949</td>\n",
       "    </tr>\n",
       "    <tr>\n",
       "      <th>train_roc_auc</th>\n",
       "      <td>0.987459</td>\n",
       "    </tr>\n",
       "  </tbody>\n",
       "</table>\n",
       "</div>"
      ],
      "text/plain": [
       "                       0\n",
       "fit_time        0.343084\n",
       "score_time      0.036466\n",
       "test_recall     0.735849\n",
       "train_recall    0.765550\n",
       "test_accuracy   0.970167\n",
       "train_accuracy  0.974619\n",
       "test_f1         0.757282\n",
       "train_f1        0.790123\n",
       "test_roc_auc    0.981949\n",
       "train_roc_auc   0.987459"
      ]
     },
     "execution_count": 36,
     "metadata": {},
     "output_type": "execute_result"
    }
   ],
   "source": [
    "av_df3 = CrossValidation(AdaModel_LR_PCA,maccs_proj_features,labels)\n",
    "av_df3"
   ]
  },
  {
   "cell_type": "markdown",
   "metadata": {
    "heading_collapsed": true,
    "hidden": true
   },
   "source": [
    "### Ada Boost [WITHOUT] PCA using Logistic regression"
   ]
  },
  {
   "cell_type": "code",
   "execution_count": 37,
   "metadata": {
    "ExecuteTime": {
     "end_time": "2020-06-08T19:56:23.326939Z",
     "start_time": "2020-06-08T19:56:19.864086Z"
    },
    "hidden": true
   },
   "outputs": [],
   "source": [
    "#########################################################################\n",
    "#\n",
    "# Ada Boost with PCA using Logistic regression\n",
    "#\n",
    "#########################################################################\n",
    "# Train Ada Boost model using PC transformed Morgan features\n",
    "\n",
    "# n_estimators -> number of weak learners to train iteratively\n",
    "# learning_rate -> It contributes to the weight of weak learners. It uses 1 as a default value\n",
    "from sklearn.linear_model import LogisticRegression \n",
    "\n",
    "mylogregmodel = LogisticRegression()\n",
    "\n",
    "AdaModel_LR_ = AdaBoostClassifier(n_estimators = 100,base_estimator = mylogregmodel ,learning_rate = 1)\n",
    "Ada = AdaModel_LR_.fit(maccs_train,label_train)\n",
    "pred4 = Ada.predict(maccs_test)"
   ]
  },
  {
   "cell_type": "markdown",
   "metadata": {
    "heading_collapsed": true,
    "hidden": true
   },
   "source": [
    "#### Scores"
   ]
  },
  {
   "cell_type": "code",
   "execution_count": 38,
   "metadata": {
    "ExecuteTime": {
     "end_time": "2020-06-08T19:56:23.364837Z",
     "start_time": "2020-06-08T19:56:23.330928Z"
    },
    "hidden": true
   },
   "outputs": [
    {
     "name": "stdout",
     "output_type": "stream",
     "text": [
      "\u001b[1mConfusion Matrix\u001b[0m\n",
      "[[1171   12]\n",
      " [   2   72]]\n",
      "\u001b[1m\n",
      "Recall\u001b[0m\n",
      "0.972972972972973\n",
      "\u001b[1m\n",
      "Accuracy\u001b[0m\n",
      "0.9888623707239459\n",
      "\u001b[1m\n",
      "F1 Score\u001b[0m\n",
      "0.9113924050632912\n",
      "\u001b[1m\n",
      "ROC AUC Score\u001b[0m\n",
      "0.9814146352607892\n"
     ]
    }
   ],
   "source": [
    "Scores4 = Output(pred4,label_test)\n",
    "Scores4"
   ]
  },
  {
   "cell_type": "markdown",
   "metadata": {
    "heading_collapsed": true,
    "hidden": true
   },
   "source": [
    "#### Cross Validation\n"
   ]
  },
  {
   "cell_type": "code",
   "execution_count": 39,
   "metadata": {
    "hidden": true
   },
   "outputs": [
    {
     "data": {
      "text/html": [
       "<div>\n",
       "<style scoped>\n",
       "    .dataframe tbody tr th:only-of-type {\n",
       "        vertical-align: middle;\n",
       "    }\n",
       "\n",
       "    .dataframe tbody tr th {\n",
       "        vertical-align: top;\n",
       "    }\n",
       "\n",
       "    .dataframe thead th {\n",
       "        text-align: right;\n",
       "    }\n",
       "</style>\n",
       "<table border=\"1\" class=\"dataframe\">\n",
       "  <thead>\n",
       "    <tr style=\"text-align: right;\">\n",
       "      <th></th>\n",
       "      <th>0</th>\n",
       "    </tr>\n",
       "  </thead>\n",
       "  <tbody>\n",
       "    <tr>\n",
       "      <th>fit_time</th>\n",
       "      <td>1.061454</td>\n",
       "    </tr>\n",
       "    <tr>\n",
       "      <th>score_time</th>\n",
       "      <td>0.056118</td>\n",
       "    </tr>\n",
       "    <tr>\n",
       "      <th>test_recall</th>\n",
       "      <td>0.924528</td>\n",
       "    </tr>\n",
       "    <tr>\n",
       "      <th>train_recall</th>\n",
       "      <td>0.976077</td>\n",
       "    </tr>\n",
       "    <tr>\n",
       "      <th>test_accuracy</th>\n",
       "      <td>0.992840</td>\n",
       "    </tr>\n",
       "    <tr>\n",
       "      <th>train_accuracy</th>\n",
       "      <td>0.996417</td>\n",
       "    </tr>\n",
       "    <tr>\n",
       "      <th>test_f1</th>\n",
       "      <td>0.942308</td>\n",
       "    </tr>\n",
       "    <tr>\n",
       "      <th>train_f1</th>\n",
       "      <td>0.971429</td>\n",
       "    </tr>\n",
       "    <tr>\n",
       "      <th>test_roc_auc</th>\n",
       "      <td>0.993270</td>\n",
       "    </tr>\n",
       "    <tr>\n",
       "      <th>train_roc_auc</th>\n",
       "      <td>0.999855</td>\n",
       "    </tr>\n",
       "  </tbody>\n",
       "</table>\n",
       "</div>"
      ],
      "text/plain": [
       "                       0\n",
       "fit_time        1.061454\n",
       "score_time      0.056118\n",
       "test_recall     0.924528\n",
       "train_recall    0.976077\n",
       "test_accuracy   0.992840\n",
       "train_accuracy  0.996417\n",
       "test_f1         0.942308\n",
       "train_f1        0.971429\n",
       "test_roc_auc    0.993270\n",
       "train_roc_auc   0.999855"
      ]
     },
     "execution_count": 39,
     "metadata": {},
     "output_type": "execute_result"
    }
   ],
   "source": [
    "av_df4 = CrossValidation(AdaModel_LR_,maccs_features,labels)\n",
    "av_df4"
   ]
  },
  {
   "cell_type": "markdown",
   "metadata": {
    "heading_collapsed": true,
    "hidden": true
   },
   "source": [
    "### Ada Boost with PCA using Random Forests"
   ]
  },
  {
   "cell_type": "code",
   "execution_count": 40,
   "metadata": {
    "ExecuteTime": {
     "end_time": "2020-06-08T19:56:24.315446Z",
     "start_time": "2020-06-08T19:56:23.368827Z"
    },
    "hidden": true
   },
   "outputs": [],
   "source": [
    "#########################################################################\n",
    "#\n",
    "# Ada Boost with PCA using Logistic regression\n",
    "#\n",
    "#########################################################################\n",
    "# Train Ada Boost model using PC transformed Morgan features\n",
    "\n",
    "# n_estimators -> number of weak learners to train iteratively\n",
    "# learning_rate -> It contributes to the weight of weak learners. It uses 1 as a default value\n",
    "from sklearn.linear_model import LogisticRegression \n",
    "\n",
    "mylogregmodel = LogisticRegression()\n",
    "\n",
    "AdaModel_RF_PCA = AdaBoostClassifier(n_estimators = 100,base_estimator = mylogregmodel ,learning_rate = 1)\n",
    "Ada = AdaModel_RF_PCA.fit(maccs_proj_train,label_train)\n",
    "pred5 = Ada.predict(maccs_proj_test)"
   ]
  },
  {
   "cell_type": "markdown",
   "metadata": {
    "heading_collapsed": true,
    "hidden": true
   },
   "source": [
    "#### Scores"
   ]
  },
  {
   "cell_type": "code",
   "execution_count": 41,
   "metadata": {
    "ExecuteTime": {
     "end_time": "2020-06-08T19:56:24.348357Z",
     "start_time": "2020-06-08T19:56:24.318438Z"
    },
    "hidden": true,
    "run_control": {
     "marked": false
    }
   },
   "outputs": [
    {
     "name": "stdout",
     "output_type": "stream",
     "text": [
      "\u001b[1mConfusion Matrix\u001b[0m\n",
      "[[1165   18]\n",
      " [  10   64]]\n",
      "\u001b[1m\n",
      "Recall\u001b[0m\n",
      "0.8648648648648649\n",
      "\u001b[1m\n",
      "Accuracy\u001b[0m\n",
      "0.9777247414478918\n",
      "\u001b[1m\n",
      "F1 Score\u001b[0m\n",
      "0.8205128205128206\n",
      "\u001b[1m\n",
      "ROC AUC Score\u001b[0m\n",
      "0.9248246555938864\n"
     ]
    }
   ],
   "source": [
    "Scores5 = Output(pred5,label_test)\n",
    "Scores5"
   ]
  },
  {
   "cell_type": "markdown",
   "metadata": {
    "heading_collapsed": true,
    "hidden": true
   },
   "source": [
    "#### Cross Validation"
   ]
  },
  {
   "cell_type": "code",
   "execution_count": 42,
   "metadata": {
    "hidden": true
   },
   "outputs": [
    {
     "data": {
      "text/html": [
       "<div>\n",
       "<style scoped>\n",
       "    .dataframe tbody tr th:only-of-type {\n",
       "        vertical-align: middle;\n",
       "    }\n",
       "\n",
       "    .dataframe tbody tr th {\n",
       "        vertical-align: top;\n",
       "    }\n",
       "\n",
       "    .dataframe thead th {\n",
       "        text-align: right;\n",
       "    }\n",
       "</style>\n",
       "<table border=\"1\" class=\"dataframe\">\n",
       "  <thead>\n",
       "    <tr style=\"text-align: right;\">\n",
       "      <th></th>\n",
       "      <th>0</th>\n",
       "    </tr>\n",
       "  </thead>\n",
       "  <tbody>\n",
       "    <tr>\n",
       "      <th>fit_time</th>\n",
       "      <td>0.325749</td>\n",
       "    </tr>\n",
       "    <tr>\n",
       "      <th>score_time</th>\n",
       "      <td>0.035991</td>\n",
       "    </tr>\n",
       "    <tr>\n",
       "      <th>test_recall</th>\n",
       "      <td>0.735849</td>\n",
       "    </tr>\n",
       "    <tr>\n",
       "      <th>train_recall</th>\n",
       "      <td>0.765550</td>\n",
       "    </tr>\n",
       "    <tr>\n",
       "      <th>test_accuracy</th>\n",
       "      <td>0.970167</td>\n",
       "    </tr>\n",
       "    <tr>\n",
       "      <th>train_accuracy</th>\n",
       "      <td>0.974619</td>\n",
       "    </tr>\n",
       "    <tr>\n",
       "      <th>test_f1</th>\n",
       "      <td>0.757282</td>\n",
       "    </tr>\n",
       "    <tr>\n",
       "      <th>train_f1</th>\n",
       "      <td>0.790123</td>\n",
       "    </tr>\n",
       "    <tr>\n",
       "      <th>test_roc_auc</th>\n",
       "      <td>0.981949</td>\n",
       "    </tr>\n",
       "    <tr>\n",
       "      <th>train_roc_auc</th>\n",
       "      <td>0.987459</td>\n",
       "    </tr>\n",
       "  </tbody>\n",
       "</table>\n",
       "</div>"
      ],
      "text/plain": [
       "                       0\n",
       "fit_time        0.325749\n",
       "score_time      0.035991\n",
       "test_recall     0.735849\n",
       "train_recall    0.765550\n",
       "test_accuracy   0.970167\n",
       "train_accuracy  0.974619\n",
       "test_f1         0.757282\n",
       "train_f1        0.790123\n",
       "test_roc_auc    0.981949\n",
       "train_roc_auc   0.987459"
      ]
     },
     "execution_count": 42,
     "metadata": {},
     "output_type": "execute_result"
    }
   ],
   "source": [
    "av_df5 = CrossValidation(AdaModel_RF_PCA,maccs_proj_features,labels)\n",
    "av_df5"
   ]
  },
  {
   "cell_type": "markdown",
   "metadata": {
    "heading_collapsed": true,
    "hidden": true
   },
   "source": [
    "### Ada Boost [WITHOUT] PCA using Random Forests"
   ]
  },
  {
   "cell_type": "code",
   "execution_count": 43,
   "metadata": {
    "ExecuteTime": {
     "end_time": "2020-06-08T19:56:27.576318Z",
     "start_time": "2020-06-08T19:56:24.352348Z"
    },
    "hidden": true
   },
   "outputs": [],
   "source": [
    "#########################################################################\n",
    "#\n",
    "# Ada Boost with PCA using Random Forests\n",
    "#\n",
    "#########################################################################\n",
    "# Train Ada Boost model using PC transformed Morgan features\n",
    "\n",
    "# n_estimators -> number of weak learners to train iteratively\n",
    "# learning_rate -> It contributes to the weight of weak learners. It uses 1 as a default value\n",
    "from sklearn.ensemble import RandomForestClassifier\n",
    "\n",
    "rf = RandomForestClassifier(n_estimators = 100,criterion='gini',bootstrap = True, warm_start = False)\n",
    "\n",
    "AdaModel_RF_ = AdaBoostClassifier(n_estimators = 100,base_estimator = rf ,learning_rate = 1)\n",
    "RF = AdaModel_RF_.fit(maccs_train,label_train)\n",
    "pred6 = RF.predict(maccs_test)"
   ]
  },
  {
   "cell_type": "markdown",
   "metadata": {
    "heading_collapsed": true,
    "hidden": true
   },
   "source": [
    "#### Scores"
   ]
  },
  {
   "cell_type": "code",
   "execution_count": 44,
   "metadata": {
    "ExecuteTime": {
     "end_time": "2020-06-08T19:56:27.619203Z",
     "start_time": "2020-06-08T19:56:27.580307Z"
    },
    "hidden": true
   },
   "outputs": [
    {
     "name": "stdout",
     "output_type": "stream",
     "text": [
      "\u001b[1mConfusion Matrix\u001b[0m\n",
      "[[1178    5]\n",
      " [   3   71]]\n",
      "\u001b[1m\n",
      "Recall\u001b[0m\n",
      "0.9594594594594594\n",
      "\u001b[1m\n",
      "Accuracy\u001b[0m\n",
      "0.9936356404136834\n",
      "\u001b[1m\n",
      "F1 Score\u001b[0m\n",
      "0.9466666666666667\n",
      "\u001b[1m\n",
      "ROC AUC Score\u001b[0m\n",
      "0.9776164583856891\n"
     ]
    }
   ],
   "source": [
    "Scores6 = Output(pred6,label_test)\n",
    "Scores6"
   ]
  },
  {
   "cell_type": "markdown",
   "metadata": {
    "heading_collapsed": true,
    "hidden": true
   },
   "source": [
    "#### Cross Validation"
   ]
  },
  {
   "cell_type": "code",
   "execution_count": 45,
   "metadata": {
    "hidden": true
   },
   "outputs": [
    {
     "data": {
      "text/html": [
       "<div>\n",
       "<style scoped>\n",
       "    .dataframe tbody tr th:only-of-type {\n",
       "        vertical-align: middle;\n",
       "    }\n",
       "\n",
       "    .dataframe tbody tr th {\n",
       "        vertical-align: top;\n",
       "    }\n",
       "\n",
       "    .dataframe thead th {\n",
       "        text-align: right;\n",
       "    }\n",
       "</style>\n",
       "<table border=\"1\" class=\"dataframe\">\n",
       "  <thead>\n",
       "    <tr style=\"text-align: right;\">\n",
       "      <th></th>\n",
       "      <th>0</th>\n",
       "    </tr>\n",
       "  </thead>\n",
       "  <tbody>\n",
       "    <tr>\n",
       "      <th>fit_time</th>\n",
       "      <td>0.230146</td>\n",
       "    </tr>\n",
       "    <tr>\n",
       "      <th>score_time</th>\n",
       "      <td>0.026292</td>\n",
       "    </tr>\n",
       "    <tr>\n",
       "      <th>test_recall</th>\n",
       "      <td>0.924528</td>\n",
       "    </tr>\n",
       "    <tr>\n",
       "      <th>train_recall</th>\n",
       "      <td>1.000000</td>\n",
       "    </tr>\n",
       "    <tr>\n",
       "      <th>test_accuracy</th>\n",
       "      <td>0.992840</td>\n",
       "    </tr>\n",
       "    <tr>\n",
       "      <th>train_accuracy</th>\n",
       "      <td>1.000000</td>\n",
       "    </tr>\n",
       "    <tr>\n",
       "      <th>test_f1</th>\n",
       "      <td>0.942308</td>\n",
       "    </tr>\n",
       "    <tr>\n",
       "      <th>train_f1</th>\n",
       "      <td>1.000000</td>\n",
       "    </tr>\n",
       "    <tr>\n",
       "      <th>test_roc_auc</th>\n",
       "      <td>0.985639</td>\n",
       "    </tr>\n",
       "    <tr>\n",
       "      <th>train_roc_auc</th>\n",
       "      <td>1.000000</td>\n",
       "    </tr>\n",
       "  </tbody>\n",
       "</table>\n",
       "</div>"
      ],
      "text/plain": [
       "                       0\n",
       "fit_time        0.230146\n",
       "score_time      0.026292\n",
       "test_recall     0.924528\n",
       "train_recall    1.000000\n",
       "test_accuracy   0.992840\n",
       "train_accuracy  1.000000\n",
       "test_f1         0.942308\n",
       "train_f1        1.000000\n",
       "test_roc_auc    0.985639\n",
       "train_roc_auc   1.000000"
      ]
     },
     "execution_count": 45,
     "metadata": {},
     "output_type": "execute_result"
    }
   ],
   "source": [
    "av_df6 = CrossValidation(AdaModel_RF_,maccs_features,labels)\n",
    "av_df6"
   ]
  },
  {
   "cell_type": "markdown",
   "metadata": {},
   "source": [
    "## Using RDKit Features"
   ]
  },
  {
   "cell_type": "code",
   "execution_count": 46,
   "metadata": {
    "ExecuteTime": {
     "end_time": "2020-06-08T19:57:01.014615Z",
     "start_time": "2020-06-08T19:56:27.625188Z"
    }
   },
   "outputs": [],
   "source": [
    "# load different molecular features separately\n",
    "##############################################\n",
    "rdk_features    = gen_fprints(mols)\n",
    "#maccs_features  = gen_MACCS(mols)\n",
    "#morgan_features = gen_morgan_prints(mols,radius=18)"
   ]
  },
  {
   "cell_type": "code",
   "execution_count": 47,
   "metadata": {
    "ExecuteTime": {
     "end_time": "2020-06-08T19:57:01.062486Z",
     "start_time": "2020-06-08T19:57:01.017606Z"
    }
   },
   "outputs": [],
   "source": [
    "# Split data for [training] and [testing]\n",
    "rdk_train, rdk_test, label_train, label_test = train_test_split(rdk_features, labels, \\\n",
    "                                                                test_size=0.3, shuffle=True)"
   ]
  },
  {
   "cell_type": "code",
   "execution_count": 48,
   "metadata": {
    "ExecuteTime": {
     "end_time": "2020-06-08T19:57:01.429550Z",
     "start_time": "2020-06-08T19:57:01.065475Z"
    }
   },
   "outputs": [],
   "source": [
    "######################\n",
    "# Principal Components\n",
    "######################\n",
    "\n",
    "# Determine principal components using [training data] and apply the transformation to the [test data]\n",
    "PC_rdk_proj = PCA(n_components = 5)\n",
    "rdk_proj_train = PC_rdk_proj.fit_transform(rdk_train)\n",
    "rdk_proj_test = PC_rdk_proj.transform(rdk_test)\n",
    "rdk_proj_features = PC_rdk_proj.fit_transform(rdk_features)"
   ]
  },
  {
   "cell_type": "markdown",
   "metadata": {
    "heading_collapsed": true
   },
   "source": [
    "### Ada Boost with PCA"
   ]
  },
  {
   "cell_type": "code",
   "execution_count": 49,
   "metadata": {
    "ExecuteTime": {
     "end_time": "2020-06-08T19:57:02.108754Z",
     "start_time": "2020-06-08T19:57:01.432541Z"
    },
    "hidden": true
   },
   "outputs": [],
   "source": [
    "#########################################################################\n",
    "#\n",
    "# Ada Boost with PCA\n",
    "#\n",
    "#########################################################################\n",
    "# Train Ada Boost model using PC transformed Morgan features\n",
    "\n",
    "# n_estimators -> number of weak learners to train iteratively\n",
    "# learning_rate -> It contributes to the weight of weak learners. It uses 1 as a default value\n",
    "AdaModel_PCA = AdaBoostClassifier(n_estimators = 100, learning_rate = 1)\n",
    "Ada = AdaModel_PCA.fit(rdk_proj_train,label_train)\n",
    "pred1 = Ada.predict(rdk_proj_test)"
   ]
  },
  {
   "cell_type": "markdown",
   "metadata": {
    "hidden": true
   },
   "source": [
    "#### Scores"
   ]
  },
  {
   "cell_type": "code",
   "execution_count": 50,
   "metadata": {
    "ExecuteTime": {
     "end_time": "2020-06-08T19:57:02.132654Z",
     "start_time": "2020-06-08T19:57:02.111680Z"
    },
    "hidden": true
   },
   "outputs": [
    {
     "name": "stdout",
     "output_type": "stream",
     "text": [
      "\u001b[1mConfusion Matrix\u001b[0m\n",
      "[[1162    9]\n",
      " [  40   46]]\n",
      "\u001b[1m\n",
      "Recall\u001b[0m\n",
      "0.5348837209302325\n",
      "\u001b[1m\n",
      "Accuracy\u001b[0m\n",
      "0.9610182975338106\n",
      "\u001b[1m\n",
      "F1 Score\u001b[0m\n",
      "0.652482269503546\n",
      "\u001b[1m\n",
      "ROC AUC Score\u001b[0m\n",
      "0.7635989911226739\n"
     ]
    }
   ],
   "source": [
    "Scores1 = Output(pred1,label_test)\n",
    "Scores1"
   ]
  },
  {
   "cell_type": "markdown",
   "metadata": {
    "hidden": true
   },
   "source": [
    "#### Cross Validation"
   ]
  },
  {
   "cell_type": "code",
   "execution_count": 51,
   "metadata": {
    "hidden": true
   },
   "outputs": [
    {
     "data": {
      "text/html": [
       "<div>\n",
       "<style scoped>\n",
       "    .dataframe tbody tr th:only-of-type {\n",
       "        vertical-align: middle;\n",
       "    }\n",
       "\n",
       "    .dataframe tbody tr th {\n",
       "        vertical-align: top;\n",
       "    }\n",
       "\n",
       "    .dataframe thead th {\n",
       "        text-align: right;\n",
       "    }\n",
       "</style>\n",
       "<table border=\"1\" class=\"dataframe\">\n",
       "  <thead>\n",
       "    <tr style=\"text-align: right;\">\n",
       "      <th></th>\n",
       "      <th>0</th>\n",
       "    </tr>\n",
       "  </thead>\n",
       "  <tbody>\n",
       "    <tr>\n",
       "      <th>fit_time</th>\n",
       "      <td>0.285064</td>\n",
       "    </tr>\n",
       "    <tr>\n",
       "      <th>score_time</th>\n",
       "      <td>0.035544</td>\n",
       "    </tr>\n",
       "    <tr>\n",
       "      <th>test_recall</th>\n",
       "      <td>0.509434</td>\n",
       "    </tr>\n",
       "    <tr>\n",
       "      <th>train_recall</th>\n",
       "      <td>0.712919</td>\n",
       "    </tr>\n",
       "    <tr>\n",
       "      <th>test_accuracy</th>\n",
       "      <td>0.953461</td>\n",
       "    </tr>\n",
       "    <tr>\n",
       "      <th>train_accuracy</th>\n",
       "      <td>0.975515</td>\n",
       "    </tr>\n",
       "    <tr>\n",
       "      <th>test_f1</th>\n",
       "      <td>0.580645</td>\n",
       "    </tr>\n",
       "    <tr>\n",
       "      <th>train_f1</th>\n",
       "      <td>0.784211</td>\n",
       "    </tr>\n",
       "    <tr>\n",
       "      <th>test_roc_auc</th>\n",
       "      <td>0.964319</td>\n",
       "    </tr>\n",
       "    <tr>\n",
       "      <th>train_roc_auc</th>\n",
       "      <td>0.992004</td>\n",
       "    </tr>\n",
       "  </tbody>\n",
       "</table>\n",
       "</div>"
      ],
      "text/plain": [
       "                       0\n",
       "fit_time        0.285064\n",
       "score_time      0.035544\n",
       "test_recall     0.509434\n",
       "train_recall    0.712919\n",
       "test_accuracy   0.953461\n",
       "train_accuracy  0.975515\n",
       "test_f1         0.580645\n",
       "train_f1        0.784211\n",
       "test_roc_auc    0.964319\n",
       "train_roc_auc   0.992004"
      ]
     },
     "execution_count": 51,
     "metadata": {},
     "output_type": "execute_result"
    }
   ],
   "source": [
    "av_df1 = CrossValidation(AdaModel_PCA,rdk_proj_features,labels)\n",
    "av_df1"
   ]
  },
  {
   "cell_type": "markdown",
   "metadata": {
    "heading_collapsed": true
   },
   "source": [
    "### Ada Boost [WITHOUT] PCA"
   ]
  },
  {
   "cell_type": "code",
   "execution_count": 52,
   "metadata": {
    "ExecuteTime": {
     "end_time": "2020-06-08T19:57:30.304796Z",
     "start_time": "2020-06-08T19:57:02.135616Z"
    },
    "hidden": true
   },
   "outputs": [],
   "source": [
    "#########################################################################\n",
    "#\n",
    "# Ada Boost [WITHOUT] PCA\n",
    "#\n",
    "#########################################################################\n",
    "# Train Logistic Regression model using PC transformed Morgan features\n",
    "AdaModel_ = AdaBoostClassifier(n_estimators = 100, learning_rate = 1)\n",
    "Ada = AdaModel_.fit(rdk_train,label_train)\n",
    "pred2 = Ada.predict(rdk_test)"
   ]
  },
  {
   "cell_type": "markdown",
   "metadata": {
    "hidden": true
   },
   "source": [
    "#### Scores"
   ]
  },
  {
   "cell_type": "code",
   "execution_count": 53,
   "metadata": {
    "ExecuteTime": {
     "end_time": "2020-06-08T19:57:30.346652Z",
     "start_time": "2020-06-08T19:57:30.308755Z"
    },
    "hidden": true
   },
   "outputs": [
    {
     "name": "stdout",
     "output_type": "stream",
     "text": [
      "\u001b[1mConfusion Matrix\u001b[0m\n",
      "[[1168    3]\n",
      " [   9   77]]\n",
      "\u001b[1m\n",
      "Recall\u001b[0m\n",
      "0.8953488372093024\n",
      "\u001b[1m\n",
      "Accuracy\u001b[0m\n",
      "0.9904534606205251\n",
      "\u001b[1m\n",
      "F1 Score\u001b[0m\n",
      "0.927710843373494\n",
      "\u001b[1m\n",
      "ROC AUC Score\u001b[0m\n",
      "0.9463934621571705\n"
     ]
    }
   ],
   "source": [
    "Scores2 = Output(pred2,label_test)\n",
    "Scores2"
   ]
  },
  {
   "cell_type": "markdown",
   "metadata": {
    "hidden": true
   },
   "source": [
    "#### Cross Validation"
   ]
  },
  {
   "cell_type": "code",
   "execution_count": 54,
   "metadata": {
    "hidden": true
   },
   "outputs": [
    {
     "data": {
      "text/html": [
       "<div>\n",
       "<style scoped>\n",
       "    .dataframe tbody tr th:only-of-type {\n",
       "        vertical-align: middle;\n",
       "    }\n",
       "\n",
       "    .dataframe tbody tr th {\n",
       "        vertical-align: top;\n",
       "    }\n",
       "\n",
       "    .dataframe thead th {\n",
       "        text-align: right;\n",
       "    }\n",
       "</style>\n",
       "<table border=\"1\" class=\"dataframe\">\n",
       "  <thead>\n",
       "    <tr style=\"text-align: right;\">\n",
       "      <th></th>\n",
       "      <th>0</th>\n",
       "    </tr>\n",
       "  </thead>\n",
       "  <tbody>\n",
       "    <tr>\n",
       "      <th>fit_time</th>\n",
       "      <td>14.673230</td>\n",
       "    </tr>\n",
       "    <tr>\n",
       "      <th>score_time</th>\n",
       "      <td>0.716082</td>\n",
       "    </tr>\n",
       "    <tr>\n",
       "      <th>test_recall</th>\n",
       "      <td>0.811321</td>\n",
       "    </tr>\n",
       "    <tr>\n",
       "      <th>train_recall</th>\n",
       "      <td>0.985646</td>\n",
       "    </tr>\n",
       "    <tr>\n",
       "      <th>test_accuracy</th>\n",
       "      <td>0.983294</td>\n",
       "    </tr>\n",
       "    <tr>\n",
       "      <th>train_accuracy</th>\n",
       "      <td>0.998806</td>\n",
       "    </tr>\n",
       "    <tr>\n",
       "      <th>test_f1</th>\n",
       "      <td>0.860000</td>\n",
       "    </tr>\n",
       "    <tr>\n",
       "      <th>train_f1</th>\n",
       "      <td>0.990385</td>\n",
       "    </tr>\n",
       "    <tr>\n",
       "      <th>test_roc_auc</th>\n",
       "      <td>0.989797</td>\n",
       "    </tr>\n",
       "    <tr>\n",
       "      <th>train_roc_auc</th>\n",
       "      <td>0.999974</td>\n",
       "    </tr>\n",
       "  </tbody>\n",
       "</table>\n",
       "</div>"
      ],
      "text/plain": [
       "                        0\n",
       "fit_time        14.673230\n",
       "score_time       0.716082\n",
       "test_recall      0.811321\n",
       "train_recall     0.985646\n",
       "test_accuracy    0.983294\n",
       "train_accuracy   0.998806\n",
       "test_f1          0.860000\n",
       "train_f1         0.990385\n",
       "test_roc_auc     0.989797\n",
       "train_roc_auc    0.999974"
      ]
     },
     "execution_count": 54,
     "metadata": {},
     "output_type": "execute_result"
    }
   ],
   "source": [
    "av_df2 = CrossValidation(AdaModel_,rdk_features,labels)\n",
    "av_df2"
   ]
  },
  {
   "cell_type": "markdown",
   "metadata": {},
   "source": [
    "### Ada Boost with PCA using Logistic regression"
   ]
  },
  {
   "cell_type": "code",
   "execution_count": 55,
   "metadata": {
    "ExecuteTime": {
     "end_time": "2020-06-08T19:57:31.300293Z",
     "start_time": "2020-06-08T19:57:30.351639Z"
    }
   },
   "outputs": [],
   "source": [
    "#########################################################################\n",
    "#\n",
    "# Ada Boost with PCA using Logistic regression\n",
    "#\n",
    "#########################################################################\n",
    "# Train Ada Boost model using PC transformed Morgan features\n",
    "\n",
    "# n_estimators -> number of weak learners to train iteratively\n",
    "# learning_rate -> It contributes to the weight of weak learners. It uses 1 as a default value\n",
    "from sklearn.linear_model import LogisticRegression \n",
    "\n",
    "mylogregmodel = LogisticRegression()\n",
    "\n",
    "AdaModel_LR_PCA = AdaBoostClassifier(n_estimators = 100,base_estimator = mylogregmodel ,learning_rate = 1)\n",
    "Ada = AdaModel_LR_PCA.fit(rdk_proj_train,label_train)\n",
    "pred3 = Ada.predict(rdk_proj_test)"
   ]
  },
  {
   "cell_type": "markdown",
   "metadata": {},
   "source": [
    "#### Scores"
   ]
  },
  {
   "cell_type": "code",
   "execution_count": 56,
   "metadata": {
    "ExecuteTime": {
     "end_time": "2020-06-08T19:57:31.341191Z",
     "start_time": "2020-06-08T19:57:31.304284Z"
    }
   },
   "outputs": [
    {
     "name": "stdout",
     "output_type": "stream",
     "text": [
      "\u001b[1mConfusion Matrix\u001b[0m\n",
      "[[1161   10]\n",
      " [  74   12]]\n",
      "\u001b[1m\n",
      "Recall\u001b[0m\n",
      "0.13953488372093023\n",
      "\u001b[1m\n",
      "Accuracy\u001b[0m\n",
      "0.9331742243436754\n",
      "\u001b[1m\n",
      "F1 Score\u001b[0m\n",
      "0.22222222222222218\n",
      "\u001b[1m\n",
      "ROC AUC Score\u001b[0m\n",
      "0.5654975870355291\n"
     ]
    }
   ],
   "source": [
    "Scores3 = Output(pred3,label_test)\n",
    "Scores3"
   ]
  },
  {
   "cell_type": "markdown",
   "metadata": {},
   "source": [
    "#### Cross Validation"
   ]
  },
  {
   "cell_type": "code",
   "execution_count": 57,
   "metadata": {},
   "outputs": [
    {
     "data": {
      "text/html": [
       "<div>\n",
       "<style scoped>\n",
       "    .dataframe tbody tr th:only-of-type {\n",
       "        vertical-align: middle;\n",
       "    }\n",
       "\n",
       "    .dataframe tbody tr th {\n",
       "        vertical-align: top;\n",
       "    }\n",
       "\n",
       "    .dataframe thead th {\n",
       "        text-align: right;\n",
       "    }\n",
       "</style>\n",
       "<table border=\"1\" class=\"dataframe\">\n",
       "  <thead>\n",
       "    <tr style=\"text-align: right;\">\n",
       "      <th></th>\n",
       "      <th>0</th>\n",
       "    </tr>\n",
       "  </thead>\n",
       "  <tbody>\n",
       "    <tr>\n",
       "      <th>fit_time</th>\n",
       "      <td>0.264704</td>\n",
       "    </tr>\n",
       "    <tr>\n",
       "      <th>score_time</th>\n",
       "      <td>0.033743</td>\n",
       "    </tr>\n",
       "    <tr>\n",
       "      <th>test_recall</th>\n",
       "      <td>0.207547</td>\n",
       "    </tr>\n",
       "    <tr>\n",
       "      <th>train_recall</th>\n",
       "      <td>0.234450</td>\n",
       "    </tr>\n",
       "    <tr>\n",
       "      <th>test_accuracy</th>\n",
       "      <td>0.934368</td>\n",
       "    </tr>\n",
       "    <tr>\n",
       "      <th>train_accuracy</th>\n",
       "      <td>0.943267</td>\n",
       "    </tr>\n",
       "    <tr>\n",
       "      <th>test_f1</th>\n",
       "      <td>0.285714</td>\n",
       "    </tr>\n",
       "    <tr>\n",
       "      <th>train_f1</th>\n",
       "      <td>0.340278</td>\n",
       "    </tr>\n",
       "    <tr>\n",
       "      <th>test_roc_auc</th>\n",
       "      <td>0.923927</td>\n",
       "    </tr>\n",
       "    <tr>\n",
       "      <th>train_roc_auc</th>\n",
       "      <td>0.916109</td>\n",
       "    </tr>\n",
       "  </tbody>\n",
       "</table>\n",
       "</div>"
      ],
      "text/plain": [
       "                       0\n",
       "fit_time        0.264704\n",
       "score_time      0.033743\n",
       "test_recall     0.207547\n",
       "train_recall    0.234450\n",
       "test_accuracy   0.934368\n",
       "train_accuracy  0.943267\n",
       "test_f1         0.285714\n",
       "train_f1        0.340278\n",
       "test_roc_auc    0.923927\n",
       "train_roc_auc   0.916109"
      ]
     },
     "execution_count": 57,
     "metadata": {},
     "output_type": "execute_result"
    }
   ],
   "source": [
    "av_df3 = CrossValidation(AdaModel_LR_PCA,rdk_proj_features,labels)\n",
    "av_df3"
   ]
  },
  {
   "cell_type": "markdown",
   "metadata": {
    "heading_collapsed": true
   },
   "source": [
    "### Ada Boost [WITHOUT] PCA using Logistic regression"
   ]
  },
  {
   "cell_type": "code",
   "execution_count": 58,
   "metadata": {
    "ExecuteTime": {
     "end_time": "2020-06-08T19:57:57.941203Z",
     "start_time": "2020-06-08T19:57:31.347170Z"
    },
    "hidden": true
   },
   "outputs": [],
   "source": [
    "#########################################################################\n",
    "#\n",
    "# Ada Boost with PCA using Logistic regression\n",
    "#\n",
    "#########################################################################\n",
    "# Train Ada Boost model using PC transformed Morgan features\n",
    "\n",
    "# n_estimators -> number of weak learners to train iteratively\n",
    "# learning_rate -> It contributes to the weight of weak learners. It uses 1 as a default value\n",
    "from sklearn.linear_model import LogisticRegression \n",
    "\n",
    "mylogregmodel = LogisticRegression()\n",
    "\n",
    "AdaModel_LR_ = AdaBoostClassifier(n_estimators = 100,base_estimator = mylogregmodel ,learning_rate = 1)\n",
    "Ada = AdaModel_LR_.fit(rdk_train,label_train)\n",
    "pred4 = Ada.predict(rdk_test)"
   ]
  },
  {
   "cell_type": "markdown",
   "metadata": {
    "hidden": true
   },
   "source": [
    "#### Scores"
   ]
  },
  {
   "cell_type": "code",
   "execution_count": 59,
   "metadata": {
    "ExecuteTime": {
     "end_time": "2020-06-08T19:57:57.976108Z",
     "start_time": "2020-06-08T19:57:57.945191Z"
    },
    "hidden": true
   },
   "outputs": [
    {
     "name": "stdout",
     "output_type": "stream",
     "text": [
      "\u001b[1mConfusion Matrix\u001b[0m\n",
      "[[1170    1]\n",
      " [   4   82]]\n",
      "\u001b[1m\n",
      "Recall\u001b[0m\n",
      "0.9534883720930233\n",
      "\u001b[1m\n",
      "Accuracy\u001b[0m\n",
      "0.9960222752585521\n",
      "\u001b[1m\n",
      "F1 Score\u001b[0m\n",
      "0.9704142011834319\n",
      "\u001b[1m\n",
      "ROC AUC Score\u001b[0m\n",
      "0.9763172005640179\n"
     ]
    }
   ],
   "source": [
    "Scores4 = Output(pred4,label_test)\n",
    "Scores4"
   ]
  },
  {
   "cell_type": "markdown",
   "metadata": {
    "hidden": true
   },
   "source": [
    "#### Cross Validation"
   ]
  },
  {
   "cell_type": "code",
   "execution_count": 60,
   "metadata": {
    "hidden": true
   },
   "outputs": [
    {
     "data": {
      "text/html": [
       "<div>\n",
       "<style scoped>\n",
       "    .dataframe tbody tr th:only-of-type {\n",
       "        vertical-align: middle;\n",
       "    }\n",
       "\n",
       "    .dataframe tbody tr th {\n",
       "        vertical-align: top;\n",
       "    }\n",
       "\n",
       "    .dataframe thead th {\n",
       "        text-align: right;\n",
       "    }\n",
       "</style>\n",
       "<table border=\"1\" class=\"dataframe\">\n",
       "  <thead>\n",
       "    <tr style=\"text-align: right;\">\n",
       "      <th></th>\n",
       "      <th>0</th>\n",
       "    </tr>\n",
       "  </thead>\n",
       "  <tbody>\n",
       "    <tr>\n",
       "      <th>fit_time</th>\n",
       "      <td>9.464251</td>\n",
       "    </tr>\n",
       "    <tr>\n",
       "      <th>score_time</th>\n",
       "      <td>1.053659</td>\n",
       "    </tr>\n",
       "    <tr>\n",
       "      <th>test_recall</th>\n",
       "      <td>0.830189</td>\n",
       "    </tr>\n",
       "    <tr>\n",
       "      <th>train_recall</th>\n",
       "      <td>0.995215</td>\n",
       "    </tr>\n",
       "    <tr>\n",
       "      <th>test_accuracy</th>\n",
       "      <td>0.989260</td>\n",
       "    </tr>\n",
       "    <tr>\n",
       "      <th>train_accuracy</th>\n",
       "      <td>0.999403</td>\n",
       "    </tr>\n",
       "    <tr>\n",
       "      <th>test_f1</th>\n",
       "      <td>0.907216</td>\n",
       "    </tr>\n",
       "    <tr>\n",
       "      <th>train_f1</th>\n",
       "      <td>0.995215</td>\n",
       "    </tr>\n",
       "    <tr>\n",
       "      <th>test_roc_auc</th>\n",
       "      <td>0.991924</td>\n",
       "    </tr>\n",
       "    <tr>\n",
       "      <th>train_roc_auc</th>\n",
       "      <td>0.999993</td>\n",
       "    </tr>\n",
       "  </tbody>\n",
       "</table>\n",
       "</div>"
      ],
      "text/plain": [
       "                       0\n",
       "fit_time        9.464251\n",
       "score_time      1.053659\n",
       "test_recall     0.830189\n",
       "train_recall    0.995215\n",
       "test_accuracy   0.989260\n",
       "train_accuracy  0.999403\n",
       "test_f1         0.907216\n",
       "train_f1        0.995215\n",
       "test_roc_auc    0.991924\n",
       "train_roc_auc   0.999993"
      ]
     },
     "execution_count": 60,
     "metadata": {},
     "output_type": "execute_result"
    }
   ],
   "source": [
    "av_df4 = CrossValidation(AdaModel_LR_,rdk_features,labels)\n",
    "av_df4"
   ]
  },
  {
   "cell_type": "markdown",
   "metadata": {
    "heading_collapsed": true
   },
   "source": [
    "### Ada Boost with PCA using Random Forests"
   ]
  },
  {
   "cell_type": "code",
   "execution_count": 61,
   "metadata": {
    "ExecuteTime": {
     "end_time": "2020-06-08T19:57:58.837173Z",
     "start_time": "2020-06-08T19:57:57.981098Z"
    },
    "hidden": true
   },
   "outputs": [],
   "source": [
    "#########################################################################\n",
    "#\n",
    "# Ada Boost with PCA using Random Forests\n",
    "#\n",
    "#########################################################################\n",
    "# Train Ada Boost model using PC transformed Morgan features\n",
    "\n",
    "# n_estimators -> number of weak learners to train iteratively\n",
    "# learning_rate -> It contributes to the weight of weak learners. It uses 1 as a default value\n",
    "from sklearn.ensemble import RandomForestClassifier\n",
    "\n",
    "rf = RandomForestClassifier(n_estimators = 100,criterion='gini',bootstrap = True, warm_start = False)\n",
    "\n",
    "AdaModel_RF_PCA = AdaBoostClassifier(n_estimators = 100,base_estimator = rf ,learning_rate = 1)\n",
    "RF = AdaModel_RF_PCA.fit(rdk_proj_train,label_train)\n",
    "pred5 = RF.predict(rdk_proj_test)"
   ]
  },
  {
   "cell_type": "markdown",
   "metadata": {
    "hidden": true
   },
   "source": [
    "#### Scores"
   ]
  },
  {
   "cell_type": "code",
   "execution_count": 62,
   "metadata": {
    "ExecuteTime": {
     "end_time": "2020-06-09T22:46:31.890470Z",
     "start_time": "2020-06-09T22:46:31.833196Z"
    },
    "hidden": true
   },
   "outputs": [
    {
     "name": "stdout",
     "output_type": "stream",
     "text": [
      "\u001b[1mConfusion Matrix\u001b[0m\n",
      "[[1166    5]\n",
      " [  38   48]]\n",
      "\u001b[1m\n",
      "Recall\u001b[0m\n",
      "0.5581395348837209\n",
      "\u001b[1m\n",
      "Accuracy\u001b[0m\n",
      "0.9657915672235481\n",
      "\u001b[1m\n",
      "F1 Score\u001b[0m\n",
      "0.6906474820143885\n",
      "\u001b[1m\n",
      "ROC AUC Score\u001b[0m\n",
      "0.7769348400293926\n"
     ]
    }
   ],
   "source": [
    "Scores5 = Output(pred5,label_test)\n",
    "Scores5"
   ]
  },
  {
   "cell_type": "markdown",
   "metadata": {
    "hidden": true
   },
   "source": [
    "#### Cross Validation"
   ]
  },
  {
   "cell_type": "code",
   "execution_count": 63,
   "metadata": {
    "hidden": true
   },
   "outputs": [
    {
     "data": {
      "text/html": [
       "<div>\n",
       "<style scoped>\n",
       "    .dataframe tbody tr th:only-of-type {\n",
       "        vertical-align: middle;\n",
       "    }\n",
       "\n",
       "    .dataframe tbody tr th {\n",
       "        vertical-align: top;\n",
       "    }\n",
       "\n",
       "    .dataframe thead th {\n",
       "        text-align: right;\n",
       "    }\n",
       "</style>\n",
       "<table border=\"1\" class=\"dataframe\">\n",
       "  <thead>\n",
       "    <tr style=\"text-align: right;\">\n",
       "      <th></th>\n",
       "      <th>0</th>\n",
       "    </tr>\n",
       "  </thead>\n",
       "  <tbody>\n",
       "    <tr>\n",
       "      <th>fit_time</th>\n",
       "      <td>32.749951</td>\n",
       "    </tr>\n",
       "    <tr>\n",
       "      <th>score_time</th>\n",
       "      <td>2.396834</td>\n",
       "    </tr>\n",
       "    <tr>\n",
       "      <th>test_recall</th>\n",
       "      <td>0.641509</td>\n",
       "    </tr>\n",
       "    <tr>\n",
       "      <th>train_recall</th>\n",
       "      <td>1.000000</td>\n",
       "    </tr>\n",
       "    <tr>\n",
       "      <th>test_accuracy</th>\n",
       "      <td>0.972554</td>\n",
       "    </tr>\n",
       "    <tr>\n",
       "      <th>train_accuracy</th>\n",
       "      <td>0.999403</td>\n",
       "    </tr>\n",
       "    <tr>\n",
       "      <th>test_f1</th>\n",
       "      <td>0.747253</td>\n",
       "    </tr>\n",
       "    <tr>\n",
       "      <th>train_f1</th>\n",
       "      <td>0.995238</td>\n",
       "    </tr>\n",
       "    <tr>\n",
       "      <th>test_roc_auc</th>\n",
       "      <td>0.980435</td>\n",
       "    </tr>\n",
       "    <tr>\n",
       "      <th>train_roc_auc</th>\n",
       "      <td>0.999995</td>\n",
       "    </tr>\n",
       "  </tbody>\n",
       "</table>\n",
       "</div>"
      ],
      "text/plain": [
       "                        0\n",
       "fit_time        32.749951\n",
       "score_time       2.396834\n",
       "test_recall      0.641509\n",
       "train_recall     1.000000\n",
       "test_accuracy    0.972554\n",
       "train_accuracy   0.999403\n",
       "test_f1          0.747253\n",
       "train_f1         0.995238\n",
       "test_roc_auc     0.980435\n",
       "train_roc_auc    0.999995"
      ]
     },
     "execution_count": 63,
     "metadata": {},
     "output_type": "execute_result"
    }
   ],
   "source": [
    "av_df5 = CrossValidation(AdaModel_RF_PCA,rdk_proj_features,labels)\n",
    "av_df5"
   ]
  },
  {
   "cell_type": "markdown",
   "metadata": {},
   "source": [
    "### Ada Boost [WITHOUT] PCA using Random Forests"
   ]
  },
  {
   "cell_type": "code",
   "execution_count": 64,
   "metadata": {
    "ExecuteTime": {
     "end_time": "2020-06-08T19:58:24.685554Z",
     "start_time": "2020-06-08T19:57:58.877067Z"
    }
   },
   "outputs": [],
   "source": [
    "#########################################################################\n",
    "#\n",
    "# Ada Boost with PCA using Random Forests\n",
    "#\n",
    "#########################################################################\n",
    "# Train Ada Boost model using PC transformed Morgan features\n",
    "\n",
    "# n_estimators -> number of weak learners to train iteratively\n",
    "# learning_rate -> It contributes to the weight of weak learners. It uses 1 as a default value\n",
    "from sklearn.ensemble import RandomForestClassifier\n",
    "\n",
    "rf = RandomForestClassifier(n_estimators = 100,criterion='gini',bootstrap = True, warm_start = False)\n",
    "\n",
    "AdaModel_RF_ = AdaBoostClassifier(n_estimators = 100,base_estimator = rf ,learning_rate = 1)\n",
    "RF = AdaModel_RF_.fit(rdk_train,label_train)\n",
    "pred6 = RF.predict(rdk_test)"
   ]
  },
  {
   "cell_type": "markdown",
   "metadata": {},
   "source": [
    "#### Scores"
   ]
  },
  {
   "cell_type": "code",
   "execution_count": 65,
   "metadata": {
    "ExecuteTime": {
     "end_time": "2020-06-08T19:58:24.730434Z",
     "start_time": "2020-06-08T19:58:24.689543Z"
    }
   },
   "outputs": [
    {
     "name": "stdout",
     "output_type": "stream",
     "text": [
      "\u001b[1mConfusion Matrix\u001b[0m\n",
      "[[1170    1]\n",
      " [  16   70]]\n",
      "\u001b[1m\n",
      "Recall\u001b[0m\n",
      "0.813953488372093\n",
      "\u001b[1m\n",
      "Accuracy\u001b[0m\n",
      "0.9864757358790772\n",
      "\u001b[1m\n",
      "F1 Score\u001b[0m\n",
      "0.89171974522293\n",
      "\u001b[1m\n",
      "ROC AUC Score\u001b[0m\n",
      "0.9065497587035529\n"
     ]
    }
   ],
   "source": [
    "Scores6 = Output(pred6,label_test)\n",
    "Scores6"
   ]
  },
  {
   "cell_type": "markdown",
   "metadata": {},
   "source": [
    "#### Cross Validation"
   ]
  },
  {
   "cell_type": "code",
   "execution_count": 66,
   "metadata": {},
   "outputs": [
    {
     "data": {
      "text/html": [
       "<div>\n",
       "<style scoped>\n",
       "    .dataframe tbody tr th:only-of-type {\n",
       "        vertical-align: middle;\n",
       "    }\n",
       "\n",
       "    .dataframe tbody tr th {\n",
       "        vertical-align: top;\n",
       "    }\n",
       "\n",
       "    .dataframe thead th {\n",
       "        text-align: right;\n",
       "    }\n",
       "</style>\n",
       "<table border=\"1\" class=\"dataframe\">\n",
       "  <thead>\n",
       "    <tr style=\"text-align: right;\">\n",
       "      <th></th>\n",
       "      <th>0</th>\n",
       "    </tr>\n",
       "  </thead>\n",
       "  <tbody>\n",
       "    <tr>\n",
       "      <th>fit_time</th>\n",
       "      <td>80.766676</td>\n",
       "    </tr>\n",
       "    <tr>\n",
       "      <th>score_time</th>\n",
       "      <td>3.842605</td>\n",
       "    </tr>\n",
       "    <tr>\n",
       "      <th>test_recall</th>\n",
       "      <td>0.849057</td>\n",
       "    </tr>\n",
       "    <tr>\n",
       "      <th>train_recall</th>\n",
       "      <td>0.995215</td>\n",
       "    </tr>\n",
       "    <tr>\n",
       "      <th>test_accuracy</th>\n",
       "      <td>0.989260</td>\n",
       "    </tr>\n",
       "    <tr>\n",
       "      <th>train_accuracy</th>\n",
       "      <td>0.999403</td>\n",
       "    </tr>\n",
       "    <tr>\n",
       "      <th>test_f1</th>\n",
       "      <td>0.909091</td>\n",
       "    </tr>\n",
       "    <tr>\n",
       "      <th>train_f1</th>\n",
       "      <td>0.995215</td>\n",
       "    </tr>\n",
       "    <tr>\n",
       "      <th>test_roc_auc</th>\n",
       "      <td>0.987718</td>\n",
       "    </tr>\n",
       "    <tr>\n",
       "      <th>train_roc_auc</th>\n",
       "      <td>0.999995</td>\n",
       "    </tr>\n",
       "  </tbody>\n",
       "</table>\n",
       "</div>"
      ],
      "text/plain": [
       "                        0\n",
       "fit_time        80.766676\n",
       "score_time       3.842605\n",
       "test_recall      0.849057\n",
       "train_recall     0.995215\n",
       "test_accuracy    0.989260\n",
       "train_accuracy   0.999403\n",
       "test_f1          0.909091\n",
       "train_f1         0.995215\n",
       "test_roc_auc     0.987718\n",
       "train_roc_auc    0.999995"
      ]
     },
     "execution_count": 66,
     "metadata": {},
     "output_type": "execute_result"
    }
   ],
   "source": [
    "av_df6 = CrossValidation(AdaModel_RF_,rdk_features,labels)\n",
    "av_df6"
   ]
  },
  {
   "cell_type": "code",
   "execution_count": null,
   "metadata": {},
   "outputs": [],
   "source": []
  },
  {
   "cell_type": "markdown",
   "metadata": {},
   "source": [
    "## Using Nathan Features"
   ]
  },
  {
   "cell_type": "code",
   "execution_count": 67,
   "metadata": {
    "ExecuteTime": {
     "end_time": "2020-06-10T01:33:33.146665Z",
     "start_time": "2020-06-10T01:33:28.280026Z"
    }
   },
   "outputs": [],
   "source": [
    "# load different molecular features separately\n",
    "##############################################\n",
    "#rdk_features    = gen_fprints(mols)\n",
    "#maccs_features  = gen_MACCS(mols)\n",
    "#morgan_features = gen_morgan_prints(mols,radius=18)\n",
    "nathan_features, bondIDSourceMap = gen_nathan_prints(mols)"
   ]
  },
  {
   "cell_type": "code",
   "execution_count": 68,
   "metadata": {
    "ExecuteTime": {
     "end_time": "2020-06-10T01:33:33.183950Z",
     "start_time": "2020-06-10T01:33:33.156325Z"
    }
   },
   "outputs": [],
   "source": [
    "# Split data for [training] and [testing]\n",
    "nathan_train, nathan_test, label_train, label_test = train_test_split(nathan_features, labels, \\\n",
    "                                                                test_size=0.3, shuffle=True)"
   ]
  },
  {
   "cell_type": "code",
   "execution_count": 69,
   "metadata": {
    "ExecuteTime": {
     "end_time": "2020-06-10T01:33:33.314496Z",
     "start_time": "2020-06-10T01:33:33.190929Z"
    }
   },
   "outputs": [],
   "source": [
    "######################\n",
    "# Principal Components\n",
    "######################\n",
    "\n",
    "# Determine principal components using [training data] and apply the transformation to the [test data]\n",
    "PC_nathan_proj = PCA(n_components = 10)\n",
    "nathan_proj_train = PC_nathan_proj.fit_transform(nathan_train)\n",
    "nathan_proj_test = PC_nathan_proj.transform(nathan_test)\n",
    "nathan_proj_features = PC_nathan_proj.fit_transform(nathan_features)"
   ]
  },
  {
   "cell_type": "code",
   "execution_count": 70,
   "metadata": {
    "ExecuteTime": {
     "end_time": "2020-06-10T01:33:34.050034Z",
     "start_time": "2020-06-10T01:33:33.319012Z"
    }
   },
   "outputs": [
    {
     "name": "stdout",
     "output_type": "stream",
     "text": [
      "\u001b[1mConfusion Matrix\u001b[0m\n",
      "[[1188    1]\n",
      " [   9   59]]\n",
      "\u001b[1m\n",
      "Recall\u001b[0m\n",
      "0.8676470588235294\n",
      "\u001b[1m\n",
      "Accuracy\u001b[0m\n",
      "0.9920445505171042\n",
      "\u001b[1m\n",
      "F1 Score\u001b[0m\n",
      "0.9218749999999999\n",
      "\u001b[1m\n",
      "ROC AUC Score\u001b[0m\n",
      "0.933403007965171\n"
     ]
    },
    {
     "data": {
      "text/html": [
       "<div>\n",
       "<style scoped>\n",
       "    .dataframe tbody tr th:only-of-type {\n",
       "        vertical-align: middle;\n",
       "    }\n",
       "\n",
       "    .dataframe tbody tr th {\n",
       "        vertical-align: top;\n",
       "    }\n",
       "\n",
       "    .dataframe thead th {\n",
       "        text-align: right;\n",
       "    }\n",
       "</style>\n",
       "<table border=\"1\" class=\"dataframe\">\n",
       "  <thead>\n",
       "    <tr style=\"text-align: right;\">\n",
       "      <th></th>\n",
       "      <th>0</th>\n",
       "    </tr>\n",
       "  </thead>\n",
       "  <tbody>\n",
       "    <tr>\n",
       "      <th>fit_time</th>\n",
       "      <td>0.666419</td>\n",
       "    </tr>\n",
       "    <tr>\n",
       "      <th>score_time</th>\n",
       "      <td>0.061276</td>\n",
       "    </tr>\n",
       "    <tr>\n",
       "      <th>test_recall</th>\n",
       "      <td>0.886792</td>\n",
       "    </tr>\n",
       "    <tr>\n",
       "      <th>train_recall</th>\n",
       "      <td>1.000000</td>\n",
       "    </tr>\n",
       "    <tr>\n",
       "      <th>test_accuracy</th>\n",
       "      <td>0.986874</td>\n",
       "    </tr>\n",
       "    <tr>\n",
       "      <th>train_accuracy</th>\n",
       "      <td>1.000000</td>\n",
       "    </tr>\n",
       "    <tr>\n",
       "      <th>test_f1</th>\n",
       "      <td>0.895238</td>\n",
       "    </tr>\n",
       "    <tr>\n",
       "      <th>train_f1</th>\n",
       "      <td>1.000000</td>\n",
       "    </tr>\n",
       "    <tr>\n",
       "      <th>test_roc_auc</th>\n",
       "      <td>0.971061</td>\n",
       "    </tr>\n",
       "    <tr>\n",
       "      <th>train_roc_auc</th>\n",
       "      <td>1.000000</td>\n",
       "    </tr>\n",
       "  </tbody>\n",
       "</table>\n",
       "</div>"
      ],
      "text/plain": [
       "                       0\n",
       "fit_time        0.666419\n",
       "score_time      0.061276\n",
       "test_recall     0.886792\n",
       "train_recall    1.000000\n",
       "test_accuracy   0.986874\n",
       "train_accuracy  1.000000\n",
       "test_f1         0.895238\n",
       "train_f1        1.000000\n",
       "test_roc_auc    0.971061\n",
       "train_roc_auc   1.000000"
      ]
     },
     "execution_count": 70,
     "metadata": {},
     "output_type": "execute_result"
    }
   ],
   "source": [
    "### Ada Boost with PCA\n",
    "\n",
    "#########################################################################\n",
    "#\n",
    "# Ada Boost with PCA\n",
    "#\n",
    "#########################################################################\n",
    "# Train Ada Boost model using PC transformed Nathan features\n",
    "\n",
    "# n_estimators -> number of weak learners to train iteratively\n",
    "# learning_rate -> It contributes to the weight of weak learners. It uses 1 as a default value\n",
    "AdaModel_PCA = AdaBoostClassifier(n_estimators = 100, learning_rate = 1)\n",
    "Ada = AdaModel_PCA.fit(nathan_proj_train,label_train)\n",
    "pred1 = Ada.predict(nathan_proj_test)\n",
    "\n",
    "#### Scores\n",
    "\n",
    "Scores1 = Output(pred1,label_test)\n",
    "Scores1\n",
    "\n",
    "#### Cross Validation\n",
    "\n",
    "av_df1 = CrossValidation(AdaModel_PCA,nathan_proj_features,labels)\n",
    "av_df1"
   ]
  },
  {
   "cell_type": "code",
   "execution_count": 71,
   "metadata": {
    "ExecuteTime": {
     "end_time": "2020-06-10T01:33:35.344486Z",
     "start_time": "2020-06-10T01:33:34.053027Z"
    }
   },
   "outputs": [
    {
     "name": "stdout",
     "output_type": "stream",
     "text": [
      "\u001b[1mConfusion Matrix\u001b[0m\n",
      "[[1186    3]\n",
      " [   9   59]]\n",
      "\u001b[1m\n",
      "Recall\u001b[0m\n",
      "0.8676470588235294\n",
      "\u001b[1m\n",
      "Accuracy\u001b[0m\n",
      "0.9904534606205251\n",
      "\u001b[1m\n",
      "F1 Score\u001b[0m\n",
      "0.9076923076923077\n",
      "\u001b[1m\n",
      "ROC AUC Score\u001b[0m\n",
      "0.9325619650719835\n"
     ]
    },
    {
     "data": {
      "text/html": [
       "<div>\n",
       "<style scoped>\n",
       "    .dataframe tbody tr th:only-of-type {\n",
       "        vertical-align: middle;\n",
       "    }\n",
       "\n",
       "    .dataframe tbody tr th {\n",
       "        vertical-align: top;\n",
       "    }\n",
       "\n",
       "    .dataframe thead th {\n",
       "        text-align: right;\n",
       "    }\n",
       "</style>\n",
       "<table border=\"1\" class=\"dataframe\">\n",
       "  <thead>\n",
       "    <tr style=\"text-align: right;\">\n",
       "      <th></th>\n",
       "      <th>0</th>\n",
       "    </tr>\n",
       "  </thead>\n",
       "  <tbody>\n",
       "    <tr>\n",
       "      <th>fit_time</th>\n",
       "      <td>0.437255</td>\n",
       "    </tr>\n",
       "    <tr>\n",
       "      <th>score_time</th>\n",
       "      <td>0.078550</td>\n",
       "    </tr>\n",
       "    <tr>\n",
       "      <th>test_recall</th>\n",
       "      <td>0.886792</td>\n",
       "    </tr>\n",
       "    <tr>\n",
       "      <th>train_recall</th>\n",
       "      <td>1.000000</td>\n",
       "    </tr>\n",
       "    <tr>\n",
       "      <th>test_accuracy</th>\n",
       "      <td>0.990453</td>\n",
       "    </tr>\n",
       "    <tr>\n",
       "      <th>train_accuracy</th>\n",
       "      <td>1.000000</td>\n",
       "    </tr>\n",
       "    <tr>\n",
       "      <th>test_f1</th>\n",
       "      <td>0.921569</td>\n",
       "    </tr>\n",
       "    <tr>\n",
       "      <th>train_f1</th>\n",
       "      <td>1.000000</td>\n",
       "    </tr>\n",
       "    <tr>\n",
       "      <th>test_roc_auc</th>\n",
       "      <td>0.995313</td>\n",
       "    </tr>\n",
       "    <tr>\n",
       "      <th>train_roc_auc</th>\n",
       "      <td>1.000000</td>\n",
       "    </tr>\n",
       "  </tbody>\n",
       "</table>\n",
       "</div>"
      ],
      "text/plain": [
       "                       0\n",
       "fit_time        0.437255\n",
       "score_time      0.078550\n",
       "test_recall     0.886792\n",
       "train_recall    1.000000\n",
       "test_accuracy   0.990453\n",
       "train_accuracy  1.000000\n",
       "test_f1         0.921569\n",
       "train_f1        1.000000\n",
       "test_roc_auc    0.995313\n",
       "train_roc_auc   1.000000"
      ]
     },
     "execution_count": 71,
     "metadata": {},
     "output_type": "execute_result"
    }
   ],
   "source": [
    "### Ada Boost [WITHOUT] PCA\n",
    "#########################################################################\n",
    "#\n",
    "# Ada Boost [WITHOUT] PCA\n",
    "#\n",
    "#########################################################################\n",
    "# Train Logistic Regression model using PC transformed Nathan features\n",
    "AdaModel_ = AdaBoostClassifier(n_estimators = 100, learning_rate = 1)\n",
    "Ada = AdaModel_.fit(nathan_train,label_train)\n",
    "pred2 = Ada.predict(nathan_test)\n",
    "\n",
    "#### Scores\n",
    "\n",
    "Scores2 = Output(pred2,label_test)\n",
    "Scores2\n",
    "\n",
    "#### Cross Validation\n",
    "\n",
    "av_df2 = CrossValidation(AdaModel_,nathan_features,labels)\n",
    "av_df2"
   ]
  },
  {
   "cell_type": "code",
   "execution_count": 72,
   "metadata": {
    "ExecuteTime": {
     "end_time": "2020-06-10T01:41:28.214360Z",
     "start_time": "2020-06-10T01:41:27.375180Z"
    }
   },
   "outputs": [
    {
     "name": "stdout",
     "output_type": "stream",
     "text": [
      "\u001b[1mConfusion Matrix\u001b[0m\n",
      "[[1189    0]\n",
      " [   8   60]]\n",
      "\u001b[1m\n",
      "Recall\u001b[0m\n",
      "0.8823529411764706\n",
      "\u001b[1m\n",
      "Accuracy\u001b[0m\n",
      "0.9936356404136834\n",
      "\u001b[1m\n",
      "F1 Score\u001b[0m\n",
      "0.9375\n",
      "\u001b[1m\n",
      "ROC AUC Score\u001b[0m\n",
      "0.9411764705882353\n"
     ]
    }
   ],
   "source": [
    "### Ada Boost with PCA using Logistic regression\n",
    "\n",
    "#########################################################################\n",
    "#\n",
    "# Ada Boost with PCA using Logistic regression\n",
    "#\n",
    "#########################################################################\n",
    "# Train Ada Boost model using PC transformed Morgan features\n",
    "\n",
    "# n_estimators -> number of weak learners to train iteratively\n",
    "# learning_rate -> It contributes to the weight of weak learners. It uses 1 as a default value\n",
    "from sklearn.linear_model import LogisticRegression \n",
    "\n",
    "mylogregmodel = LogisticRegression()\n",
    "\n",
    "AdaModel_LR_PCA = AdaBoostClassifier(n_estimators = 100,base_estimator = mylogregmodel ,learning_rate = 1)\n",
    "Ada = AdaModel_LR_PCA.fit(nathan_proj_train,label_train)\n",
    "pred3 = Ada.predict(nathan_proj_test)\n",
    "\n",
    "#### Scores\n",
    "\n",
    "Scores3 = Output(pred3,label_test)\n",
    "Scores3\n"
   ]
  },
  {
   "cell_type": "code",
   "execution_count": 73,
   "metadata": {},
   "outputs": [
    {
     "data": {
      "text/html": [
       "<div>\n",
       "<style scoped>\n",
       "    .dataframe tbody tr th:only-of-type {\n",
       "        vertical-align: middle;\n",
       "    }\n",
       "\n",
       "    .dataframe tbody tr th {\n",
       "        vertical-align: top;\n",
       "    }\n",
       "\n",
       "    .dataframe thead th {\n",
       "        text-align: right;\n",
       "    }\n",
       "</style>\n",
       "<table border=\"1\" class=\"dataframe\">\n",
       "  <thead>\n",
       "    <tr style=\"text-align: right;\">\n",
       "      <th></th>\n",
       "      <th>0</th>\n",
       "    </tr>\n",
       "  </thead>\n",
       "  <tbody>\n",
       "    <tr>\n",
       "      <th>fit_time</th>\n",
       "      <td>0.769023</td>\n",
       "    </tr>\n",
       "    <tr>\n",
       "      <th>score_time</th>\n",
       "      <td>0.032443</td>\n",
       "    </tr>\n",
       "    <tr>\n",
       "      <th>test_recall</th>\n",
       "      <td>0.792453</td>\n",
       "    </tr>\n",
       "    <tr>\n",
       "      <th>train_recall</th>\n",
       "      <td>0.832536</td>\n",
       "    </tr>\n",
       "    <tr>\n",
       "      <th>test_accuracy</th>\n",
       "      <td>0.985680</td>\n",
       "    </tr>\n",
       "    <tr>\n",
       "      <th>train_accuracy</th>\n",
       "      <td>0.988653</td>\n",
       "    </tr>\n",
       "    <tr>\n",
       "      <th>test_f1</th>\n",
       "      <td>0.875000</td>\n",
       "    </tr>\n",
       "    <tr>\n",
       "      <th>train_f1</th>\n",
       "      <td>0.901554</td>\n",
       "    </tr>\n",
       "    <tr>\n",
       "      <th>test_roc_auc</th>\n",
       "      <td>0.969355</td>\n",
       "    </tr>\n",
       "    <tr>\n",
       "      <th>train_roc_auc</th>\n",
       "      <td>0.991226</td>\n",
       "    </tr>\n",
       "  </tbody>\n",
       "</table>\n",
       "</div>"
      ],
      "text/plain": [
       "                       0\n",
       "fit_time        0.769023\n",
       "score_time      0.032443\n",
       "test_recall     0.792453\n",
       "train_recall    0.832536\n",
       "test_accuracy   0.985680\n",
       "train_accuracy  0.988653\n",
       "test_f1         0.875000\n",
       "train_f1        0.901554\n",
       "test_roc_auc    0.969355\n",
       "train_roc_auc   0.991226"
      ]
     },
     "execution_count": 73,
     "metadata": {},
     "output_type": "execute_result"
    }
   ],
   "source": [
    "#### Cross Validation\n",
    "\n",
    "av_df3 = CrossValidation(AdaModel_LR_PCA,nathan_proj_features,labels)\n",
    "av_df3"
   ]
  },
  {
   "cell_type": "code",
   "execution_count": 74,
   "metadata": {
    "ExecuteTime": {
     "end_time": "2020-06-10T01:46:58.389635Z",
     "start_time": "2020-06-10T01:46:53.456527Z"
    },
    "run_control": {
     "marked": false
    }
   },
   "outputs": [
    {
     "name": "stdout",
     "output_type": "stream",
     "text": [
      "\u001b[1mConfusion Matrix\u001b[0m\n",
      "[[1186    3]\n",
      " [   4   64]]\n",
      "\u001b[1m\n",
      "Recall\u001b[0m\n",
      "0.9411764705882353\n",
      "\u001b[1m\n",
      "Accuracy\u001b[0m\n",
      "0.994431185361973\n",
      "\u001b[1m\n",
      "F1 Score\u001b[0m\n",
      "0.9481481481481482\n",
      "\u001b[1m\n",
      "ROC AUC Score\u001b[0m\n",
      "0.9693266709543363\n"
     ]
    }
   ],
   "source": [
    "### Ada Boost [WITHOUT] PCA using Logistic regression\n",
    "\n",
    "#########################################################################\n",
    "#\n",
    "# Ada Boost with PCA using Logistic regression\n",
    "#\n",
    "#########################################################################\n",
    "# Train Ada Boost model using PC transformed Morgan features\n",
    "\n",
    "# n_estimators -> number of weak learners to train iteratively\n",
    "# learning_rate -> It contributes to the weight of weak learners. It uses 1 as a default value\n",
    "from sklearn.linear_model import LogisticRegression \n",
    "\n",
    "mylogregmodel = LogisticRegression(max_iter=10000)\n",
    "\n",
    "AdaModel_LR_ = AdaBoostClassifier(n_estimators = 100,base_estimator = mylogregmodel ,learning_rate = 1)\n",
    "Ada = AdaModel_LR_.fit(nathan_train,label_train)\n",
    "pred4 = Ada.predict(nathan_test)\n",
    "\n",
    "#### Scores\n",
    "\n",
    "Scores4 = Output(pred4,label_test)\n",
    "Scores4"
   ]
  },
  {
   "cell_type": "code",
   "execution_count": 75,
   "metadata": {},
   "outputs": [
    {
     "data": {
      "text/html": [
       "<div>\n",
       "<style scoped>\n",
       "    .dataframe tbody tr th:only-of-type {\n",
       "        vertical-align: middle;\n",
       "    }\n",
       "\n",
       "    .dataframe tbody tr th {\n",
       "        vertical-align: top;\n",
       "    }\n",
       "\n",
       "    .dataframe thead th {\n",
       "        text-align: right;\n",
       "    }\n",
       "</style>\n",
       "<table border=\"1\" class=\"dataframe\">\n",
       "  <thead>\n",
       "    <tr style=\"text-align: right;\">\n",
       "      <th></th>\n",
       "      <th>0</th>\n",
       "    </tr>\n",
       "  </thead>\n",
       "  <tbody>\n",
       "    <tr>\n",
       "      <th>fit_time</th>\n",
       "      <td>1.929114</td>\n",
       "    </tr>\n",
       "    <tr>\n",
       "      <th>score_time</th>\n",
       "      <td>0.067948</td>\n",
       "    </tr>\n",
       "    <tr>\n",
       "      <th>test_recall</th>\n",
       "      <td>0.849057</td>\n",
       "    </tr>\n",
       "    <tr>\n",
       "      <th>train_recall</th>\n",
       "      <td>0.913876</td>\n",
       "    </tr>\n",
       "    <tr>\n",
       "      <th>test_accuracy</th>\n",
       "      <td>0.988067</td>\n",
       "    </tr>\n",
       "    <tr>\n",
       "      <th>train_accuracy</th>\n",
       "      <td>0.992535</td>\n",
       "    </tr>\n",
       "    <tr>\n",
       "      <th>test_f1</th>\n",
       "      <td>0.900000</td>\n",
       "    </tr>\n",
       "    <tr>\n",
       "      <th>train_f1</th>\n",
       "      <td>0.938575</td>\n",
       "    </tr>\n",
       "    <tr>\n",
       "      <th>test_roc_auc</th>\n",
       "      <td>0.981324</td>\n",
       "    </tr>\n",
       "    <tr>\n",
       "      <th>train_roc_auc</th>\n",
       "      <td>0.998590</td>\n",
       "    </tr>\n",
       "  </tbody>\n",
       "</table>\n",
       "</div>"
      ],
      "text/plain": [
       "                       0\n",
       "fit_time        1.929114\n",
       "score_time      0.067948\n",
       "test_recall     0.849057\n",
       "train_recall    0.913876\n",
       "test_accuracy   0.988067\n",
       "train_accuracy  0.992535\n",
       "test_f1         0.900000\n",
       "train_f1        0.938575\n",
       "test_roc_auc    0.981324\n",
       "train_roc_auc   0.998590"
      ]
     },
     "execution_count": 75,
     "metadata": {},
     "output_type": "execute_result"
    }
   ],
   "source": [
    "#### Cross Validation\n",
    "\n",
    "av_df4 = CrossValidation(AdaModel_LR_,nathan_features,labels)\n",
    "av_df4"
   ]
  },
  {
   "cell_type": "code",
   "execution_count": 76,
   "metadata": {
    "ExecuteTime": {
     "end_time": "2020-06-10T01:36:18.399474Z",
     "start_time": "2020-06-10T01:33:41.650750Z"
    }
   },
   "outputs": [
    {
     "name": "stdout",
     "output_type": "stream",
     "text": [
      "\u001b[1mConfusion Matrix\u001b[0m\n",
      "[[1189    0]\n",
      " [  10   58]]\n",
      "\u001b[1m\n",
      "Recall\u001b[0m\n",
      "0.8529411764705882\n",
      "\u001b[1m\n",
      "Accuracy\u001b[0m\n",
      "0.9920445505171042\n",
      "\u001b[1m\n",
      "F1 Score\u001b[0m\n",
      "0.9206349206349206\n",
      "\u001b[1m\n",
      "ROC AUC Score\u001b[0m\n",
      "0.9264705882352942\n"
     ]
    }
   ],
   "source": [
    "### Ada Boost with PCA using Random Forests\n",
    "\n",
    "#########################################################################\n",
    "#\n",
    "# Ada Boost with PCA using Random Forests\n",
    "#\n",
    "#########################################################################\n",
    "# Train Ada Boost model using PC transformed Morgan features\n",
    "\n",
    "# n_estimators -> number of weak learners to train iteratively\n",
    "# learning_rate -> It contributes to the weight of weak learners. It uses 1 as a default value\n",
    "from sklearn.ensemble import RandomForestClassifier\n",
    "\n",
    "rf = RandomForestClassifier(n_estimators = 100,criterion='gini',bootstrap = True, warm_start = False)\n",
    "\n",
    "AdaModel_RF_PCA = AdaBoostClassifier(n_estimators = 100,base_estimator = rf ,learning_rate = 1)\n",
    "RF = AdaModel_RF_PCA.fit(nathan_proj_train,label_train)\n",
    "pred5 = RF.predict(nathan_proj_test)\n",
    "\n",
    "#### Scores\n",
    "\n",
    "Scores5 = Output(pred5,label_test)\n",
    "Scores5"
   ]
  },
  {
   "cell_type": "code",
   "execution_count": 77,
   "metadata": {},
   "outputs": [
    {
     "data": {
      "text/html": [
       "<div>\n",
       "<style scoped>\n",
       "    .dataframe tbody tr th:only-of-type {\n",
       "        vertical-align: middle;\n",
       "    }\n",
       "\n",
       "    .dataframe tbody tr th {\n",
       "        vertical-align: top;\n",
       "    }\n",
       "\n",
       "    .dataframe thead th {\n",
       "        text-align: right;\n",
       "    }\n",
       "</style>\n",
       "<table border=\"1\" class=\"dataframe\">\n",
       "  <thead>\n",
       "    <tr style=\"text-align: right;\">\n",
       "      <th></th>\n",
       "      <th>0</th>\n",
       "    </tr>\n",
       "  </thead>\n",
       "  <tbody>\n",
       "    <tr>\n",
       "      <th>fit_time</th>\n",
       "      <td>0.395118</td>\n",
       "    </tr>\n",
       "    <tr>\n",
       "      <th>score_time</th>\n",
       "      <td>0.023188</td>\n",
       "    </tr>\n",
       "    <tr>\n",
       "      <th>test_recall</th>\n",
       "      <td>0.849057</td>\n",
       "    </tr>\n",
       "    <tr>\n",
       "      <th>train_recall</th>\n",
       "      <td>1.000000</td>\n",
       "    </tr>\n",
       "    <tr>\n",
       "      <th>test_accuracy</th>\n",
       "      <td>0.986874</td>\n",
       "    </tr>\n",
       "    <tr>\n",
       "      <th>train_accuracy</th>\n",
       "      <td>1.000000</td>\n",
       "    </tr>\n",
       "    <tr>\n",
       "      <th>test_f1</th>\n",
       "      <td>0.891089</td>\n",
       "    </tr>\n",
       "    <tr>\n",
       "      <th>train_f1</th>\n",
       "      <td>1.000000</td>\n",
       "    </tr>\n",
       "    <tr>\n",
       "      <th>test_roc_auc</th>\n",
       "      <td>0.983932</td>\n",
       "    </tr>\n",
       "    <tr>\n",
       "      <th>train_roc_auc</th>\n",
       "      <td>1.000000</td>\n",
       "    </tr>\n",
       "  </tbody>\n",
       "</table>\n",
       "</div>"
      ],
      "text/plain": [
       "                       0\n",
       "fit_time        0.395118\n",
       "score_time      0.023188\n",
       "test_recall     0.849057\n",
       "train_recall    1.000000\n",
       "test_accuracy   0.986874\n",
       "train_accuracy  1.000000\n",
       "test_f1         0.891089\n",
       "train_f1        1.000000\n",
       "test_roc_auc    0.983932\n",
       "train_roc_auc   1.000000"
      ]
     },
     "execution_count": 77,
     "metadata": {},
     "output_type": "execute_result"
    }
   ],
   "source": [
    "#### Cross Validation\n",
    "\n",
    "av_df5 = CrossValidation(AdaModel_RF_PCA,nathan_proj_features,labels)\n",
    "av_df5"
   ]
  },
  {
   "cell_type": "code",
   "execution_count": 78,
   "metadata": {
    "ExecuteTime": {
     "end_time": "2020-06-10T01:46:53.452000Z",
     "start_time": "2020-06-10T01:41:32.738950Z"
    }
   },
   "outputs": [
    {
     "name": "stdout",
     "output_type": "stream",
     "text": [
      "\u001b[1mConfusion Matrix\u001b[0m\n",
      "[[1189    0]\n",
      " [   7   61]]\n",
      "\u001b[1m\n",
      "Recall\u001b[0m\n",
      "0.8970588235294118\n",
      "\u001b[1m\n",
      "Accuracy\u001b[0m\n",
      "0.994431185361973\n",
      "\u001b[1m\n",
      "F1 Score\u001b[0m\n",
      "0.9457364341085273\n",
      "\u001b[1m\n",
      "ROC AUC Score\u001b[0m\n",
      "0.9485294117647058\n"
     ]
    }
   ],
   "source": [
    "### Ada Boost [WITHOUT] PCA using Random Forests\n",
    "\n",
    "#########################################################################\n",
    "#\n",
    "# Ada Boost with PCA using Random Forests\n",
    "#\n",
    "#########################################################################\n",
    "# Train Ada Boost model using PC transformed Morgan features\n",
    "\n",
    "# n_estimators -> number of weak learners to train iteratively\n",
    "# learning_rate -> It contributes to the weight of weak learners. It uses 1 as a default value\n",
    "from sklearn.ensemble import RandomForestClassifier\n",
    "\n",
    "rf = RandomForestClassifier(n_estimators = 100,criterion='gini',bootstrap = True, warm_start = False)\n",
    "\n",
    "AdaModel_RF_ = AdaBoostClassifier(n_estimators = 100,base_estimator = rf ,learning_rate = 1)\n",
    "RF = AdaModel_RF_.fit(nathan_train,label_train)\n",
    "pred6 = RF.predict(nathan_test)\n",
    "\n",
    "#### Scores\n",
    "\n",
    "Scores6 = Output(pred6,label_test)\n",
    "Scores6\n"
   ]
  },
  {
   "cell_type": "code",
   "execution_count": 79,
   "metadata": {},
   "outputs": [
    {
     "data": {
      "text/html": [
       "<div>\n",
       "<style scoped>\n",
       "    .dataframe tbody tr th:only-of-type {\n",
       "        vertical-align: middle;\n",
       "    }\n",
       "\n",
       "    .dataframe tbody tr th {\n",
       "        vertical-align: top;\n",
       "    }\n",
       "\n",
       "    .dataframe thead th {\n",
       "        text-align: right;\n",
       "    }\n",
       "</style>\n",
       "<table border=\"1\" class=\"dataframe\">\n",
       "  <thead>\n",
       "    <tr style=\"text-align: right;\">\n",
       "      <th></th>\n",
       "      <th>0</th>\n",
       "    </tr>\n",
       "  </thead>\n",
       "  <tbody>\n",
       "    <tr>\n",
       "      <th>fit_time</th>\n",
       "      <td>0.295200</td>\n",
       "    </tr>\n",
       "    <tr>\n",
       "      <th>score_time</th>\n",
       "      <td>0.025778</td>\n",
       "    </tr>\n",
       "    <tr>\n",
       "      <th>test_recall</th>\n",
       "      <td>0.849057</td>\n",
       "    </tr>\n",
       "    <tr>\n",
       "      <th>train_recall</th>\n",
       "      <td>1.000000</td>\n",
       "    </tr>\n",
       "    <tr>\n",
       "      <th>test_accuracy</th>\n",
       "      <td>0.988067</td>\n",
       "    </tr>\n",
       "    <tr>\n",
       "      <th>train_accuracy</th>\n",
       "      <td>1.000000</td>\n",
       "    </tr>\n",
       "    <tr>\n",
       "      <th>test_f1</th>\n",
       "      <td>0.900000</td>\n",
       "    </tr>\n",
       "    <tr>\n",
       "      <th>train_f1</th>\n",
       "      <td>1.000000</td>\n",
       "    </tr>\n",
       "    <tr>\n",
       "      <th>test_roc_auc</th>\n",
       "      <td>0.986889</td>\n",
       "    </tr>\n",
       "    <tr>\n",
       "      <th>train_roc_auc</th>\n",
       "      <td>1.000000</td>\n",
       "    </tr>\n",
       "  </tbody>\n",
       "</table>\n",
       "</div>"
      ],
      "text/plain": [
       "                       0\n",
       "fit_time        0.295200\n",
       "score_time      0.025778\n",
       "test_recall     0.849057\n",
       "train_recall    1.000000\n",
       "test_accuracy   0.988067\n",
       "train_accuracy  1.000000\n",
       "test_f1         0.900000\n",
       "train_f1        1.000000\n",
       "test_roc_auc    0.986889\n",
       "train_roc_auc   1.000000"
      ]
     },
     "execution_count": 79,
     "metadata": {},
     "output_type": "execute_result"
    }
   ],
   "source": [
    "#### Cross Validation\n",
    "\n",
    "av_df6 = CrossValidation(AdaModel_RF_,nathan_features,labels)\n",
    "av_df6"
   ]
  },
  {
   "cell_type": "code",
   "execution_count": 3,
   "metadata": {
    "ExecuteTime": {
     "end_time": "2020-06-10T18:24:56.879510Z",
     "start_time": "2020-06-10T18:24:56.860984Z"
    }
   },
   "outputs": [
    {
     "ename": "NameError",
     "evalue": "name 'pd' is not defined",
     "output_type": "error",
     "traceback": [
      "\u001b[1;31m---------------------------------------------------------------------------\u001b[0m",
      "\u001b[1;31mNameError\u001b[0m                                 Traceback (most recent call last)",
      "\u001b[1;32m<ipython-input-3-f320156035ea>\u001b[0m in \u001b[0;36m<module>\u001b[1;34m\u001b[0m\n\u001b[1;32m----> 1\u001b[1;33m \u001b[0mresult\u001b[0m \u001b[1;33m=\u001b[0m \u001b[0mpd\u001b[0m\u001b[1;33m.\u001b[0m\u001b[0mconcat\u001b[0m\u001b[1;33m(\u001b[0m\u001b[1;33m[\u001b[0m\u001b[0mav_df1\u001b[0m\u001b[1;33m,\u001b[0m \u001b[0mav_df2\u001b[0m\u001b[1;33m,\u001b[0m\u001b[0mav_df3\u001b[0m\u001b[1;33m,\u001b[0m\u001b[0mav_df4\u001b[0m\u001b[1;33m,\u001b[0m\u001b[0mav_df5\u001b[0m\u001b[1;33m,\u001b[0m\u001b[0mav_df6\u001b[0m\u001b[1;33m]\u001b[0m\u001b[1;33m,\u001b[0m \u001b[0maxis\u001b[0m\u001b[1;33m=\u001b[0m\u001b[1;36m1\u001b[0m\u001b[1;33m,\u001b[0m \u001b[0mjoin\u001b[0m\u001b[1;33m=\u001b[0m\u001b[1;34m'inner'\u001b[0m\u001b[1;33m)\u001b[0m\u001b[1;33m\u001b[0m\u001b[1;33m\u001b[0m\u001b[0m\n\u001b[0m\u001b[0;32m      2\u001b[0m \u001b[0mresult\u001b[0m\u001b[1;33m.\u001b[0m\u001b[0mcolumns\u001b[0m \u001b[1;33m=\u001b[0m \u001b[1;33m[\u001b[0m\u001b[1;34m'RF_PCA'\u001b[0m\u001b[1;33m,\u001b[0m\u001b[1;34m'RF_'\u001b[0m\u001b[1;33m,\u001b[0m\u001b[1;34m'C'\u001b[0m\u001b[1;33m,\u001b[0m\u001b[1;34m'D'\u001b[0m\u001b[1;33m,\u001b[0m\u001b[1;34m'E'\u001b[0m\u001b[1;33m,\u001b[0m\u001b[1;34m'F'\u001b[0m\u001b[1;33m]\u001b[0m\u001b[1;33m\u001b[0m\u001b[1;33m\u001b[0m\u001b[0m\n\u001b[0;32m      3\u001b[0m \u001b[0mresults\u001b[0m\u001b[1;33m\u001b[0m\u001b[1;33m\u001b[0m\u001b[0m\n",
      "\u001b[1;31mNameError\u001b[0m: name 'pd' is not defined"
     ]
    }
   ],
   "source": [
    "result = pd.concat([N_Model1_PCA, N_Model2_,N_Model3_PCA,N_Model4_,N_Model5_PCA,N_Model6_], axis=1, join='inner')\n",
    "result.columns = ['RF_PCA','RF_','C','D','E','F']\n",
    "results"
   ]
  },
  {
   "cell_type": "code",
   "execution_count": null,
   "metadata": {},
   "outputs": [],
   "source": []
  },
  {
   "cell_type": "code",
   "execution_count": null,
   "metadata": {},
   "outputs": [],
   "source": []
  },
  {
   "cell_type": "code",
   "execution_count": null,
   "metadata": {},
   "outputs": [],
   "source": []
  },
  {
   "cell_type": "code",
   "execution_count": null,
   "metadata": {},
   "outputs": [],
   "source": []
  }
 ],
 "metadata": {
  "hide_input": false,
  "kernelspec": {
   "display_name": "Python 3",
   "language": "python",
   "name": "python3"
  },
  "language_info": {
   "codemirror_mode": {
    "name": "ipython",
    "version": 3
   },
   "file_extension": ".py",
   "mimetype": "text/x-python",
   "name": "python",
   "nbconvert_exporter": "python",
   "pygments_lexer": "ipython3",
   "version": "3.7.3"
  }
 },
 "nbformat": 4,
 "nbformat_minor": 4
}
